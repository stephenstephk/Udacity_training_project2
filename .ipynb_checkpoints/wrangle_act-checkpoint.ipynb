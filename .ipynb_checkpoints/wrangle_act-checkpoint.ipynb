{
 "cells": [
  {
   "cell_type": "markdown",
   "id": "9e3da108",
   "metadata": {},
   "source": [
    "# Introduction "
   ]
  },
  {
   "cell_type": "markdown",
   "id": "52a35b12",
   "metadata": {},
   "source": [
    "Le but de ce projet est de collecter a partir de plusieur sources des informations sur les archives des tweets l’utilisateur de Twitter @dog_rates, également connu sous le nom de WeRateDogs.\n",
    "nous commencerons donc par collecter les donees ensuite nous procederons a l'evaluation pour determiner tout les probleme de des donees qu'ils soient d'ordre ou de qualite avant de proceder a leur netoyage pour sortir un dataframe propre afin de produire des visualisations."
   ]
  },
  {
   "cell_type": "code",
   "execution_count": 1,
   "id": "5c6c3fa8",
   "metadata": {},
   "outputs": [],
   "source": [
    "#Importation des package neccessaire pour l'analyse\n",
    "\n",
    "import pandas as pd\n",
    "import numpy as np \n",
    "import os \n",
    "import datetime as dt\n",
    "import requests as rt\n",
    "import json \n",
    "import tweepy \n",
    "import matplotlib.pyplot as plt\n",
    "%matplotlib inline"
   ]
  },
  {
   "cell_type": "markdown",
   "id": "fd6d2384",
   "metadata": {},
   "source": [
    "# 1. Collecte de la donnee(a partir de 3 sources)"
   ]
  },
  {
   "cell_type": "markdown",
   "id": "5436f170",
   "metadata": {},
   "source": [
    "## 1.1. donnees archives telecharges manuelement "
   ]
  },
  {
   "cell_type": "code",
   "execution_count": 2,
   "id": "11973f9d",
   "metadata": {},
   "outputs": [],
   "source": [
    "#chargement des de la donnee telecharge manuelement\n",
    "df_telecharge = pd.read_csv('twitter_archive_enhanced.csv')\n"
   ]
  },
  {
   "cell_type": "markdown",
   "id": "90853147",
   "metadata": {},
   "source": [
    "## 1.2. donnees a telecharger avec le module Requests"
   ]
  },
  {
   "cell_type": "code",
   "execution_count": 3,
   "id": "ffa3d7ef",
   "metadata": {},
   "outputs": [],
   "source": [
    "#Telechargement de image_prediction avec le module Requests\n",
    "\n",
    "#creation de dossier dossier pour sauvergarder le fichier\n",
    "dosier_prediction = 'prediction_image'\n",
    "if not os.path.exists(dosier_prediction):\n",
    "    os.makedirs(dosier_prediction)\n",
    "    \n",
    "url = 'https://d17h27t6h515a5.cloudfront.net/topher/2017/August/599fd2ad_image-predictions/image-predictions.tsv'\n",
    "\n",
    "response = rt.get(url)"
   ]
  },
  {
   "cell_type": "code",
   "execution_count": 4,
   "id": "160df512",
   "metadata": {},
   "outputs": [],
   "source": [
    "#lecture du fichier a partir du lien  \n",
    "with open(os.path.join(dosier_prediction,\n",
    "                      url.split('/')[-1]) , mode='wb') as file:\n",
    "    #Lecture du contenu\n",
    "    file.write(response.content)"
   ]
  },
  {
   "cell_type": "code",
   "execution_count": 5,
   "id": "4f38ba95",
   "metadata": {},
   "outputs": [],
   "source": [
    "#Charg,ent du dataframe image_prediction\n",
    "image_predictions_df = pd.read_csv('prediction_image/image-predictions.tsv' , sep = \"\\t\")"
   ]
  },
  {
   "cell_type": "markdown",
   "id": "6739f5f9",
   "metadata": {},
   "source": [
    "## 1.3. Donnees Additonelles avec l'API de twiter"
   ]
  },
  {
   "cell_type": "markdown",
   "id": "dc4f8237",
   "metadata": {},
   "source": [
    "### - code  pour l'autentification avec l'API"
   ]
  },
  {
   "cell_type": "code",
   "execution_count": 6,
   "id": "15f9b543",
   "metadata": {},
   "outputs": [
    {
     "data": {
      "text/plain": [
       "'\\nconsumerKey = \\'############################\\'\\nconsumerSecret = \\'############################\\'\\naccessToken = \\'############################\\'\\naccessTokenSecret = \\'############################\\'\\n\\n# Créer l\\'objet d\\'authentification\\nauth = tweepy.OAuthHandler(consumerKey, consumerSecret)\\n\\n# Parametrer le access token et le access token secret\\nauth.set_access_token(accessToken, accessTokenSecret)\\n\\n# Créer l\\'objet API en transmettant les informations d\\'authentification\\napi = tweepy.API(auth, wait_on_rate_limit= True)\\n\\n## Interrogation de l\\'api\\ncount = 0\\ndic_echoue = {}\\n\\n# Sauvegarder chaque Json comme une ligne dans le fichier fichier .txt \\nwith open(\\'tweet_json.txt\\', \\'w\\') as fichier_de_sortie:\\n\\n    for tweet_id in tweet_ids:\\n        count += 1\\n        print(str(count) + \": \" + str(tweet_id))\\n        try:\\n            tweet = api.get_status(tweet_id, tweet_mode=\\'extended\\')\\n            print(\"Success\")\\n            json.dump(tweet._json, fichier_de_sortie)\\n            fichier_de_sortie.write(\\'\\n\\')\\n        except tweepy.TweepError as e:\\n            print(\"Fail\")\\n            dic_echoue[tweet_id] = e\\n            pass\\nprint(dic_echoue)\\n'"
      ]
     },
     "execution_count": 6,
     "metadata": {},
     "output_type": "execute_result"
    }
   ],
   "source": [
    "\"\"\"\n",
    "consumerKey = '############################'\n",
    "consumerSecret = '############################'\n",
    "accessToken = '############################'\n",
    "accessTokenSecret = '############################'\n",
    "\n",
    "# Créer l'objet d'authentification\n",
    "auth = tweepy.OAuthHandler(consumerKey, consumerSecret)\n",
    "\n",
    "# Parametrer le access token et le access token secret\n",
    "auth.set_access_token(accessToken, accessTokenSecret)\n",
    "\n",
    "# Créer l'objet API en transmettant les informations d'authentification\n",
    "api = tweepy.API(auth, wait_on_rate_limit= True)\n",
    "\n",
    "## Interrogation de l'api\n",
    "count = 0\n",
    "dic_echoue = {}\n",
    "\n",
    "# Sauvegarder chaque Json comme une ligne dans le fichier fichier .txt \n",
    "with open('tweet_json.txt', 'w') as fichier_de_sortie:\n",
    "\n",
    "    for tweet_id in tweet_ids:\n",
    "        count += 1\n",
    "        print(str(count) + \": \" + str(tweet_id))\n",
    "        try:\n",
    "            tweet = api.get_status(tweet_id, tweet_mode='extended')\n",
    "            print(\"Success\")\n",
    "            json.dump(tweet._json, fichier_de_sortie)\n",
    "            fichier_de_sortie.write('\\n')\n",
    "        except tweepy.TweepError as e:\n",
    "            print(\"Fail\")\n",
    "            dic_echoue[tweet_id] = e\n",
    "            pass\n",
    "print(dic_echoue)\n",
    "\"\"\""
   ]
  },
  {
   "cell_type": "code",
   "execution_count": 7,
   "id": "cb6bb696",
   "metadata": {},
   "outputs": [],
   "source": [
    "#lecture du fichier tweet_Json \n",
    "df_list = []\n",
    "\n",
    "with open('tweet_json.txt') as fichier:\n",
    "    for line in fichier:\n",
    "        df_list.append(json.loads(line))"
   ]
  },
  {
   "cell_type": "code",
   "execution_count": 8,
   "id": "cfeffa4f",
   "metadata": {},
   "outputs": [],
   "source": [
    "#conversion en dataframe et suppression des collones non neccessaire pour l'analyse \n",
    "tweet_json_df = pd.DataFrame(df_list , columns = ['id' ,  'retweet_count'  ,'favorite_count','full_text']) "
   ]
  },
  {
   "cell_type": "code",
   "execution_count": 9,
   "id": "4e2aee11",
   "metadata": {},
   "outputs": [
    {
     "data": {
      "text/html": [
       "<div>\n",
       "<style scoped>\n",
       "    .dataframe tbody tr th:only-of-type {\n",
       "        vertical-align: middle;\n",
       "    }\n",
       "\n",
       "    .dataframe tbody tr th {\n",
       "        vertical-align: top;\n",
       "    }\n",
       "\n",
       "    .dataframe thead th {\n",
       "        text-align: right;\n",
       "    }\n",
       "</style>\n",
       "<table border=\"1\" class=\"dataframe\">\n",
       "  <thead>\n",
       "    <tr style=\"text-align: right;\">\n",
       "      <th></th>\n",
       "      <th>id</th>\n",
       "      <th>retweet_count</th>\n",
       "      <th>favorite_count</th>\n",
       "      <th>full_text</th>\n",
       "    </tr>\n",
       "  </thead>\n",
       "  <tbody>\n",
       "    <tr>\n",
       "      <th>0</th>\n",
       "      <td>892420643555336193</td>\n",
       "      <td>8853</td>\n",
       "      <td>39467</td>\n",
       "      <td>This is Phineas. He's a mystical boy. Only eve...</td>\n",
       "    </tr>\n",
       "    <tr>\n",
       "      <th>1</th>\n",
       "      <td>892177421306343426</td>\n",
       "      <td>6514</td>\n",
       "      <td>33819</td>\n",
       "      <td>This is Tilly. She's just checking pup on you....</td>\n",
       "    </tr>\n",
       "    <tr>\n",
       "      <th>2</th>\n",
       "      <td>891815181378084864</td>\n",
       "      <td>4328</td>\n",
       "      <td>25461</td>\n",
       "      <td>This is Archie. He is a rare Norwegian Pouncin...</td>\n",
       "    </tr>\n",
       "    <tr>\n",
       "      <th>3</th>\n",
       "      <td>891689557279858688</td>\n",
       "      <td>8964</td>\n",
       "      <td>42908</td>\n",
       "      <td>This is Darla. She commenced a snooze mid meal...</td>\n",
       "    </tr>\n",
       "    <tr>\n",
       "      <th>4</th>\n",
       "      <td>891327558926688256</td>\n",
       "      <td>9774</td>\n",
       "      <td>41048</td>\n",
       "      <td>This is Franklin. He would like you to stop ca...</td>\n",
       "    </tr>\n",
       "    <tr>\n",
       "      <th>...</th>\n",
       "      <td>...</td>\n",
       "      <td>...</td>\n",
       "      <td>...</td>\n",
       "      <td>...</td>\n",
       "    </tr>\n",
       "    <tr>\n",
       "      <th>2349</th>\n",
       "      <td>666049248165822465</td>\n",
       "      <td>41</td>\n",
       "      <td>111</td>\n",
       "      <td>Here we have a 1949 1st generation vulpix. Enj...</td>\n",
       "    </tr>\n",
       "    <tr>\n",
       "      <th>2350</th>\n",
       "      <td>666044226329800704</td>\n",
       "      <td>147</td>\n",
       "      <td>311</td>\n",
       "      <td>This is a purebred Piers Morgan. Loves to Netf...</td>\n",
       "    </tr>\n",
       "    <tr>\n",
       "      <th>2351</th>\n",
       "      <td>666033412701032449</td>\n",
       "      <td>47</td>\n",
       "      <td>128</td>\n",
       "      <td>Here is a very happy pup. Big fan of well-main...</td>\n",
       "    </tr>\n",
       "    <tr>\n",
       "      <th>2352</th>\n",
       "      <td>666029285002620928</td>\n",
       "      <td>48</td>\n",
       "      <td>132</td>\n",
       "      <td>This is a western brown Mitsubishi terrier. Up...</td>\n",
       "    </tr>\n",
       "    <tr>\n",
       "      <th>2353</th>\n",
       "      <td>666020888022790149</td>\n",
       "      <td>532</td>\n",
       "      <td>2535</td>\n",
       "      <td>Here we have a Japanese Irish Setter. Lost eye...</td>\n",
       "    </tr>\n",
       "  </tbody>\n",
       "</table>\n",
       "<p>2354 rows × 4 columns</p>\n",
       "</div>"
      ],
      "text/plain": [
       "                      id  retweet_count  favorite_count  \\\n",
       "0     892420643555336193           8853           39467   \n",
       "1     892177421306343426           6514           33819   \n",
       "2     891815181378084864           4328           25461   \n",
       "3     891689557279858688           8964           42908   \n",
       "4     891327558926688256           9774           41048   \n",
       "...                  ...            ...             ...   \n",
       "2349  666049248165822465             41             111   \n",
       "2350  666044226329800704            147             311   \n",
       "2351  666033412701032449             47             128   \n",
       "2352  666029285002620928             48             132   \n",
       "2353  666020888022790149            532            2535   \n",
       "\n",
       "                                              full_text  \n",
       "0     This is Phineas. He's a mystical boy. Only eve...  \n",
       "1     This is Tilly. She's just checking pup on you....  \n",
       "2     This is Archie. He is a rare Norwegian Pouncin...  \n",
       "3     This is Darla. She commenced a snooze mid meal...  \n",
       "4     This is Franklin. He would like you to stop ca...  \n",
       "...                                                 ...  \n",
       "2349  Here we have a 1949 1st generation vulpix. Enj...  \n",
       "2350  This is a purebred Piers Morgan. Loves to Netf...  \n",
       "2351  Here is a very happy pup. Big fan of well-main...  \n",
       "2352  This is a western brown Mitsubishi terrier. Up...  \n",
       "2353  Here we have a Japanese Irish Setter. Lost eye...  \n",
       "\n",
       "[2354 rows x 4 columns]"
      ]
     },
     "execution_count": 9,
     "metadata": {},
     "output_type": "execute_result"
    }
   ],
   "source": [
    "tweet_json_df"
   ]
  },
  {
   "cell_type": "markdown",
   "id": "44debacc",
   "metadata": {},
   "source": [
    "# 2. Évaluation des données"
   ]
  },
  {
   "cell_type": "markdown",
   "id": "60a0803b",
   "metadata": {},
   "source": [
    "### 2.1 Donnees telecharges manuelement "
   ]
  },
  {
   "cell_type": "code",
   "execution_count": 10,
   "id": "8e7ee384",
   "metadata": {},
   "outputs": [
    {
     "data": {
      "text/html": [
       "<div>\n",
       "<style scoped>\n",
       "    .dataframe tbody tr th:only-of-type {\n",
       "        vertical-align: middle;\n",
       "    }\n",
       "\n",
       "    .dataframe tbody tr th {\n",
       "        vertical-align: top;\n",
       "    }\n",
       "\n",
       "    .dataframe thead th {\n",
       "        text-align: right;\n",
       "    }\n",
       "</style>\n",
       "<table border=\"1\" class=\"dataframe\">\n",
       "  <thead>\n",
       "    <tr style=\"text-align: right;\">\n",
       "      <th></th>\n",
       "      <th>tweet_id</th>\n",
       "      <th>in_reply_to_status_id</th>\n",
       "      <th>in_reply_to_user_id</th>\n",
       "      <th>timestamp</th>\n",
       "      <th>source</th>\n",
       "      <th>text</th>\n",
       "      <th>retweeted_status_id</th>\n",
       "      <th>retweeted_status_user_id</th>\n",
       "      <th>retweeted_status_timestamp</th>\n",
       "      <th>expanded_urls</th>\n",
       "      <th>rating_numerator</th>\n",
       "      <th>rating_denominator</th>\n",
       "      <th>name</th>\n",
       "      <th>doggo</th>\n",
       "      <th>floofer</th>\n",
       "      <th>pupper</th>\n",
       "      <th>puppo</th>\n",
       "    </tr>\n",
       "  </thead>\n",
       "  <tbody>\n",
       "    <tr>\n",
       "      <th>0</th>\n",
       "      <td>892420643555336193</td>\n",
       "      <td>NaN</td>\n",
       "      <td>NaN</td>\n",
       "      <td>2017-08-01 16:23:56 +0000</td>\n",
       "      <td>&lt;a href=\"http://twitter.com/download/iphone\" r...</td>\n",
       "      <td>This is Phineas. He's a mystical boy. Only eve...</td>\n",
       "      <td>NaN</td>\n",
       "      <td>NaN</td>\n",
       "      <td>NaN</td>\n",
       "      <td>https://twitter.com/dog_rates/status/892420643...</td>\n",
       "      <td>13</td>\n",
       "      <td>10</td>\n",
       "      <td>Phineas</td>\n",
       "      <td>None</td>\n",
       "      <td>None</td>\n",
       "      <td>None</td>\n",
       "      <td>None</td>\n",
       "    </tr>\n",
       "    <tr>\n",
       "      <th>1</th>\n",
       "      <td>892177421306343426</td>\n",
       "      <td>NaN</td>\n",
       "      <td>NaN</td>\n",
       "      <td>2017-08-01 00:17:27 +0000</td>\n",
       "      <td>&lt;a href=\"http://twitter.com/download/iphone\" r...</td>\n",
       "      <td>This is Tilly. She's just checking pup on you....</td>\n",
       "      <td>NaN</td>\n",
       "      <td>NaN</td>\n",
       "      <td>NaN</td>\n",
       "      <td>https://twitter.com/dog_rates/status/892177421...</td>\n",
       "      <td>13</td>\n",
       "      <td>10</td>\n",
       "      <td>Tilly</td>\n",
       "      <td>None</td>\n",
       "      <td>None</td>\n",
       "      <td>None</td>\n",
       "      <td>None</td>\n",
       "    </tr>\n",
       "    <tr>\n",
       "      <th>2</th>\n",
       "      <td>891815181378084864</td>\n",
       "      <td>NaN</td>\n",
       "      <td>NaN</td>\n",
       "      <td>2017-07-31 00:18:03 +0000</td>\n",
       "      <td>&lt;a href=\"http://twitter.com/download/iphone\" r...</td>\n",
       "      <td>This is Archie. He is a rare Norwegian Pouncin...</td>\n",
       "      <td>NaN</td>\n",
       "      <td>NaN</td>\n",
       "      <td>NaN</td>\n",
       "      <td>https://twitter.com/dog_rates/status/891815181...</td>\n",
       "      <td>12</td>\n",
       "      <td>10</td>\n",
       "      <td>Archie</td>\n",
       "      <td>None</td>\n",
       "      <td>None</td>\n",
       "      <td>None</td>\n",
       "      <td>None</td>\n",
       "    </tr>\n",
       "    <tr>\n",
       "      <th>3</th>\n",
       "      <td>891689557279858688</td>\n",
       "      <td>NaN</td>\n",
       "      <td>NaN</td>\n",
       "      <td>2017-07-30 15:58:51 +0000</td>\n",
       "      <td>&lt;a href=\"http://twitter.com/download/iphone\" r...</td>\n",
       "      <td>This is Darla. She commenced a snooze mid meal...</td>\n",
       "      <td>NaN</td>\n",
       "      <td>NaN</td>\n",
       "      <td>NaN</td>\n",
       "      <td>https://twitter.com/dog_rates/status/891689557...</td>\n",
       "      <td>13</td>\n",
       "      <td>10</td>\n",
       "      <td>Darla</td>\n",
       "      <td>None</td>\n",
       "      <td>None</td>\n",
       "      <td>None</td>\n",
       "      <td>None</td>\n",
       "    </tr>\n",
       "    <tr>\n",
       "      <th>4</th>\n",
       "      <td>891327558926688256</td>\n",
       "      <td>NaN</td>\n",
       "      <td>NaN</td>\n",
       "      <td>2017-07-29 16:00:24 +0000</td>\n",
       "      <td>&lt;a href=\"http://twitter.com/download/iphone\" r...</td>\n",
       "      <td>This is Franklin. He would like you to stop ca...</td>\n",
       "      <td>NaN</td>\n",
       "      <td>NaN</td>\n",
       "      <td>NaN</td>\n",
       "      <td>https://twitter.com/dog_rates/status/891327558...</td>\n",
       "      <td>12</td>\n",
       "      <td>10</td>\n",
       "      <td>Franklin</td>\n",
       "      <td>None</td>\n",
       "      <td>None</td>\n",
       "      <td>None</td>\n",
       "      <td>None</td>\n",
       "    </tr>\n",
       "  </tbody>\n",
       "</table>\n",
       "</div>"
      ],
      "text/plain": [
       "             tweet_id  in_reply_to_status_id  in_reply_to_user_id  \\\n",
       "0  892420643555336193                    NaN                  NaN   \n",
       "1  892177421306343426                    NaN                  NaN   \n",
       "2  891815181378084864                    NaN                  NaN   \n",
       "3  891689557279858688                    NaN                  NaN   \n",
       "4  891327558926688256                    NaN                  NaN   \n",
       "\n",
       "                   timestamp  \\\n",
       "0  2017-08-01 16:23:56 +0000   \n",
       "1  2017-08-01 00:17:27 +0000   \n",
       "2  2017-07-31 00:18:03 +0000   \n",
       "3  2017-07-30 15:58:51 +0000   \n",
       "4  2017-07-29 16:00:24 +0000   \n",
       "\n",
       "                                              source  \\\n",
       "0  <a href=\"http://twitter.com/download/iphone\" r...   \n",
       "1  <a href=\"http://twitter.com/download/iphone\" r...   \n",
       "2  <a href=\"http://twitter.com/download/iphone\" r...   \n",
       "3  <a href=\"http://twitter.com/download/iphone\" r...   \n",
       "4  <a href=\"http://twitter.com/download/iphone\" r...   \n",
       "\n",
       "                                                text  retweeted_status_id  \\\n",
       "0  This is Phineas. He's a mystical boy. Only eve...                  NaN   \n",
       "1  This is Tilly. She's just checking pup on you....                  NaN   \n",
       "2  This is Archie. He is a rare Norwegian Pouncin...                  NaN   \n",
       "3  This is Darla. She commenced a snooze mid meal...                  NaN   \n",
       "4  This is Franklin. He would like you to stop ca...                  NaN   \n",
       "\n",
       "   retweeted_status_user_id retweeted_status_timestamp  \\\n",
       "0                       NaN                        NaN   \n",
       "1                       NaN                        NaN   \n",
       "2                       NaN                        NaN   \n",
       "3                       NaN                        NaN   \n",
       "4                       NaN                        NaN   \n",
       "\n",
       "                                       expanded_urls  rating_numerator  \\\n",
       "0  https://twitter.com/dog_rates/status/892420643...                13   \n",
       "1  https://twitter.com/dog_rates/status/892177421...                13   \n",
       "2  https://twitter.com/dog_rates/status/891815181...                12   \n",
       "3  https://twitter.com/dog_rates/status/891689557...                13   \n",
       "4  https://twitter.com/dog_rates/status/891327558...                12   \n",
       "\n",
       "   rating_denominator      name doggo floofer pupper puppo  \n",
       "0                  10   Phineas  None    None   None  None  \n",
       "1                  10     Tilly  None    None   None  None  \n",
       "2                  10    Archie  None    None   None  None  \n",
       "3                  10     Darla  None    None   None  None  \n",
       "4                  10  Franklin  None    None   None  None  "
      ]
     },
     "execution_count": 10,
     "metadata": {},
     "output_type": "execute_result"
    }
   ],
   "source": [
    "#Visualisation des 5 premiere lignes de la donnee telecharge\n",
    "df_telecharge.head(5)"
   ]
  },
  {
   "cell_type": "code",
   "execution_count": 11,
   "id": "54600d41",
   "metadata": {},
   "outputs": [
    {
     "data": {
      "text/plain": [
       "(2356, 17)"
      ]
     },
     "execution_count": 11,
     "metadata": {},
     "output_type": "execute_result"
    }
   ],
   "source": [
    "# shape du dataframe\n",
    "df_telecharge.shape"
   ]
  },
  {
   "cell_type": "code",
   "execution_count": 12,
   "id": "016de644",
   "metadata": {},
   "outputs": [
    {
     "data": {
      "text/plain": [
       "['tweet_id',\n",
       " 'in_reply_to_status_id',\n",
       " 'in_reply_to_user_id',\n",
       " 'timestamp',\n",
       " 'source',\n",
       " 'text',\n",
       " 'retweeted_status_id',\n",
       " 'retweeted_status_user_id',\n",
       " 'retweeted_status_timestamp',\n",
       " 'expanded_urls',\n",
       " 'rating_numerator',\n",
       " 'rating_denominator',\n",
       " 'name',\n",
       " 'doggo',\n",
       " 'floofer',\n",
       " 'pupper',\n",
       " 'puppo']"
      ]
     },
     "execution_count": 12,
     "metadata": {},
     "output_type": "execute_result"
    }
   ],
   "source": [
    "#Voyons les differentes variables du dataframe\n",
    "df_telecharge.columns.to_list()"
   ]
  },
  {
   "cell_type": "code",
   "execution_count": 13,
   "id": "118efdda",
   "metadata": {},
   "outputs": [
    {
     "data": {
      "text/html": [
       "<div>\n",
       "<style scoped>\n",
       "    .dataframe tbody tr th:only-of-type {\n",
       "        vertical-align: middle;\n",
       "    }\n",
       "\n",
       "    .dataframe tbody tr th {\n",
       "        vertical-align: top;\n",
       "    }\n",
       "\n",
       "    .dataframe thead th {\n",
       "        text-align: right;\n",
       "    }\n",
       "</style>\n",
       "<table border=\"1\" class=\"dataframe\">\n",
       "  <thead>\n",
       "    <tr style=\"text-align: right;\">\n",
       "      <th></th>\n",
       "      <th>tweet_id</th>\n",
       "      <th>in_reply_to_status_id</th>\n",
       "      <th>in_reply_to_user_id</th>\n",
       "      <th>timestamp</th>\n",
       "      <th>source</th>\n",
       "      <th>text</th>\n",
       "      <th>retweeted_status_id</th>\n",
       "      <th>retweeted_status_user_id</th>\n",
       "      <th>retweeted_status_timestamp</th>\n",
       "      <th>expanded_urls</th>\n",
       "      <th>rating_numerator</th>\n",
       "      <th>rating_denominator</th>\n",
       "      <th>name</th>\n",
       "      <th>doggo</th>\n",
       "      <th>floofer</th>\n",
       "      <th>pupper</th>\n",
       "      <th>puppo</th>\n",
       "    </tr>\n",
       "  </thead>\n",
       "  <tbody>\n",
       "    <tr>\n",
       "      <th>1559</th>\n",
       "      <td>688547210804498433</td>\n",
       "      <td>NaN</td>\n",
       "      <td>NaN</td>\n",
       "      <td>2016-01-17 02:23:42 +0000</td>\n",
       "      <td>&lt;a href=\"http://twitter.com/download/iphone\" r...</td>\n",
       "      <td>This is Frönq. He got caught stealing a waffle...</td>\n",
       "      <td>NaN</td>\n",
       "      <td>NaN</td>\n",
       "      <td>NaN</td>\n",
       "      <td>https://twitter.com/dog_rates/status/688547210...</td>\n",
       "      <td>9</td>\n",
       "      <td>10</td>\n",
       "      <td>Frönq</td>\n",
       "      <td>None</td>\n",
       "      <td>None</td>\n",
       "      <td>None</td>\n",
       "      <td>None</td>\n",
       "    </tr>\n",
       "    <tr>\n",
       "      <th>1593</th>\n",
       "      <td>686386521809772549</td>\n",
       "      <td>NaN</td>\n",
       "      <td>NaN</td>\n",
       "      <td>2016-01-11 03:17:53 +0000</td>\n",
       "      <td>&lt;a href=\"http://twitter.com/download/iphone\" r...</td>\n",
       "      <td>Say hello to Crimson. He's a Speckled Winnebag...</td>\n",
       "      <td>NaN</td>\n",
       "      <td>NaN</td>\n",
       "      <td>NaN</td>\n",
       "      <td>https://twitter.com/dog_rates/status/686386521...</td>\n",
       "      <td>11</td>\n",
       "      <td>10</td>\n",
       "      <td>Crimson</td>\n",
       "      <td>None</td>\n",
       "      <td>None</td>\n",
       "      <td>None</td>\n",
       "      <td>None</td>\n",
       "    </tr>\n",
       "    <tr>\n",
       "      <th>843</th>\n",
       "      <td>766714921925144576</td>\n",
       "      <td>7.667118e+17</td>\n",
       "      <td>4.196984e+09</td>\n",
       "      <td>2016-08-19 19:14:16 +0000</td>\n",
       "      <td>&lt;a href=\"http://twitter.com/download/iphone\" r...</td>\n",
       "      <td>His name is Charley and he already has a new s...</td>\n",
       "      <td>NaN</td>\n",
       "      <td>NaN</td>\n",
       "      <td>NaN</td>\n",
       "      <td>NaN</td>\n",
       "      <td>13</td>\n",
       "      <td>10</td>\n",
       "      <td>None</td>\n",
       "      <td>None</td>\n",
       "      <td>None</td>\n",
       "      <td>None</td>\n",
       "      <td>None</td>\n",
       "    </tr>\n",
       "    <tr>\n",
       "      <th>1806</th>\n",
       "      <td>676936541936185344</td>\n",
       "      <td>NaN</td>\n",
       "      <td>NaN</td>\n",
       "      <td>2015-12-16 01:27:03 +0000</td>\n",
       "      <td>&lt;a href=\"http://twitter.com/download/iphone\" r...</td>\n",
       "      <td>Here we see a rare pouched pupper. Ample stora...</td>\n",
       "      <td>NaN</td>\n",
       "      <td>NaN</td>\n",
       "      <td>NaN</td>\n",
       "      <td>https://twitter.com/dog_rates/status/676936541...</td>\n",
       "      <td>8</td>\n",
       "      <td>10</td>\n",
       "      <td>None</td>\n",
       "      <td>None</td>\n",
       "      <td>None</td>\n",
       "      <td>pupper</td>\n",
       "      <td>None</td>\n",
       "    </tr>\n",
       "    <tr>\n",
       "      <th>309</th>\n",
       "      <td>835536468978302976</td>\n",
       "      <td>NaN</td>\n",
       "      <td>NaN</td>\n",
       "      <td>2017-02-25 17:06:32 +0000</td>\n",
       "      <td>&lt;a href=\"http://twitter.com/download/iphone\" r...</td>\n",
       "      <td>RT @dog_rates: Meet Lola. Her hobbies include ...</td>\n",
       "      <td>8.352641e+17</td>\n",
       "      <td>4.196984e+09</td>\n",
       "      <td>2017-02-24 23:04:14 +0000</td>\n",
       "      <td>https://www.gofundme.com/lolas-life-saving-sur...</td>\n",
       "      <td>12</td>\n",
       "      <td>10</td>\n",
       "      <td>Lola</td>\n",
       "      <td>None</td>\n",
       "      <td>None</td>\n",
       "      <td>None</td>\n",
       "      <td>None</td>\n",
       "    </tr>\n",
       "  </tbody>\n",
       "</table>\n",
       "</div>"
      ],
      "text/plain": [
       "                tweet_id  in_reply_to_status_id  in_reply_to_user_id  \\\n",
       "1559  688547210804498433                    NaN                  NaN   \n",
       "1593  686386521809772549                    NaN                  NaN   \n",
       "843   766714921925144576           7.667118e+17         4.196984e+09   \n",
       "1806  676936541936185344                    NaN                  NaN   \n",
       "309   835536468978302976                    NaN                  NaN   \n",
       "\n",
       "                      timestamp  \\\n",
       "1559  2016-01-17 02:23:42 +0000   \n",
       "1593  2016-01-11 03:17:53 +0000   \n",
       "843   2016-08-19 19:14:16 +0000   \n",
       "1806  2015-12-16 01:27:03 +0000   \n",
       "309   2017-02-25 17:06:32 +0000   \n",
       "\n",
       "                                                 source  \\\n",
       "1559  <a href=\"http://twitter.com/download/iphone\" r...   \n",
       "1593  <a href=\"http://twitter.com/download/iphone\" r...   \n",
       "843   <a href=\"http://twitter.com/download/iphone\" r...   \n",
       "1806  <a href=\"http://twitter.com/download/iphone\" r...   \n",
       "309   <a href=\"http://twitter.com/download/iphone\" r...   \n",
       "\n",
       "                                                   text  retweeted_status_id  \\\n",
       "1559  This is Frönq. He got caught stealing a waffle...                  NaN   \n",
       "1593  Say hello to Crimson. He's a Speckled Winnebag...                  NaN   \n",
       "843   His name is Charley and he already has a new s...                  NaN   \n",
       "1806  Here we see a rare pouched pupper. Ample stora...                  NaN   \n",
       "309   RT @dog_rates: Meet Lola. Her hobbies include ...         8.352641e+17   \n",
       "\n",
       "      retweeted_status_user_id retweeted_status_timestamp  \\\n",
       "1559                       NaN                        NaN   \n",
       "1593                       NaN                        NaN   \n",
       "843                        NaN                        NaN   \n",
       "1806                       NaN                        NaN   \n",
       "309               4.196984e+09  2017-02-24 23:04:14 +0000   \n",
       "\n",
       "                                          expanded_urls  rating_numerator  \\\n",
       "1559  https://twitter.com/dog_rates/status/688547210...                 9   \n",
       "1593  https://twitter.com/dog_rates/status/686386521...                11   \n",
       "843                                                 NaN                13   \n",
       "1806  https://twitter.com/dog_rates/status/676936541...                 8   \n",
       "309   https://www.gofundme.com/lolas-life-saving-sur...                12   \n",
       "\n",
       "      rating_denominator     name doggo floofer  pupper puppo  \n",
       "1559                  10    Frönq  None    None    None  None  \n",
       "1593                  10  Crimson  None    None    None  None  \n",
       "843                   10     None  None    None    None  None  \n",
       "1806                  10     None  None    None  pupper  None  \n",
       "309                   10     Lola  None    None    None  None  "
      ]
     },
     "execution_count": 13,
     "metadata": {},
     "output_type": "execute_result"
    }
   ],
   "source": [
    "#Visualisation des lignes au hasard dans le dataset\n",
    "df_telecharge.sample(5)"
   ]
  },
  {
   "cell_type": "code",
   "execution_count": 14,
   "id": "501e8904",
   "metadata": {},
   "outputs": [
    {
     "name": "stdout",
     "output_type": "stream",
     "text": [
      "<class 'pandas.core.frame.DataFrame'>\n",
      "RangeIndex: 2356 entries, 0 to 2355\n",
      "Data columns (total 17 columns):\n",
      " #   Column                      Non-Null Count  Dtype  \n",
      "---  ------                      --------------  -----  \n",
      " 0   tweet_id                    2356 non-null   int64  \n",
      " 1   in_reply_to_status_id       78 non-null     float64\n",
      " 2   in_reply_to_user_id         78 non-null     float64\n",
      " 3   timestamp                   2356 non-null   object \n",
      " 4   source                      2356 non-null   object \n",
      " 5   text                        2356 non-null   object \n",
      " 6   retweeted_status_id         181 non-null    float64\n",
      " 7   retweeted_status_user_id    181 non-null    float64\n",
      " 8   retweeted_status_timestamp  181 non-null    object \n",
      " 9   expanded_urls               2297 non-null   object \n",
      " 10  rating_numerator            2356 non-null   int64  \n",
      " 11  rating_denominator          2356 non-null   int64  \n",
      " 12  name                        2356 non-null   object \n",
      " 13  doggo                       2356 non-null   object \n",
      " 14  floofer                     2356 non-null   object \n",
      " 15  pupper                      2356 non-null   object \n",
      " 16  puppo                       2356 non-null   object \n",
      "dtypes: float64(4), int64(3), object(10)\n",
      "memory usage: 313.0+ KB\n"
     ]
    }
   ],
   "source": [
    "#Voyons voir les types des donees avec la fonction info de pandas\n",
    "df_telecharge.info()"
   ]
  },
  {
   "cell_type": "code",
   "execution_count": 15,
   "id": "10d823dd",
   "metadata": {},
   "outputs": [
    {
     "data": {
      "text/html": [
       "<div>\n",
       "<style scoped>\n",
       "    .dataframe tbody tr th:only-of-type {\n",
       "        vertical-align: middle;\n",
       "    }\n",
       "\n",
       "    .dataframe tbody tr th {\n",
       "        vertical-align: top;\n",
       "    }\n",
       "\n",
       "    .dataframe thead th {\n",
       "        text-align: right;\n",
       "    }\n",
       "</style>\n",
       "<table border=\"1\" class=\"dataframe\">\n",
       "  <thead>\n",
       "    <tr style=\"text-align: right;\">\n",
       "      <th></th>\n",
       "      <th>tweet_id</th>\n",
       "      <th>in_reply_to_status_id</th>\n",
       "      <th>in_reply_to_user_id</th>\n",
       "      <th>retweeted_status_id</th>\n",
       "      <th>retweeted_status_user_id</th>\n",
       "      <th>rating_numerator</th>\n",
       "      <th>rating_denominator</th>\n",
       "    </tr>\n",
       "  </thead>\n",
       "  <tbody>\n",
       "    <tr>\n",
       "      <th>count</th>\n",
       "      <td>2.356000e+03</td>\n",
       "      <td>7.800000e+01</td>\n",
       "      <td>7.800000e+01</td>\n",
       "      <td>1.810000e+02</td>\n",
       "      <td>1.810000e+02</td>\n",
       "      <td>2356.000000</td>\n",
       "      <td>2356.000000</td>\n",
       "    </tr>\n",
       "    <tr>\n",
       "      <th>mean</th>\n",
       "      <td>7.427716e+17</td>\n",
       "      <td>7.455079e+17</td>\n",
       "      <td>2.014171e+16</td>\n",
       "      <td>7.720400e+17</td>\n",
       "      <td>1.241698e+16</td>\n",
       "      <td>13.126486</td>\n",
       "      <td>10.455433</td>\n",
       "    </tr>\n",
       "    <tr>\n",
       "      <th>std</th>\n",
       "      <td>6.856705e+16</td>\n",
       "      <td>7.582492e+16</td>\n",
       "      <td>1.252797e+17</td>\n",
       "      <td>6.236928e+16</td>\n",
       "      <td>9.599254e+16</td>\n",
       "      <td>45.876648</td>\n",
       "      <td>6.745237</td>\n",
       "    </tr>\n",
       "    <tr>\n",
       "      <th>min</th>\n",
       "      <td>6.660209e+17</td>\n",
       "      <td>6.658147e+17</td>\n",
       "      <td>1.185634e+07</td>\n",
       "      <td>6.661041e+17</td>\n",
       "      <td>7.832140e+05</td>\n",
       "      <td>0.000000</td>\n",
       "      <td>0.000000</td>\n",
       "    </tr>\n",
       "    <tr>\n",
       "      <th>25%</th>\n",
       "      <td>6.783989e+17</td>\n",
       "      <td>6.757419e+17</td>\n",
       "      <td>3.086374e+08</td>\n",
       "      <td>7.186315e+17</td>\n",
       "      <td>4.196984e+09</td>\n",
       "      <td>10.000000</td>\n",
       "      <td>10.000000</td>\n",
       "    </tr>\n",
       "    <tr>\n",
       "      <th>50%</th>\n",
       "      <td>7.196279e+17</td>\n",
       "      <td>7.038708e+17</td>\n",
       "      <td>4.196984e+09</td>\n",
       "      <td>7.804657e+17</td>\n",
       "      <td>4.196984e+09</td>\n",
       "      <td>11.000000</td>\n",
       "      <td>10.000000</td>\n",
       "    </tr>\n",
       "    <tr>\n",
       "      <th>75%</th>\n",
       "      <td>7.993373e+17</td>\n",
       "      <td>8.257804e+17</td>\n",
       "      <td>4.196984e+09</td>\n",
       "      <td>8.203146e+17</td>\n",
       "      <td>4.196984e+09</td>\n",
       "      <td>12.000000</td>\n",
       "      <td>10.000000</td>\n",
       "    </tr>\n",
       "    <tr>\n",
       "      <th>max</th>\n",
       "      <td>8.924206e+17</td>\n",
       "      <td>8.862664e+17</td>\n",
       "      <td>8.405479e+17</td>\n",
       "      <td>8.874740e+17</td>\n",
       "      <td>7.874618e+17</td>\n",
       "      <td>1776.000000</td>\n",
       "      <td>170.000000</td>\n",
       "    </tr>\n",
       "  </tbody>\n",
       "</table>\n",
       "</div>"
      ],
      "text/plain": [
       "           tweet_id  in_reply_to_status_id  in_reply_to_user_id  \\\n",
       "count  2.356000e+03           7.800000e+01         7.800000e+01   \n",
       "mean   7.427716e+17           7.455079e+17         2.014171e+16   \n",
       "std    6.856705e+16           7.582492e+16         1.252797e+17   \n",
       "min    6.660209e+17           6.658147e+17         1.185634e+07   \n",
       "25%    6.783989e+17           6.757419e+17         3.086374e+08   \n",
       "50%    7.196279e+17           7.038708e+17         4.196984e+09   \n",
       "75%    7.993373e+17           8.257804e+17         4.196984e+09   \n",
       "max    8.924206e+17           8.862664e+17         8.405479e+17   \n",
       "\n",
       "       retweeted_status_id  retweeted_status_user_id  rating_numerator  \\\n",
       "count         1.810000e+02              1.810000e+02       2356.000000   \n",
       "mean          7.720400e+17              1.241698e+16         13.126486   \n",
       "std           6.236928e+16              9.599254e+16         45.876648   \n",
       "min           6.661041e+17              7.832140e+05          0.000000   \n",
       "25%           7.186315e+17              4.196984e+09         10.000000   \n",
       "50%           7.804657e+17              4.196984e+09         11.000000   \n",
       "75%           8.203146e+17              4.196984e+09         12.000000   \n",
       "max           8.874740e+17              7.874618e+17       1776.000000   \n",
       "\n",
       "       rating_denominator  \n",
       "count         2356.000000  \n",
       "mean            10.455433  \n",
       "std              6.745237  \n",
       "min              0.000000  \n",
       "25%             10.000000  \n",
       "50%             10.000000  \n",
       "75%             10.000000  \n",
       "max            170.000000  "
      ]
     },
     "execution_count": 15,
     "metadata": {},
     "output_type": "execute_result"
    }
   ],
   "source": [
    "## Statistiques descriptives\n",
    "df_telecharge.describe()"
   ]
  },
  {
   "cell_type": "code",
   "execution_count": 16,
   "id": "51dbe2aa",
   "metadata": {},
   "outputs": [
    {
     "data": {
      "text/plain": [
       "tweet_id                         0\n",
       "in_reply_to_status_id         2278\n",
       "in_reply_to_user_id           2278\n",
       "timestamp                        0\n",
       "source                           0\n",
       "text                             0\n",
       "retweeted_status_id           2175\n",
       "retweeted_status_user_id      2175\n",
       "retweeted_status_timestamp    2175\n",
       "expanded_urls                   59\n",
       "rating_numerator                 0\n",
       "rating_denominator               0\n",
       "name                             0\n",
       "doggo                            0\n",
       "floofer                          0\n",
       "pupper                           0\n",
       "puppo                            0\n",
       "dtype: int64"
      ]
     },
     "execution_count": 16,
     "metadata": {},
     "output_type": "execute_result"
    }
   ],
   "source": [
    "# Visualisation des valeurs manquantes \n",
    "df_telecharge.isnull().sum()"
   ]
  },
  {
   "cell_type": "code",
   "execution_count": 17,
   "id": "d0fb505e",
   "metadata": {},
   "outputs": [
    {
     "data": {
      "text/plain": [
       "None          745\n",
       "a              55\n",
       "Charlie        12\n",
       "Cooper         11\n",
       "Lucy           11\n",
       "             ... \n",
       "Dex             1\n",
       "Ace             1\n",
       "Tayzie          1\n",
       "Grizzie         1\n",
       "Christoper      1\n",
       "Name: name, Length: 957, dtype: int64"
      ]
     },
     "execution_count": 17,
     "metadata": {},
     "output_type": "execute_result"
    }
   ],
   "source": [
    "# visualisation des occurences de chaque nom \n",
    "df_telecharge.name.value_counts()"
   ]
  },
  {
   "cell_type": "code",
   "execution_count": 18,
   "id": "9750a645",
   "metadata": {},
   "outputs": [
    {
     "data": {
      "text/plain": [
       "10     2333\n",
       "11        3\n",
       "50        3\n",
       "20        2\n",
       "80        2\n",
       "70        1\n",
       "7         1\n",
       "15        1\n",
       "150       1\n",
       "170       1\n",
       "0         1\n",
       "90        1\n",
       "40        1\n",
       "130       1\n",
       "110       1\n",
       "16        1\n",
       "120       1\n",
       "2         1\n",
       "Name: rating_denominator, dtype: int64"
      ]
     },
     "execution_count": 18,
     "metadata": {},
     "output_type": "execute_result"
    }
   ],
   "source": [
    "# les diifferentes valeurs que comporte la variable rating_denominator\n",
    "df_telecharge.rating_denominator.value_counts()"
   ]
  },
  {
   "cell_type": "code",
   "execution_count": 19,
   "id": "0c1f7d3c",
   "metadata": {},
   "outputs": [
    {
     "data": {
      "text/plain": [
       "12      558\n",
       "11      464\n",
       "10      461\n",
       "13      351\n",
       "9       158\n",
       "8       102\n",
       "7        55\n",
       "14       54\n",
       "5        37\n",
       "6        32\n",
       "3        19\n",
       "4        17\n",
       "2         9\n",
       "1         9\n",
       "75        2\n",
       "15        2\n",
       "420       2\n",
       "0         2\n",
       "80        1\n",
       "144       1\n",
       "17        1\n",
       "26        1\n",
       "20        1\n",
       "121       1\n",
       "143       1\n",
       "44        1\n",
       "60        1\n",
       "45        1\n",
       "50        1\n",
       "99        1\n",
       "204       1\n",
       "1776      1\n",
       "165       1\n",
       "666       1\n",
       "27        1\n",
       "182       1\n",
       "24        1\n",
       "960       1\n",
       "84        1\n",
       "88        1\n",
       "Name: rating_numerator, dtype: int64"
      ]
     },
     "execution_count": 19,
     "metadata": {},
     "output_type": "execute_result"
    }
   ],
   "source": [
    "# les diifferentes valeurs que comporte la variable rating_denominator\n",
    "df_telecharge.rating_numerator.value_counts()"
   ]
  },
  {
   "cell_type": "code",
   "execution_count": 20,
   "id": "4a251c8b",
   "metadata": {},
   "outputs": [
    {
     "data": {
      "text/plain": [
       "<a href=\"http://twitter.com/download/iphone\" rel=\"nofollow\">Twitter for iPhone</a>     2221\n",
       "<a href=\"http://vine.co\" rel=\"nofollow\">Vine - Make a Scene</a>                          91\n",
       "<a href=\"http://twitter.com\" rel=\"nofollow\">Twitter Web Client</a>                       33\n",
       "<a href=\"https://about.twitter.com/products/tweetdeck\" rel=\"nofollow\">TweetDeck</a>      11\n",
       "Name: source, dtype: int64"
      ]
     },
     "execution_count": 20,
     "metadata": {},
     "output_type": "execute_result"
    }
   ],
   "source": [
    "df_telecharge.source.value_counts()"
   ]
  },
  {
   "cell_type": "code",
   "execution_count": 21,
   "id": "fdb23b25",
   "metadata": {},
   "outputs": [
    {
     "data": {
      "text/plain": [
       "0"
      ]
     },
     "execution_count": 21,
     "metadata": {},
     "output_type": "execute_result"
    }
   ],
   "source": [
    "# Visualisation de valeurs dupliquees\n",
    "df_telecharge.duplicated().sum()"
   ]
  },
  {
   "cell_type": "markdown",
   "id": "4029e4ac",
   "metadata": {},
   "source": [
    "### 2.2 Donees scraper avec le module requests"
   ]
  },
  {
   "cell_type": "code",
   "execution_count": 22,
   "id": "49701356",
   "metadata": {},
   "outputs": [
    {
     "data": {
      "text/html": [
       "<div>\n",
       "<style scoped>\n",
       "    .dataframe tbody tr th:only-of-type {\n",
       "        vertical-align: middle;\n",
       "    }\n",
       "\n",
       "    .dataframe tbody tr th {\n",
       "        vertical-align: top;\n",
       "    }\n",
       "\n",
       "    .dataframe thead th {\n",
       "        text-align: right;\n",
       "    }\n",
       "</style>\n",
       "<table border=\"1\" class=\"dataframe\">\n",
       "  <thead>\n",
       "    <tr style=\"text-align: right;\">\n",
       "      <th></th>\n",
       "      <th>tweet_id</th>\n",
       "      <th>jpg_url</th>\n",
       "      <th>img_num</th>\n",
       "      <th>p1</th>\n",
       "      <th>p1_conf</th>\n",
       "      <th>p1_dog</th>\n",
       "      <th>p2</th>\n",
       "      <th>p2_conf</th>\n",
       "      <th>p2_dog</th>\n",
       "      <th>p3</th>\n",
       "      <th>p3_conf</th>\n",
       "      <th>p3_dog</th>\n",
       "    </tr>\n",
       "  </thead>\n",
       "  <tbody>\n",
       "    <tr>\n",
       "      <th>0</th>\n",
       "      <td>666020888022790149</td>\n",
       "      <td>https://pbs.twimg.com/media/CT4udn0WwAA0aMy.jpg</td>\n",
       "      <td>1</td>\n",
       "      <td>Welsh_springer_spaniel</td>\n",
       "      <td>0.465074</td>\n",
       "      <td>True</td>\n",
       "      <td>collie</td>\n",
       "      <td>0.156665</td>\n",
       "      <td>True</td>\n",
       "      <td>Shetland_sheepdog</td>\n",
       "      <td>0.061428</td>\n",
       "      <td>True</td>\n",
       "    </tr>\n",
       "    <tr>\n",
       "      <th>1</th>\n",
       "      <td>666029285002620928</td>\n",
       "      <td>https://pbs.twimg.com/media/CT42GRgUYAA5iDo.jpg</td>\n",
       "      <td>1</td>\n",
       "      <td>redbone</td>\n",
       "      <td>0.506826</td>\n",
       "      <td>True</td>\n",
       "      <td>miniature_pinscher</td>\n",
       "      <td>0.074192</td>\n",
       "      <td>True</td>\n",
       "      <td>Rhodesian_ridgeback</td>\n",
       "      <td>0.072010</td>\n",
       "      <td>True</td>\n",
       "    </tr>\n",
       "    <tr>\n",
       "      <th>2</th>\n",
       "      <td>666033412701032449</td>\n",
       "      <td>https://pbs.twimg.com/media/CT4521TWwAEvMyu.jpg</td>\n",
       "      <td>1</td>\n",
       "      <td>German_shepherd</td>\n",
       "      <td>0.596461</td>\n",
       "      <td>True</td>\n",
       "      <td>malinois</td>\n",
       "      <td>0.138584</td>\n",
       "      <td>True</td>\n",
       "      <td>bloodhound</td>\n",
       "      <td>0.116197</td>\n",
       "      <td>True</td>\n",
       "    </tr>\n",
       "    <tr>\n",
       "      <th>3</th>\n",
       "      <td>666044226329800704</td>\n",
       "      <td>https://pbs.twimg.com/media/CT5Dr8HUEAA-lEu.jpg</td>\n",
       "      <td>1</td>\n",
       "      <td>Rhodesian_ridgeback</td>\n",
       "      <td>0.408143</td>\n",
       "      <td>True</td>\n",
       "      <td>redbone</td>\n",
       "      <td>0.360687</td>\n",
       "      <td>True</td>\n",
       "      <td>miniature_pinscher</td>\n",
       "      <td>0.222752</td>\n",
       "      <td>True</td>\n",
       "    </tr>\n",
       "    <tr>\n",
       "      <th>4</th>\n",
       "      <td>666049248165822465</td>\n",
       "      <td>https://pbs.twimg.com/media/CT5IQmsXIAAKY4A.jpg</td>\n",
       "      <td>1</td>\n",
       "      <td>miniature_pinscher</td>\n",
       "      <td>0.560311</td>\n",
       "      <td>True</td>\n",
       "      <td>Rottweiler</td>\n",
       "      <td>0.243682</td>\n",
       "      <td>True</td>\n",
       "      <td>Doberman</td>\n",
       "      <td>0.154629</td>\n",
       "      <td>True</td>\n",
       "    </tr>\n",
       "  </tbody>\n",
       "</table>\n",
       "</div>"
      ],
      "text/plain": [
       "             tweet_id                                          jpg_url  \\\n",
       "0  666020888022790149  https://pbs.twimg.com/media/CT4udn0WwAA0aMy.jpg   \n",
       "1  666029285002620928  https://pbs.twimg.com/media/CT42GRgUYAA5iDo.jpg   \n",
       "2  666033412701032449  https://pbs.twimg.com/media/CT4521TWwAEvMyu.jpg   \n",
       "3  666044226329800704  https://pbs.twimg.com/media/CT5Dr8HUEAA-lEu.jpg   \n",
       "4  666049248165822465  https://pbs.twimg.com/media/CT5IQmsXIAAKY4A.jpg   \n",
       "\n",
       "   img_num                      p1   p1_conf  p1_dog                  p2  \\\n",
       "0        1  Welsh_springer_spaniel  0.465074    True              collie   \n",
       "1        1                 redbone  0.506826    True  miniature_pinscher   \n",
       "2        1         German_shepherd  0.596461    True            malinois   \n",
       "3        1     Rhodesian_ridgeback  0.408143    True             redbone   \n",
       "4        1      miniature_pinscher  0.560311    True          Rottweiler   \n",
       "\n",
       "    p2_conf  p2_dog                   p3   p3_conf  p3_dog  \n",
       "0  0.156665    True    Shetland_sheepdog  0.061428    True  \n",
       "1  0.074192    True  Rhodesian_ridgeback  0.072010    True  \n",
       "2  0.138584    True           bloodhound  0.116197    True  \n",
       "3  0.360687    True   miniature_pinscher  0.222752    True  \n",
       "4  0.243682    True             Doberman  0.154629    True  "
      ]
     },
     "execution_count": 22,
     "metadata": {},
     "output_type": "execute_result"
    }
   ],
   "source": [
    "#Nous repetons les memes choses pour les donnes de prediction\n",
    "image_predictions_df.head(5)"
   ]
  },
  {
   "cell_type": "code",
   "execution_count": 23,
   "id": "33ebece9",
   "metadata": {},
   "outputs": [
    {
     "data": {
      "text/plain": [
       "(2075, 12)"
      ]
     },
     "execution_count": 23,
     "metadata": {},
     "output_type": "execute_result"
    }
   ],
   "source": [
    "#shape\n",
    "image_predictions_df.shape"
   ]
  },
  {
   "cell_type": "code",
   "execution_count": 24,
   "id": "6fabfa75",
   "metadata": {},
   "outputs": [
    {
     "data": {
      "text/plain": [
       "['tweet_id',\n",
       " 'jpg_url',\n",
       " 'img_num',\n",
       " 'p1',\n",
       " 'p1_conf',\n",
       " 'p1_dog',\n",
       " 'p2',\n",
       " 'p2_conf',\n",
       " 'p2_dog',\n",
       " 'p3',\n",
       " 'p3_conf',\n",
       " 'p3_dog']"
      ]
     },
     "execution_count": 24,
     "metadata": {},
     "output_type": "execute_result"
    }
   ],
   "source": [
    "# Les collones de la data\n",
    "list(image_predictions_df.columns)"
   ]
  },
  {
   "cell_type": "code",
   "execution_count": 25,
   "id": "91bdbe2a",
   "metadata": {},
   "outputs": [
    {
     "name": "stdout",
     "output_type": "stream",
     "text": [
      "<class 'pandas.core.frame.DataFrame'>\n",
      "RangeIndex: 2075 entries, 0 to 2074\n",
      "Data columns (total 12 columns):\n",
      " #   Column    Non-Null Count  Dtype  \n",
      "---  ------    --------------  -----  \n",
      " 0   tweet_id  2075 non-null   int64  \n",
      " 1   jpg_url   2075 non-null   object \n",
      " 2   img_num   2075 non-null   int64  \n",
      " 3   p1        2075 non-null   object \n",
      " 4   p1_conf   2075 non-null   float64\n",
      " 5   p1_dog    2075 non-null   bool   \n",
      " 6   p2        2075 non-null   object \n",
      " 7   p2_conf   2075 non-null   float64\n",
      " 8   p2_dog    2075 non-null   bool   \n",
      " 9   p3        2075 non-null   object \n",
      " 10  p3_conf   2075 non-null   float64\n",
      " 11  p3_dog    2075 non-null   bool   \n",
      "dtypes: bool(3), float64(3), int64(2), object(4)\n",
      "memory usage: 152.1+ KB\n"
     ]
    }
   ],
   "source": [
    "image_predictions_df.info()"
   ]
  },
  {
   "cell_type": "code",
   "execution_count": 26,
   "id": "28bc1665",
   "metadata": {},
   "outputs": [
    {
     "data": {
      "text/html": [
       "<div>\n",
       "<style scoped>\n",
       "    .dataframe tbody tr th:only-of-type {\n",
       "        vertical-align: middle;\n",
       "    }\n",
       "\n",
       "    .dataframe tbody tr th {\n",
       "        vertical-align: top;\n",
       "    }\n",
       "\n",
       "    .dataframe thead th {\n",
       "        text-align: right;\n",
       "    }\n",
       "</style>\n",
       "<table border=\"1\" class=\"dataframe\">\n",
       "  <thead>\n",
       "    <tr style=\"text-align: right;\">\n",
       "      <th></th>\n",
       "      <th>tweet_id</th>\n",
       "      <th>img_num</th>\n",
       "      <th>p1_conf</th>\n",
       "      <th>p2_conf</th>\n",
       "      <th>p3_conf</th>\n",
       "    </tr>\n",
       "  </thead>\n",
       "  <tbody>\n",
       "    <tr>\n",
       "      <th>count</th>\n",
       "      <td>2.075000e+03</td>\n",
       "      <td>2075.000000</td>\n",
       "      <td>2075.000000</td>\n",
       "      <td>2.075000e+03</td>\n",
       "      <td>2.075000e+03</td>\n",
       "    </tr>\n",
       "    <tr>\n",
       "      <th>mean</th>\n",
       "      <td>7.384514e+17</td>\n",
       "      <td>1.203855</td>\n",
       "      <td>0.594548</td>\n",
       "      <td>1.345886e-01</td>\n",
       "      <td>6.032417e-02</td>\n",
       "    </tr>\n",
       "    <tr>\n",
       "      <th>std</th>\n",
       "      <td>6.785203e+16</td>\n",
       "      <td>0.561875</td>\n",
       "      <td>0.271174</td>\n",
       "      <td>1.006657e-01</td>\n",
       "      <td>5.090593e-02</td>\n",
       "    </tr>\n",
       "    <tr>\n",
       "      <th>min</th>\n",
       "      <td>6.660209e+17</td>\n",
       "      <td>1.000000</td>\n",
       "      <td>0.044333</td>\n",
       "      <td>1.011300e-08</td>\n",
       "      <td>1.740170e-10</td>\n",
       "    </tr>\n",
       "    <tr>\n",
       "      <th>25%</th>\n",
       "      <td>6.764835e+17</td>\n",
       "      <td>1.000000</td>\n",
       "      <td>0.364412</td>\n",
       "      <td>5.388625e-02</td>\n",
       "      <td>1.622240e-02</td>\n",
       "    </tr>\n",
       "    <tr>\n",
       "      <th>50%</th>\n",
       "      <td>7.119988e+17</td>\n",
       "      <td>1.000000</td>\n",
       "      <td>0.588230</td>\n",
       "      <td>1.181810e-01</td>\n",
       "      <td>4.944380e-02</td>\n",
       "    </tr>\n",
       "    <tr>\n",
       "      <th>75%</th>\n",
       "      <td>7.932034e+17</td>\n",
       "      <td>1.000000</td>\n",
       "      <td>0.843855</td>\n",
       "      <td>1.955655e-01</td>\n",
       "      <td>9.180755e-02</td>\n",
       "    </tr>\n",
       "    <tr>\n",
       "      <th>max</th>\n",
       "      <td>8.924206e+17</td>\n",
       "      <td>4.000000</td>\n",
       "      <td>1.000000</td>\n",
       "      <td>4.880140e-01</td>\n",
       "      <td>2.734190e-01</td>\n",
       "    </tr>\n",
       "  </tbody>\n",
       "</table>\n",
       "</div>"
      ],
      "text/plain": [
       "           tweet_id      img_num      p1_conf       p2_conf       p3_conf\n",
       "count  2.075000e+03  2075.000000  2075.000000  2.075000e+03  2.075000e+03\n",
       "mean   7.384514e+17     1.203855     0.594548  1.345886e-01  6.032417e-02\n",
       "std    6.785203e+16     0.561875     0.271174  1.006657e-01  5.090593e-02\n",
       "min    6.660209e+17     1.000000     0.044333  1.011300e-08  1.740170e-10\n",
       "25%    6.764835e+17     1.000000     0.364412  5.388625e-02  1.622240e-02\n",
       "50%    7.119988e+17     1.000000     0.588230  1.181810e-01  4.944380e-02\n",
       "75%    7.932034e+17     1.000000     0.843855  1.955655e-01  9.180755e-02\n",
       "max    8.924206e+17     4.000000     1.000000  4.880140e-01  2.734190e-01"
      ]
     },
     "execution_count": 26,
     "metadata": {},
     "output_type": "execute_result"
    }
   ],
   "source": [
    "image_predictions_df.describe()"
   ]
  },
  {
   "cell_type": "code",
   "execution_count": 27,
   "id": "dd3c3756",
   "metadata": {},
   "outputs": [
    {
     "data": {
      "text/plain": [
       "tweet_id    0\n",
       "jpg_url     0\n",
       "img_num     0\n",
       "p1          0\n",
       "p1_conf     0\n",
       "p1_dog      0\n",
       "p2          0\n",
       "p2_conf     0\n",
       "p2_dog      0\n",
       "p3          0\n",
       "p3_conf     0\n",
       "p3_dog      0\n",
       "dtype: int64"
      ]
     },
     "execution_count": 27,
     "metadata": {},
     "output_type": "execute_result"
    }
   ],
   "source": [
    "image_predictions_df.isnull().sum()"
   ]
  },
  {
   "cell_type": "code",
   "execution_count": 28,
   "id": "d1905af2",
   "metadata": {},
   "outputs": [
    {
     "data": {
      "text/plain": [
       "0"
      ]
     },
     "execution_count": 28,
     "metadata": {},
     "output_type": "execute_result"
    }
   ],
   "source": [
    "image_predictions_df.duplicated().sum()"
   ]
  },
  {
   "cell_type": "code",
   "execution_count": 29,
   "id": "56ec1360",
   "metadata": {},
   "outputs": [
    {
     "data": {
      "text/plain": [
       "array([1, 4, 2, 3], dtype=int64)"
      ]
     },
     "execution_count": 29,
     "metadata": {},
     "output_type": "execute_result"
    }
   ],
   "source": [
    "image_predictions_df.img_num.unique()"
   ]
  },
  {
   "cell_type": "code",
   "execution_count": 30,
   "id": "593c347b",
   "metadata": {},
   "outputs": [
    {
     "data": {
      "text/plain": [
       "numpy.int64"
      ]
     },
     "execution_count": 30,
     "metadata": {},
     "output_type": "execute_result"
    }
   ],
   "source": [
    "type(image_predictions_df.img_num[0])"
   ]
  },
  {
   "cell_type": "markdown",
   "id": "397cff20",
   "metadata": {},
   "source": [
    "### 2.3 donnees collectes avec L'API de tweeter"
   ]
  },
  {
   "cell_type": "code",
   "execution_count": 31,
   "id": "f5cf99c9",
   "metadata": {},
   "outputs": [
    {
     "data": {
      "text/html": [
       "<div>\n",
       "<style scoped>\n",
       "    .dataframe tbody tr th:only-of-type {\n",
       "        vertical-align: middle;\n",
       "    }\n",
       "\n",
       "    .dataframe tbody tr th {\n",
       "        vertical-align: top;\n",
       "    }\n",
       "\n",
       "    .dataframe thead th {\n",
       "        text-align: right;\n",
       "    }\n",
       "</style>\n",
       "<table border=\"1\" class=\"dataframe\">\n",
       "  <thead>\n",
       "    <tr style=\"text-align: right;\">\n",
       "      <th></th>\n",
       "      <th>id</th>\n",
       "      <th>retweet_count</th>\n",
       "      <th>favorite_count</th>\n",
       "      <th>full_text</th>\n",
       "    </tr>\n",
       "  </thead>\n",
       "  <tbody>\n",
       "    <tr>\n",
       "      <th>0</th>\n",
       "      <td>892420643555336193</td>\n",
       "      <td>8853</td>\n",
       "      <td>39467</td>\n",
       "      <td>This is Phineas. He's a mystical boy. Only eve...</td>\n",
       "    </tr>\n",
       "    <tr>\n",
       "      <th>1</th>\n",
       "      <td>892177421306343426</td>\n",
       "      <td>6514</td>\n",
       "      <td>33819</td>\n",
       "      <td>This is Tilly. She's just checking pup on you....</td>\n",
       "    </tr>\n",
       "    <tr>\n",
       "      <th>2</th>\n",
       "      <td>891815181378084864</td>\n",
       "      <td>4328</td>\n",
       "      <td>25461</td>\n",
       "      <td>This is Archie. He is a rare Norwegian Pouncin...</td>\n",
       "    </tr>\n",
       "    <tr>\n",
       "      <th>3</th>\n",
       "      <td>891689557279858688</td>\n",
       "      <td>8964</td>\n",
       "      <td>42908</td>\n",
       "      <td>This is Darla. She commenced a snooze mid meal...</td>\n",
       "    </tr>\n",
       "    <tr>\n",
       "      <th>4</th>\n",
       "      <td>891327558926688256</td>\n",
       "      <td>9774</td>\n",
       "      <td>41048</td>\n",
       "      <td>This is Franklin. He would like you to stop ca...</td>\n",
       "    </tr>\n",
       "  </tbody>\n",
       "</table>\n",
       "</div>"
      ],
      "text/plain": [
       "                   id  retweet_count  favorite_count  \\\n",
       "0  892420643555336193           8853           39467   \n",
       "1  892177421306343426           6514           33819   \n",
       "2  891815181378084864           4328           25461   \n",
       "3  891689557279858688           8964           42908   \n",
       "4  891327558926688256           9774           41048   \n",
       "\n",
       "                                           full_text  \n",
       "0  This is Phineas. He's a mystical boy. Only eve...  \n",
       "1  This is Tilly. She's just checking pup on you....  \n",
       "2  This is Archie. He is a rare Norwegian Pouncin...  \n",
       "3  This is Darla. She commenced a snooze mid meal...  \n",
       "4  This is Franklin. He would like you to stop ca...  "
      ]
     },
     "execution_count": 31,
     "metadata": {},
     "output_type": "execute_result"
    }
   ],
   "source": [
    "tweet_json_df.head(5)"
   ]
  },
  {
   "cell_type": "code",
   "execution_count": 32,
   "id": "5f33290f",
   "metadata": {},
   "outputs": [
    {
     "data": {
      "text/plain": [
       "(2354, 4)"
      ]
     },
     "execution_count": 32,
     "metadata": {},
     "output_type": "execute_result"
    }
   ],
   "source": [
    "tweet_json_df.shape"
   ]
  },
  {
   "cell_type": "code",
   "execution_count": 33,
   "id": "32adada8",
   "metadata": {},
   "outputs": [
    {
     "data": {
      "text/html": [
       "<div>\n",
       "<style scoped>\n",
       "    .dataframe tbody tr th:only-of-type {\n",
       "        vertical-align: middle;\n",
       "    }\n",
       "\n",
       "    .dataframe tbody tr th {\n",
       "        vertical-align: top;\n",
       "    }\n",
       "\n",
       "    .dataframe thead th {\n",
       "        text-align: right;\n",
       "    }\n",
       "</style>\n",
       "<table border=\"1\" class=\"dataframe\">\n",
       "  <thead>\n",
       "    <tr style=\"text-align: right;\">\n",
       "      <th></th>\n",
       "      <th>id</th>\n",
       "      <th>retweet_count</th>\n",
       "      <th>favorite_count</th>\n",
       "      <th>full_text</th>\n",
       "    </tr>\n",
       "  </thead>\n",
       "  <tbody>\n",
       "    <tr>\n",
       "      <th>2090</th>\n",
       "      <td>670782429121134593</td>\n",
       "      <td>863</td>\n",
       "      <td>1691</td>\n",
       "      <td>This dude slaps your girl's ass what do you do...</td>\n",
       "    </tr>\n",
       "    <tr>\n",
       "      <th>2226</th>\n",
       "      <td>668256321989451776</td>\n",
       "      <td>667</td>\n",
       "      <td>1385</td>\n",
       "      <td>This is Jareld. Jareld rules these waters. Lad...</td>\n",
       "    </tr>\n",
       "    <tr>\n",
       "      <th>1828</th>\n",
       "      <td>676219687039057920</td>\n",
       "      <td>31989</td>\n",
       "      <td>67100</td>\n",
       "      <td>This is Kenneth. He's stuck in a bubble. 10/10...</td>\n",
       "    </tr>\n",
       "    <tr>\n",
       "      <th>2272</th>\n",
       "      <td>667455448082227200</td>\n",
       "      <td>66</td>\n",
       "      <td>203</td>\n",
       "      <td>This is Reese and Twips. Reese protects Twips....</td>\n",
       "    </tr>\n",
       "    <tr>\n",
       "      <th>921</th>\n",
       "      <td>755955933503782912</td>\n",
       "      <td>3285</td>\n",
       "      <td>8092</td>\n",
       "      <td>Here's a frustrated pupper attempting to escap...</td>\n",
       "    </tr>\n",
       "  </tbody>\n",
       "</table>\n",
       "</div>"
      ],
      "text/plain": [
       "                      id  retweet_count  favorite_count  \\\n",
       "2090  670782429121134593            863            1691   \n",
       "2226  668256321989451776            667            1385   \n",
       "1828  676219687039057920          31989           67100   \n",
       "2272  667455448082227200             66             203   \n",
       "921   755955933503782912           3285            8092   \n",
       "\n",
       "                                              full_text  \n",
       "2090  This dude slaps your girl's ass what do you do...  \n",
       "2226  This is Jareld. Jareld rules these waters. Lad...  \n",
       "1828  This is Kenneth. He's stuck in a bubble. 10/10...  \n",
       "2272  This is Reese and Twips. Reese protects Twips....  \n",
       "921   Here's a frustrated pupper attempting to escap...  "
      ]
     },
     "execution_count": 33,
     "metadata": {},
     "output_type": "execute_result"
    }
   ],
   "source": [
    "tweet_json_df.sample(5)"
   ]
  },
  {
   "cell_type": "code",
   "execution_count": 34,
   "id": "d7365ae5",
   "metadata": {},
   "outputs": [
    {
     "data": {
      "text/plain": [
       "['id', 'retweet_count', 'favorite_count', 'full_text']"
      ]
     },
     "execution_count": 34,
     "metadata": {},
     "output_type": "execute_result"
    }
   ],
   "source": [
    "list(tweet_json_df.columns)"
   ]
  },
  {
   "cell_type": "code",
   "execution_count": 35,
   "id": "30af6890",
   "metadata": {},
   "outputs": [
    {
     "name": "stdout",
     "output_type": "stream",
     "text": [
      "<class 'pandas.core.frame.DataFrame'>\n",
      "RangeIndex: 2354 entries, 0 to 2353\n",
      "Data columns (total 4 columns):\n",
      " #   Column          Non-Null Count  Dtype \n",
      "---  ------          --------------  ----- \n",
      " 0   id              2354 non-null   int64 \n",
      " 1   retweet_count   2354 non-null   int64 \n",
      " 2   favorite_count  2354 non-null   int64 \n",
      " 3   full_text       2354 non-null   object\n",
      "dtypes: int64(3), object(1)\n",
      "memory usage: 73.7+ KB\n"
     ]
    }
   ],
   "source": [
    "tweet_json_df.info()"
   ]
  },
  {
   "cell_type": "code",
   "execution_count": 36,
   "id": "86965212",
   "metadata": {},
   "outputs": [
    {
     "data": {
      "text/html": [
       "<div>\n",
       "<style scoped>\n",
       "    .dataframe tbody tr th:only-of-type {\n",
       "        vertical-align: middle;\n",
       "    }\n",
       "\n",
       "    .dataframe tbody tr th {\n",
       "        vertical-align: top;\n",
       "    }\n",
       "\n",
       "    .dataframe thead th {\n",
       "        text-align: right;\n",
       "    }\n",
       "</style>\n",
       "<table border=\"1\" class=\"dataframe\">\n",
       "  <thead>\n",
       "    <tr style=\"text-align: right;\">\n",
       "      <th></th>\n",
       "      <th>id</th>\n",
       "      <th>retweet_count</th>\n",
       "      <th>favorite_count</th>\n",
       "    </tr>\n",
       "  </thead>\n",
       "  <tbody>\n",
       "    <tr>\n",
       "      <th>count</th>\n",
       "      <td>2.354000e+03</td>\n",
       "      <td>2354.000000</td>\n",
       "      <td>2354.000000</td>\n",
       "    </tr>\n",
       "    <tr>\n",
       "      <th>mean</th>\n",
       "      <td>7.426978e+17</td>\n",
       "      <td>3164.797366</td>\n",
       "      <td>8080.968564</td>\n",
       "    </tr>\n",
       "    <tr>\n",
       "      <th>std</th>\n",
       "      <td>6.852812e+16</td>\n",
       "      <td>5284.770364</td>\n",
       "      <td>11814.771334</td>\n",
       "    </tr>\n",
       "    <tr>\n",
       "      <th>min</th>\n",
       "      <td>6.660209e+17</td>\n",
       "      <td>0.000000</td>\n",
       "      <td>0.000000</td>\n",
       "    </tr>\n",
       "    <tr>\n",
       "      <th>25%</th>\n",
       "      <td>6.783975e+17</td>\n",
       "      <td>624.500000</td>\n",
       "      <td>1415.000000</td>\n",
       "    </tr>\n",
       "    <tr>\n",
       "      <th>50%</th>\n",
       "      <td>7.194596e+17</td>\n",
       "      <td>1473.500000</td>\n",
       "      <td>3603.500000</td>\n",
       "    </tr>\n",
       "    <tr>\n",
       "      <th>75%</th>\n",
       "      <td>7.993058e+17</td>\n",
       "      <td>3652.000000</td>\n",
       "      <td>10122.250000</td>\n",
       "    </tr>\n",
       "    <tr>\n",
       "      <th>max</th>\n",
       "      <td>8.924206e+17</td>\n",
       "      <td>79515.000000</td>\n",
       "      <td>132810.000000</td>\n",
       "    </tr>\n",
       "  </tbody>\n",
       "</table>\n",
       "</div>"
      ],
      "text/plain": [
       "                 id  retweet_count  favorite_count\n",
       "count  2.354000e+03    2354.000000     2354.000000\n",
       "mean   7.426978e+17    3164.797366     8080.968564\n",
       "std    6.852812e+16    5284.770364    11814.771334\n",
       "min    6.660209e+17       0.000000        0.000000\n",
       "25%    6.783975e+17     624.500000     1415.000000\n",
       "50%    7.194596e+17    1473.500000     3603.500000\n",
       "75%    7.993058e+17    3652.000000    10122.250000\n",
       "max    8.924206e+17   79515.000000   132810.000000"
      ]
     },
     "execution_count": 36,
     "metadata": {},
     "output_type": "execute_result"
    }
   ],
   "source": [
    "tweet_json_df.describe()"
   ]
  },
  {
   "cell_type": "code",
   "execution_count": 37,
   "id": "db6825a9",
   "metadata": {},
   "outputs": [
    {
     "data": {
      "text/plain": [
       "id                0\n",
       "retweet_count     0\n",
       "favorite_count    0\n",
       "full_text         0\n",
       "dtype: int64"
      ]
     },
     "execution_count": 37,
     "metadata": {},
     "output_type": "execute_result"
    }
   ],
   "source": [
    "tweet_json_df.isnull().sum()"
   ]
  },
  {
   "cell_type": "code",
   "execution_count": 38,
   "id": "b7e9601c",
   "metadata": {},
   "outputs": [
    {
     "data": {
      "text/plain": [
       "dtype('int64')"
      ]
     },
     "execution_count": 38,
     "metadata": {},
     "output_type": "execute_result"
    }
   ],
   "source": [
    "tweet_json_df.retweet_count.dtype"
   ]
  },
  {
   "cell_type": "code",
   "execution_count": 39,
   "id": "8aedd550",
   "metadata": {},
   "outputs": [
    {
     "data": {
      "text/plain": [
       "dtype('int64')"
      ]
     },
     "execution_count": 39,
     "metadata": {},
     "output_type": "execute_result"
    }
   ],
   "source": [
    "tweet_json_df.favorite_count.dtype"
   ]
  },
  {
   "cell_type": "code",
   "execution_count": 40,
   "id": "39ab9601",
   "metadata": {},
   "outputs": [
    {
     "data": {
      "text/plain": [
       "0"
      ]
     },
     "execution_count": 40,
     "metadata": {},
     "output_type": "execute_result"
    }
   ],
   "source": [
    "tweet_json_df.duplicated().sum()"
   ]
  },
  {
   "cell_type": "markdown",
   "id": "2313ffe3",
   "metadata": {},
   "source": [
    "## - Problemes de Qualite detecte"
   ]
  },
  {
   "cell_type": "markdown",
   "id": "b272b253",
   "metadata": {},
   "source": [
    "\n",
    "### L'ensemble des trois donees\n",
    "1. **les colonnes tweet_id et id represente la meme chose mais des noms differents/ pareil pour les colonnes text et full_text\"**\n",
    "\n",
    "\n",
    "2. **des Valeurs manquantes dans la colonne expanded_urlset et name ** \n",
    "\n",
    "3. **La colonne name comporte des valeurs 'a' comme nom de personnes,ce qui est assez etrange**\n",
    "\n",
    "\n",
    "\n",
    "4. **Probleme de type de donees au niveau des colonnes timestamp,tweet_id,retweet_count,favorite_count**\n",
    "\n",
    "5. ** Certains tweets sont des re-tweets/réponses qui ne sont pas nécessaires pour l'analyse car ce ne sont pas des tweets \n",
    "   originaux**\n",
    "\n",
    "\n",
    "6. **Certaines collonnes sont pas utiles pour l'analyse ** \n",
    "\n",
    "\n",
    "7. **Il existe des lignes  pour lequels le dénominateur d'évaluation est soit 0 ou est inferieur 10 , ce qui n'est pas valide au reagard de la norme**.\n",
    "\n",
    "\n",
    "8. **certianes  valeurs du numérateur des notes sont tres largemnt  supérieures à 10 et d'autres sont eagle a 0 . comme 1776 on peut se limiter a 15 comme la plus forte note et considerer toute valeur superieur comme des outliers**\n",
    "\n",
    "\n",
    "\n",
    "9. **La balise html unitile dans la colonne Source: recuperer la vrai source et suprimer les balices** \n",
    "\n",
    "\n",
    "10. **des collonnes p1,p1_config,p1_dog,p2,p2_config,p2_dog ne sont pas assez explicite pour la comprehension et devrait etre modiffie**\n",
    "\n",
    "\n",
    "\n",
    "\n",
    "## - Problemes d'orde detecte\n",
    "\n",
    "\n",
    "### tous les data frame\n",
    "\n",
    "- 11.**les collonnes  floofer,doggo,puppo et pupper peuvent doivent etre regroupees en une seule pour representer l'etat du chien**\n",
    "\n",
    " - 12. **Les trois tables de données font partie d'un unique jeu de données et doivent être fusionnées.**\n",
    " "
   ]
  },
  {
   "cell_type": "markdown",
   "id": "c12ca39c",
   "metadata": {},
   "source": [
    "# NB: les numeros affectes aux problemes ici ne sont pas l'ordre suivi pour l'analyse car certains problemes d'ordre qui sont citer en derniere position sont selon moi neccessaire d'etre resolu avant de poursuivre le netoyage"
   ]
  },
  {
   "cell_type": "markdown",
   "id": "91f30864",
   "metadata": {},
   "source": [
    "# Netoyage des donees "
   ]
  },
  {
   "cell_type": "code",
   "execution_count": 41,
   "id": "26c96267",
   "metadata": {},
   "outputs": [],
   "source": [
    "#copie de la donee n 1\n",
    "Clean_df_telecharge = df_telecharge.copy()"
   ]
  },
  {
   "cell_type": "code",
   "execution_count": 42,
   "id": "11dfd1b4",
   "metadata": {},
   "outputs": [],
   "source": [
    "#copie de la donee n 2\n",
    "Clean_image_predictions_df = image_predictions_df.copy()"
   ]
  },
  {
   "cell_type": "code",
   "execution_count": 43,
   "id": "6415a2b6",
   "metadata": {},
   "outputs": [],
   "source": [
    "#copie de la donee n 3\n",
    "Clean_tweet_json_df = tweet_json_df.copy()"
   ]
  },
  {
   "cell_type": "markdown",
   "id": "9abad60b",
   "metadata": {},
   "source": [
    "### Probleme 1: \n",
    "**les colonnes tweet_id et id represente la meme chose mais des noms differents/ pareil pour les colonnes text et full_text\"**\n"
   ]
  },
  {
   "cell_type": "markdown",
   "id": "57ef2089",
   "metadata": {},
   "source": [
    "### Definir :\n",
    "renommer id en tweed id et text en full_text pour faciliter la combinaison des donees\n"
   ]
  },
  {
   "cell_type": "markdown",
   "id": "a1764a51",
   "metadata": {},
   "source": [
    "### Code:"
   ]
  },
  {
   "cell_type": "code",
   "execution_count": 44,
   "id": "35a9dcef",
   "metadata": {},
   "outputs": [],
   "source": [
    "#renommons les collones id et text dans les dataframe Clean_tweet_json_df et Clean_df_telecharge et combinaison des 3 dataframe\n",
    "Clean_tweet_json_df.rename(columns={'id': 'tweet_id'}, inplace=True)\n",
    "Clean_df_telecharge.rename(columns={'text': 'full_text'}, inplace=True)"
   ]
  },
  {
   "cell_type": "markdown",
   "id": "61069086",
   "metadata": {},
   "source": [
    "### Probleme 2 :\n",
    "    Les trois tables de données font partie d'un unique jeu de données et doivent être fusionnées.\n"
   ]
  },
  {
   "cell_type": "markdown",
   "id": "475cee74",
   "metadata": {},
   "source": [
    "### Definir :\n",
    "fusionner les trois tables pour le netoyage"
   ]
  },
  {
   "cell_type": "markdown",
   "id": "5581c446",
   "metadata": {},
   "source": [
    "### Code :"
   ]
  },
  {
   "cell_type": "code",
   "execution_count": 45,
   "id": "f6965f2a",
   "metadata": {},
   "outputs": [],
   "source": [
    "#comnbinaisons des 3 dataframes\n",
    "clean_twitter_archive = pd.merge(Clean_df_telecharge , Clean_image_predictions_df , on=\"tweet_id\"  , how=\"left\") \n",
    "clean_twitter_archive = pd.merge(clean_twitter_archive , Clean_tweet_json_df , on= [\"tweet_id\",\"full_text\"] , how=\"left\")"
   ]
  },
  {
   "cell_type": "code",
   "execution_count": 46,
   "id": "4c42b35e",
   "metadata": {},
   "outputs": [],
   "source": [
    "#Sauvergarde des donnees combines\n",
    "clean_twitter_archive.to_csv('twitter_archive_clean.csv',index=False, encoding='utf-8')\n"
   ]
  },
  {
   "cell_type": "code",
   "execution_count": 47,
   "id": "c4842aa8",
   "metadata": {},
   "outputs": [
    {
     "data": {
      "text/plain": [
       "(2356, 30)"
      ]
     },
     "execution_count": 47,
     "metadata": {},
     "output_type": "execute_result"
    }
   ],
   "source": [
    "#Netoyage des donees combinees\n",
    "clean_twitter_archive.shape"
   ]
  },
  {
   "cell_type": "code",
   "execution_count": 48,
   "id": "a1a22a39",
   "metadata": {},
   "outputs": [
    {
     "data": {
      "text/html": [
       "<div>\n",
       "<style scoped>\n",
       "    .dataframe tbody tr th:only-of-type {\n",
       "        vertical-align: middle;\n",
       "    }\n",
       "\n",
       "    .dataframe tbody tr th {\n",
       "        vertical-align: top;\n",
       "    }\n",
       "\n",
       "    .dataframe thead th {\n",
       "        text-align: right;\n",
       "    }\n",
       "</style>\n",
       "<table border=\"1\" class=\"dataframe\">\n",
       "  <thead>\n",
       "    <tr style=\"text-align: right;\">\n",
       "      <th></th>\n",
       "      <th>tweet_id</th>\n",
       "      <th>in_reply_to_status_id</th>\n",
       "      <th>in_reply_to_user_id</th>\n",
       "      <th>timestamp</th>\n",
       "      <th>source</th>\n",
       "      <th>full_text</th>\n",
       "      <th>retweeted_status_id</th>\n",
       "      <th>retweeted_status_user_id</th>\n",
       "      <th>retweeted_status_timestamp</th>\n",
       "      <th>expanded_urls</th>\n",
       "      <th>...</th>\n",
       "      <th>p1_conf</th>\n",
       "      <th>p1_dog</th>\n",
       "      <th>p2</th>\n",
       "      <th>p2_conf</th>\n",
       "      <th>p2_dog</th>\n",
       "      <th>p3</th>\n",
       "      <th>p3_conf</th>\n",
       "      <th>p3_dog</th>\n",
       "      <th>retweet_count</th>\n",
       "      <th>favorite_count</th>\n",
       "    </tr>\n",
       "  </thead>\n",
       "  <tbody>\n",
       "    <tr>\n",
       "      <th>0</th>\n",
       "      <td>892420643555336193</td>\n",
       "      <td>NaN</td>\n",
       "      <td>NaN</td>\n",
       "      <td>2017-08-01 16:23:56 +0000</td>\n",
       "      <td>&lt;a href=\"http://twitter.com/download/iphone\" r...</td>\n",
       "      <td>This is Phineas. He's a mystical boy. Only eve...</td>\n",
       "      <td>NaN</td>\n",
       "      <td>NaN</td>\n",
       "      <td>NaN</td>\n",
       "      <td>https://twitter.com/dog_rates/status/892420643...</td>\n",
       "      <td>...</td>\n",
       "      <td>0.097049</td>\n",
       "      <td>False</td>\n",
       "      <td>bagel</td>\n",
       "      <td>0.085851</td>\n",
       "      <td>False</td>\n",
       "      <td>banana</td>\n",
       "      <td>0.076110</td>\n",
       "      <td>False</td>\n",
       "      <td>8853.0</td>\n",
       "      <td>39467.0</td>\n",
       "    </tr>\n",
       "    <tr>\n",
       "      <th>1</th>\n",
       "      <td>892177421306343426</td>\n",
       "      <td>NaN</td>\n",
       "      <td>NaN</td>\n",
       "      <td>2017-08-01 00:17:27 +0000</td>\n",
       "      <td>&lt;a href=\"http://twitter.com/download/iphone\" r...</td>\n",
       "      <td>This is Tilly. She's just checking pup on you....</td>\n",
       "      <td>NaN</td>\n",
       "      <td>NaN</td>\n",
       "      <td>NaN</td>\n",
       "      <td>https://twitter.com/dog_rates/status/892177421...</td>\n",
       "      <td>...</td>\n",
       "      <td>0.323581</td>\n",
       "      <td>True</td>\n",
       "      <td>Pekinese</td>\n",
       "      <td>0.090647</td>\n",
       "      <td>True</td>\n",
       "      <td>papillon</td>\n",
       "      <td>0.068957</td>\n",
       "      <td>True</td>\n",
       "      <td>6514.0</td>\n",
       "      <td>33819.0</td>\n",
       "    </tr>\n",
       "    <tr>\n",
       "      <th>2</th>\n",
       "      <td>891815181378084864</td>\n",
       "      <td>NaN</td>\n",
       "      <td>NaN</td>\n",
       "      <td>2017-07-31 00:18:03 +0000</td>\n",
       "      <td>&lt;a href=\"http://twitter.com/download/iphone\" r...</td>\n",
       "      <td>This is Archie. He is a rare Norwegian Pouncin...</td>\n",
       "      <td>NaN</td>\n",
       "      <td>NaN</td>\n",
       "      <td>NaN</td>\n",
       "      <td>https://twitter.com/dog_rates/status/891815181...</td>\n",
       "      <td>...</td>\n",
       "      <td>0.716012</td>\n",
       "      <td>True</td>\n",
       "      <td>malamute</td>\n",
       "      <td>0.078253</td>\n",
       "      <td>True</td>\n",
       "      <td>kelpie</td>\n",
       "      <td>0.031379</td>\n",
       "      <td>True</td>\n",
       "      <td>4328.0</td>\n",
       "      <td>25461.0</td>\n",
       "    </tr>\n",
       "    <tr>\n",
       "      <th>3</th>\n",
       "      <td>891689557279858688</td>\n",
       "      <td>NaN</td>\n",
       "      <td>NaN</td>\n",
       "      <td>2017-07-30 15:58:51 +0000</td>\n",
       "      <td>&lt;a href=\"http://twitter.com/download/iphone\" r...</td>\n",
       "      <td>This is Darla. She commenced a snooze mid meal...</td>\n",
       "      <td>NaN</td>\n",
       "      <td>NaN</td>\n",
       "      <td>NaN</td>\n",
       "      <td>https://twitter.com/dog_rates/status/891689557...</td>\n",
       "      <td>...</td>\n",
       "      <td>0.170278</td>\n",
       "      <td>False</td>\n",
       "      <td>Labrador_retriever</td>\n",
       "      <td>0.168086</td>\n",
       "      <td>True</td>\n",
       "      <td>spatula</td>\n",
       "      <td>0.040836</td>\n",
       "      <td>False</td>\n",
       "      <td>8964.0</td>\n",
       "      <td>42908.0</td>\n",
       "    </tr>\n",
       "    <tr>\n",
       "      <th>4</th>\n",
       "      <td>891327558926688256</td>\n",
       "      <td>NaN</td>\n",
       "      <td>NaN</td>\n",
       "      <td>2017-07-29 16:00:24 +0000</td>\n",
       "      <td>&lt;a href=\"http://twitter.com/download/iphone\" r...</td>\n",
       "      <td>This is Franklin. He would like you to stop ca...</td>\n",
       "      <td>NaN</td>\n",
       "      <td>NaN</td>\n",
       "      <td>NaN</td>\n",
       "      <td>https://twitter.com/dog_rates/status/891327558...</td>\n",
       "      <td>...</td>\n",
       "      <td>0.555712</td>\n",
       "      <td>True</td>\n",
       "      <td>English_springer</td>\n",
       "      <td>0.225770</td>\n",
       "      <td>True</td>\n",
       "      <td>German_short-haired_pointer</td>\n",
       "      <td>0.175219</td>\n",
       "      <td>True</td>\n",
       "      <td>9774.0</td>\n",
       "      <td>41048.0</td>\n",
       "    </tr>\n",
       "  </tbody>\n",
       "</table>\n",
       "<p>5 rows × 30 columns</p>\n",
       "</div>"
      ],
      "text/plain": [
       "             tweet_id  in_reply_to_status_id  in_reply_to_user_id  \\\n",
       "0  892420643555336193                    NaN                  NaN   \n",
       "1  892177421306343426                    NaN                  NaN   \n",
       "2  891815181378084864                    NaN                  NaN   \n",
       "3  891689557279858688                    NaN                  NaN   \n",
       "4  891327558926688256                    NaN                  NaN   \n",
       "\n",
       "                   timestamp  \\\n",
       "0  2017-08-01 16:23:56 +0000   \n",
       "1  2017-08-01 00:17:27 +0000   \n",
       "2  2017-07-31 00:18:03 +0000   \n",
       "3  2017-07-30 15:58:51 +0000   \n",
       "4  2017-07-29 16:00:24 +0000   \n",
       "\n",
       "                                              source  \\\n",
       "0  <a href=\"http://twitter.com/download/iphone\" r...   \n",
       "1  <a href=\"http://twitter.com/download/iphone\" r...   \n",
       "2  <a href=\"http://twitter.com/download/iphone\" r...   \n",
       "3  <a href=\"http://twitter.com/download/iphone\" r...   \n",
       "4  <a href=\"http://twitter.com/download/iphone\" r...   \n",
       "\n",
       "                                           full_text  retweeted_status_id  \\\n",
       "0  This is Phineas. He's a mystical boy. Only eve...                  NaN   \n",
       "1  This is Tilly. She's just checking pup on you....                  NaN   \n",
       "2  This is Archie. He is a rare Norwegian Pouncin...                  NaN   \n",
       "3  This is Darla. She commenced a snooze mid meal...                  NaN   \n",
       "4  This is Franklin. He would like you to stop ca...                  NaN   \n",
       "\n",
       "   retweeted_status_user_id retweeted_status_timestamp  \\\n",
       "0                       NaN                        NaN   \n",
       "1                       NaN                        NaN   \n",
       "2                       NaN                        NaN   \n",
       "3                       NaN                        NaN   \n",
       "4                       NaN                        NaN   \n",
       "\n",
       "                                       expanded_urls  ...   p1_conf  p1_dog  \\\n",
       "0  https://twitter.com/dog_rates/status/892420643...  ...  0.097049   False   \n",
       "1  https://twitter.com/dog_rates/status/892177421...  ...  0.323581    True   \n",
       "2  https://twitter.com/dog_rates/status/891815181...  ...  0.716012    True   \n",
       "3  https://twitter.com/dog_rates/status/891689557...  ...  0.170278   False   \n",
       "4  https://twitter.com/dog_rates/status/891327558...  ...  0.555712    True   \n",
       "\n",
       "                   p2   p2_conf p2_dog                           p3   p3_conf  \\\n",
       "0               bagel  0.085851  False                       banana  0.076110   \n",
       "1            Pekinese  0.090647   True                     papillon  0.068957   \n",
       "2            malamute  0.078253   True                       kelpie  0.031379   \n",
       "3  Labrador_retriever  0.168086   True                      spatula  0.040836   \n",
       "4    English_springer  0.225770   True  German_short-haired_pointer  0.175219   \n",
       "\n",
       "  p3_dog  retweet_count favorite_count  \n",
       "0  False         8853.0        39467.0  \n",
       "1   True         6514.0        33819.0  \n",
       "2   True         4328.0        25461.0  \n",
       "3  False         8964.0        42908.0  \n",
       "4   True         9774.0        41048.0  \n",
       "\n",
       "[5 rows x 30 columns]"
      ]
     },
     "execution_count": 48,
     "metadata": {},
     "output_type": "execute_result"
    }
   ],
   "source": [
    "clean_twitter_archive.head(5)"
   ]
  },
  {
   "cell_type": "code",
   "execution_count": 49,
   "id": "de319e53",
   "metadata": {},
   "outputs": [
    {
     "data": {
      "text/html": [
       "<div>\n",
       "<style scoped>\n",
       "    .dataframe tbody tr th:only-of-type {\n",
       "        vertical-align: middle;\n",
       "    }\n",
       "\n",
       "    .dataframe tbody tr th {\n",
       "        vertical-align: top;\n",
       "    }\n",
       "\n",
       "    .dataframe thead th {\n",
       "        text-align: right;\n",
       "    }\n",
       "</style>\n",
       "<table border=\"1\" class=\"dataframe\">\n",
       "  <thead>\n",
       "    <tr style=\"text-align: right;\">\n",
       "      <th></th>\n",
       "      <th>tweet_id</th>\n",
       "      <th>in_reply_to_status_id</th>\n",
       "      <th>in_reply_to_user_id</th>\n",
       "      <th>timestamp</th>\n",
       "      <th>source</th>\n",
       "      <th>full_text</th>\n",
       "      <th>retweeted_status_id</th>\n",
       "      <th>retweeted_status_user_id</th>\n",
       "      <th>retweeted_status_timestamp</th>\n",
       "      <th>expanded_urls</th>\n",
       "      <th>...</th>\n",
       "      <th>p1_conf</th>\n",
       "      <th>p1_dog</th>\n",
       "      <th>p2</th>\n",
       "      <th>p2_conf</th>\n",
       "      <th>p2_dog</th>\n",
       "      <th>p3</th>\n",
       "      <th>p3_conf</th>\n",
       "      <th>p3_dog</th>\n",
       "      <th>retweet_count</th>\n",
       "      <th>favorite_count</th>\n",
       "    </tr>\n",
       "  </thead>\n",
       "  <tbody>\n",
       "    <tr>\n",
       "      <th>1849</th>\n",
       "      <td>675781562965868544</td>\n",
       "      <td>NaN</td>\n",
       "      <td>NaN</td>\n",
       "      <td>2015-12-12 20:57:34 +0000</td>\n",
       "      <td>&lt;a href=\"http://twitter.com/download/iphone\" r...</td>\n",
       "      <td>Say hello to Buddah. He was Waldo for Hallowee...</td>\n",
       "      <td>NaN</td>\n",
       "      <td>NaN</td>\n",
       "      <td>NaN</td>\n",
       "      <td>https://twitter.com/dog_rates/status/675781562...</td>\n",
       "      <td>...</td>\n",
       "      <td>0.921968</td>\n",
       "      <td>True</td>\n",
       "      <td>West_Highland_white_terrier</td>\n",
       "      <td>0.017811</td>\n",
       "      <td>True</td>\n",
       "      <td>toy_poodle</td>\n",
       "      <td>0.013555</td>\n",
       "      <td>True</td>\n",
       "      <td>537.0</td>\n",
       "      <td>1750.0</td>\n",
       "    </tr>\n",
       "    <tr>\n",
       "      <th>1602</th>\n",
       "      <td>685973236358713344</td>\n",
       "      <td>NaN</td>\n",
       "      <td>NaN</td>\n",
       "      <td>2016-01-09 23:55:38 +0000</td>\n",
       "      <td>&lt;a href=\"http://twitter.com/download/iphone\" r...</td>\n",
       "      <td>This is Lorelei. She's contemplating her exist...</td>\n",
       "      <td>NaN</td>\n",
       "      <td>NaN</td>\n",
       "      <td>NaN</td>\n",
       "      <td>https://twitter.com/dog_rates/status/685973236...</td>\n",
       "      <td>...</td>\n",
       "      <td>0.450678</td>\n",
       "      <td>True</td>\n",
       "      <td>Eskimo_dog</td>\n",
       "      <td>0.430275</td>\n",
       "      <td>True</td>\n",
       "      <td>malamute</td>\n",
       "      <td>0.118590</td>\n",
       "      <td>True</td>\n",
       "      <td>611.0</td>\n",
       "      <td>2326.0</td>\n",
       "    </tr>\n",
       "    <tr>\n",
       "      <th>1369</th>\n",
       "      <td>702332542343577600</td>\n",
       "      <td>NaN</td>\n",
       "      <td>NaN</td>\n",
       "      <td>2016-02-24 03:21:41 +0000</td>\n",
       "      <td>&lt;a href=\"http://vine.co\" rel=\"nofollow\"&gt;Vine -...</td>\n",
       "      <td>This is Rudy. He's going to be a star. 13/10 t...</td>\n",
       "      <td>NaN</td>\n",
       "      <td>NaN</td>\n",
       "      <td>NaN</td>\n",
       "      <td>https://vine.co/v/irlDujgwOjd</td>\n",
       "      <td>...</td>\n",
       "      <td>NaN</td>\n",
       "      <td>NaN</td>\n",
       "      <td>NaN</td>\n",
       "      <td>NaN</td>\n",
       "      <td>NaN</td>\n",
       "      <td>NaN</td>\n",
       "      <td>NaN</td>\n",
       "      <td>NaN</td>\n",
       "      <td>1755.0</td>\n",
       "      <td>3491.0</td>\n",
       "    </tr>\n",
       "    <tr>\n",
       "      <th>167</th>\n",
       "      <td>859851578198683649</td>\n",
       "      <td>NaN</td>\n",
       "      <td>NaN</td>\n",
       "      <td>2017-05-03 19:26:06 +0000</td>\n",
       "      <td>&lt;a href=\"http://twitter.com/download/iphone\" r...</td>\n",
       "      <td>Meet Trooper. He picks pup recyclables that ha...</td>\n",
       "      <td>NaN</td>\n",
       "      <td>NaN</td>\n",
       "      <td>NaN</td>\n",
       "      <td>https://twitter.com/dog_rates/status/859851578...</td>\n",
       "      <td>...</td>\n",
       "      <td>0.899086</td>\n",
       "      <td>True</td>\n",
       "      <td>golden_retriever</td>\n",
       "      <td>0.047091</td>\n",
       "      <td>True</td>\n",
       "      <td>kuvasz</td>\n",
       "      <td>0.023206</td>\n",
       "      <td>True</td>\n",
       "      <td>3780.0</td>\n",
       "      <td>16105.0</td>\n",
       "    </tr>\n",
       "    <tr>\n",
       "      <th>813</th>\n",
       "      <td>771102124360998913</td>\n",
       "      <td>NaN</td>\n",
       "      <td>NaN</td>\n",
       "      <td>2016-08-31 21:47:27 +0000</td>\n",
       "      <td>&lt;a href=\"http://twitter.com/download/iphone\" r...</td>\n",
       "      <td>This is Charlie. He works for @TODAYshow. Supe...</td>\n",
       "      <td>NaN</td>\n",
       "      <td>NaN</td>\n",
       "      <td>NaN</td>\n",
       "      <td>https://twitter.com/dog_rates/status/771102124...</td>\n",
       "      <td>...</td>\n",
       "      <td>0.568789</td>\n",
       "      <td>True</td>\n",
       "      <td>pug</td>\n",
       "      <td>0.179918</td>\n",
       "      <td>True</td>\n",
       "      <td>Staffordshire_bullterrier</td>\n",
       "      <td>0.034437</td>\n",
       "      <td>True</td>\n",
       "      <td>1663.0</td>\n",
       "      <td>6898.0</td>\n",
       "    </tr>\n",
       "  </tbody>\n",
       "</table>\n",
       "<p>5 rows × 30 columns</p>\n",
       "</div>"
      ],
      "text/plain": [
       "                tweet_id  in_reply_to_status_id  in_reply_to_user_id  \\\n",
       "1849  675781562965868544                    NaN                  NaN   \n",
       "1602  685973236358713344                    NaN                  NaN   \n",
       "1369  702332542343577600                    NaN                  NaN   \n",
       "167   859851578198683649                    NaN                  NaN   \n",
       "813   771102124360998913                    NaN                  NaN   \n",
       "\n",
       "                      timestamp  \\\n",
       "1849  2015-12-12 20:57:34 +0000   \n",
       "1602  2016-01-09 23:55:38 +0000   \n",
       "1369  2016-02-24 03:21:41 +0000   \n",
       "167   2017-05-03 19:26:06 +0000   \n",
       "813   2016-08-31 21:47:27 +0000   \n",
       "\n",
       "                                                 source  \\\n",
       "1849  <a href=\"http://twitter.com/download/iphone\" r...   \n",
       "1602  <a href=\"http://twitter.com/download/iphone\" r...   \n",
       "1369  <a href=\"http://vine.co\" rel=\"nofollow\">Vine -...   \n",
       "167   <a href=\"http://twitter.com/download/iphone\" r...   \n",
       "813   <a href=\"http://twitter.com/download/iphone\" r...   \n",
       "\n",
       "                                              full_text  retweeted_status_id  \\\n",
       "1849  Say hello to Buddah. He was Waldo for Hallowee...                  NaN   \n",
       "1602  This is Lorelei. She's contemplating her exist...                  NaN   \n",
       "1369  This is Rudy. He's going to be a star. 13/10 t...                  NaN   \n",
       "167   Meet Trooper. He picks pup recyclables that ha...                  NaN   \n",
       "813   This is Charlie. He works for @TODAYshow. Supe...                  NaN   \n",
       "\n",
       "      retweeted_status_user_id retweeted_status_timestamp  \\\n",
       "1849                       NaN                        NaN   \n",
       "1602                       NaN                        NaN   \n",
       "1369                       NaN                        NaN   \n",
       "167                        NaN                        NaN   \n",
       "813                        NaN                        NaN   \n",
       "\n",
       "                                          expanded_urls  ...   p1_conf  \\\n",
       "1849  https://twitter.com/dog_rates/status/675781562...  ...  0.921968   \n",
       "1602  https://twitter.com/dog_rates/status/685973236...  ...  0.450678   \n",
       "1369                      https://vine.co/v/irlDujgwOjd  ...       NaN   \n",
       "167   https://twitter.com/dog_rates/status/859851578...  ...  0.899086   \n",
       "813   https://twitter.com/dog_rates/status/771102124...  ...  0.568789   \n",
       "\n",
       "      p1_dog                           p2   p2_conf p2_dog  \\\n",
       "1849    True  West_Highland_white_terrier  0.017811   True   \n",
       "1602    True                   Eskimo_dog  0.430275   True   \n",
       "1369     NaN                          NaN       NaN    NaN   \n",
       "167     True             golden_retriever  0.047091   True   \n",
       "813     True                          pug  0.179918   True   \n",
       "\n",
       "                             p3   p3_conf p3_dog  retweet_count favorite_count  \n",
       "1849                 toy_poodle  0.013555   True          537.0         1750.0  \n",
       "1602                   malamute  0.118590   True          611.0         2326.0  \n",
       "1369                        NaN       NaN    NaN         1755.0         3491.0  \n",
       "167                      kuvasz  0.023206   True         3780.0        16105.0  \n",
       "813   Staffordshire_bullterrier  0.034437   True         1663.0         6898.0  \n",
       "\n",
       "[5 rows x 30 columns]"
      ]
     },
     "execution_count": 49,
     "metadata": {},
     "output_type": "execute_result"
    }
   ],
   "source": [
    "clean_twitter_archive.sample(5)"
   ]
  },
  {
   "cell_type": "code",
   "execution_count": 50,
   "id": "18e87b0d",
   "metadata": {},
   "outputs": [
    {
     "name": "stdout",
     "output_type": "stream",
     "text": [
      "<class 'pandas.core.frame.DataFrame'>\n",
      "Int64Index: 2356 entries, 0 to 2355\n",
      "Data columns (total 30 columns):\n",
      " #   Column                      Non-Null Count  Dtype  \n",
      "---  ------                      --------------  -----  \n",
      " 0   tweet_id                    2356 non-null   int64  \n",
      " 1   in_reply_to_status_id       78 non-null     float64\n",
      " 2   in_reply_to_user_id         78 non-null     float64\n",
      " 3   timestamp                   2356 non-null   object \n",
      " 4   source                      2356 non-null   object \n",
      " 5   full_text                   2356 non-null   object \n",
      " 6   retweeted_status_id         181 non-null    float64\n",
      " 7   retweeted_status_user_id    181 non-null    float64\n",
      " 8   retweeted_status_timestamp  181 non-null    object \n",
      " 9   expanded_urls               2297 non-null   object \n",
      " 10  rating_numerator            2356 non-null   int64  \n",
      " 11  rating_denominator          2356 non-null   int64  \n",
      " 12  name                        2356 non-null   object \n",
      " 13  doggo                       2356 non-null   object \n",
      " 14  floofer                     2356 non-null   object \n",
      " 15  pupper                      2356 non-null   object \n",
      " 16  puppo                       2356 non-null   object \n",
      " 17  jpg_url                     2075 non-null   object \n",
      " 18  img_num                     2075 non-null   float64\n",
      " 19  p1                          2075 non-null   object \n",
      " 20  p1_conf                     2075 non-null   float64\n",
      " 21  p1_dog                      2075 non-null   object \n",
      " 22  p2                          2075 non-null   object \n",
      " 23  p2_conf                     2075 non-null   float64\n",
      " 24  p2_dog                      2075 non-null   object \n",
      " 25  p3                          2075 non-null   object \n",
      " 26  p3_conf                     2075 non-null   float64\n",
      " 27  p3_dog                      2075 non-null   object \n",
      " 28  retweet_count               2354 non-null   float64\n",
      " 29  favorite_count              2354 non-null   float64\n",
      "dtypes: float64(10), int64(3), object(17)\n",
      "memory usage: 570.6+ KB\n"
     ]
    }
   ],
   "source": [
    "clean_twitter_archive.info()"
   ]
  },
  {
   "cell_type": "code",
   "execution_count": 51,
   "id": "4f01990d",
   "metadata": {},
   "outputs": [
    {
     "data": {
      "text/plain": [
       "<a href=\"http://twitter.com/download/iphone\" rel=\"nofollow\">Twitter for iPhone</a>     2221\n",
       "<a href=\"http://vine.co\" rel=\"nofollow\">Vine - Make a Scene</a>                          91\n",
       "<a href=\"http://twitter.com\" rel=\"nofollow\">Twitter Web Client</a>                       33\n",
       "<a href=\"https://about.twitter.com/products/tweetdeck\" rel=\"nofollow\">TweetDeck</a>      11\n",
       "Name: source, dtype: int64"
      ]
     },
     "execution_count": 51,
     "metadata": {},
     "output_type": "execute_result"
    }
   ],
   "source": [
    "clean_twitter_archive.source.value_counts()"
   ]
  },
  {
   "cell_type": "code",
   "execution_count": 52,
   "id": "1eed0ff2",
   "metadata": {},
   "outputs": [
    {
     "data": {
      "text/plain": [
       "tweet_id                         0\n",
       "in_reply_to_status_id         2278\n",
       "in_reply_to_user_id           2278\n",
       "timestamp                        0\n",
       "source                           0\n",
       "full_text                        0\n",
       "retweeted_status_id           2175\n",
       "retweeted_status_user_id      2175\n",
       "retweeted_status_timestamp    2175\n",
       "expanded_urls                   59\n",
       "rating_numerator                 0\n",
       "rating_denominator               0\n",
       "name                             0\n",
       "doggo                            0\n",
       "floofer                          0\n",
       "pupper                           0\n",
       "puppo                            0\n",
       "jpg_url                        281\n",
       "img_num                        281\n",
       "p1                             281\n",
       "p1_conf                        281\n",
       "p1_dog                         281\n",
       "p2                             281\n",
       "p2_conf                        281\n",
       "p2_dog                         281\n",
       "p3                             281\n",
       "p3_conf                        281\n",
       "p3_dog                         281\n",
       "retweet_count                    2\n",
       "favorite_count                   2\n",
       "dtype: int64"
      ]
     },
     "execution_count": 52,
     "metadata": {},
     "output_type": "execute_result"
    }
   ],
   "source": [
    "clean_twitter_archive.isna().sum()"
   ]
  },
  {
   "cell_type": "code",
   "execution_count": 53,
   "id": "090c3fae",
   "metadata": {},
   "outputs": [
    {
     "data": {
      "text/plain": [
       "['tweet_id',\n",
       " 'in_reply_to_status_id',\n",
       " 'in_reply_to_user_id',\n",
       " 'timestamp',\n",
       " 'source',\n",
       " 'full_text',\n",
       " 'retweeted_status_id',\n",
       " 'retweeted_status_user_id',\n",
       " 'retweeted_status_timestamp',\n",
       " 'expanded_urls',\n",
       " 'rating_numerator',\n",
       " 'rating_denominator',\n",
       " 'name',\n",
       " 'doggo',\n",
       " 'floofer',\n",
       " 'pupper',\n",
       " 'puppo',\n",
       " 'jpg_url',\n",
       " 'img_num',\n",
       " 'p1',\n",
       " 'p1_conf',\n",
       " 'p1_dog',\n",
       " 'p2',\n",
       " 'p2_conf',\n",
       " 'p2_dog',\n",
       " 'p3',\n",
       " 'p3_conf',\n",
       " 'p3_dog',\n",
       " 'retweet_count',\n",
       " 'favorite_count']"
      ]
     },
     "execution_count": 53,
     "metadata": {},
     "output_type": "execute_result"
    }
   ],
   "source": [
    "clean_twitter_archive.columns.to_list()"
   ]
  },
  {
   "cell_type": "code",
   "execution_count": 54,
   "id": "8e754a00",
   "metadata": {},
   "outputs": [
    {
     "data": {
      "text/html": [
       "<div>\n",
       "<style scoped>\n",
       "    .dataframe tbody tr th:only-of-type {\n",
       "        vertical-align: middle;\n",
       "    }\n",
       "\n",
       "    .dataframe tbody tr th {\n",
       "        vertical-align: top;\n",
       "    }\n",
       "\n",
       "    .dataframe thead th {\n",
       "        text-align: right;\n",
       "    }\n",
       "</style>\n",
       "<table border=\"1\" class=\"dataframe\">\n",
       "  <thead>\n",
       "    <tr style=\"text-align: right;\">\n",
       "      <th></th>\n",
       "      <th>tweet_id</th>\n",
       "      <th>in_reply_to_status_id</th>\n",
       "      <th>in_reply_to_user_id</th>\n",
       "      <th>retweeted_status_id</th>\n",
       "      <th>retweeted_status_user_id</th>\n",
       "      <th>rating_numerator</th>\n",
       "      <th>rating_denominator</th>\n",
       "      <th>img_num</th>\n",
       "      <th>p1_conf</th>\n",
       "      <th>p2_conf</th>\n",
       "      <th>p3_conf</th>\n",
       "      <th>retweet_count</th>\n",
       "      <th>favorite_count</th>\n",
       "    </tr>\n",
       "  </thead>\n",
       "  <tbody>\n",
       "    <tr>\n",
       "      <th>count</th>\n",
       "      <td>2.356000e+03</td>\n",
       "      <td>7.800000e+01</td>\n",
       "      <td>7.800000e+01</td>\n",
       "      <td>1.810000e+02</td>\n",
       "      <td>1.810000e+02</td>\n",
       "      <td>2356.000000</td>\n",
       "      <td>2356.000000</td>\n",
       "      <td>2075.000000</td>\n",
       "      <td>2075.000000</td>\n",
       "      <td>2.075000e+03</td>\n",
       "      <td>2.075000e+03</td>\n",
       "      <td>2354.000000</td>\n",
       "      <td>2354.000000</td>\n",
       "    </tr>\n",
       "    <tr>\n",
       "      <th>mean</th>\n",
       "      <td>7.427716e+17</td>\n",
       "      <td>7.455079e+17</td>\n",
       "      <td>2.014171e+16</td>\n",
       "      <td>7.720400e+17</td>\n",
       "      <td>1.241698e+16</td>\n",
       "      <td>13.126486</td>\n",
       "      <td>10.455433</td>\n",
       "      <td>1.203855</td>\n",
       "      <td>0.594548</td>\n",
       "      <td>1.345886e-01</td>\n",
       "      <td>6.032417e-02</td>\n",
       "      <td>3164.797366</td>\n",
       "      <td>8080.968564</td>\n",
       "    </tr>\n",
       "    <tr>\n",
       "      <th>std</th>\n",
       "      <td>6.856705e+16</td>\n",
       "      <td>7.582492e+16</td>\n",
       "      <td>1.252797e+17</td>\n",
       "      <td>6.236928e+16</td>\n",
       "      <td>9.599254e+16</td>\n",
       "      <td>45.876648</td>\n",
       "      <td>6.745237</td>\n",
       "      <td>0.561875</td>\n",
       "      <td>0.271174</td>\n",
       "      <td>1.006657e-01</td>\n",
       "      <td>5.090593e-02</td>\n",
       "      <td>5284.770364</td>\n",
       "      <td>11814.771334</td>\n",
       "    </tr>\n",
       "    <tr>\n",
       "      <th>min</th>\n",
       "      <td>6.660209e+17</td>\n",
       "      <td>6.658147e+17</td>\n",
       "      <td>1.185634e+07</td>\n",
       "      <td>6.661041e+17</td>\n",
       "      <td>7.832140e+05</td>\n",
       "      <td>0.000000</td>\n",
       "      <td>0.000000</td>\n",
       "      <td>1.000000</td>\n",
       "      <td>0.044333</td>\n",
       "      <td>1.011300e-08</td>\n",
       "      <td>1.740170e-10</td>\n",
       "      <td>0.000000</td>\n",
       "      <td>0.000000</td>\n",
       "    </tr>\n",
       "    <tr>\n",
       "      <th>25%</th>\n",
       "      <td>6.783989e+17</td>\n",
       "      <td>6.757419e+17</td>\n",
       "      <td>3.086374e+08</td>\n",
       "      <td>7.186315e+17</td>\n",
       "      <td>4.196984e+09</td>\n",
       "      <td>10.000000</td>\n",
       "      <td>10.000000</td>\n",
       "      <td>1.000000</td>\n",
       "      <td>0.364412</td>\n",
       "      <td>5.388625e-02</td>\n",
       "      <td>1.622240e-02</td>\n",
       "      <td>624.500000</td>\n",
       "      <td>1415.000000</td>\n",
       "    </tr>\n",
       "    <tr>\n",
       "      <th>50%</th>\n",
       "      <td>7.196279e+17</td>\n",
       "      <td>7.038708e+17</td>\n",
       "      <td>4.196984e+09</td>\n",
       "      <td>7.804657e+17</td>\n",
       "      <td>4.196984e+09</td>\n",
       "      <td>11.000000</td>\n",
       "      <td>10.000000</td>\n",
       "      <td>1.000000</td>\n",
       "      <td>0.588230</td>\n",
       "      <td>1.181810e-01</td>\n",
       "      <td>4.944380e-02</td>\n",
       "      <td>1473.500000</td>\n",
       "      <td>3603.500000</td>\n",
       "    </tr>\n",
       "    <tr>\n",
       "      <th>75%</th>\n",
       "      <td>7.993373e+17</td>\n",
       "      <td>8.257804e+17</td>\n",
       "      <td>4.196984e+09</td>\n",
       "      <td>8.203146e+17</td>\n",
       "      <td>4.196984e+09</td>\n",
       "      <td>12.000000</td>\n",
       "      <td>10.000000</td>\n",
       "      <td>1.000000</td>\n",
       "      <td>0.843855</td>\n",
       "      <td>1.955655e-01</td>\n",
       "      <td>9.180755e-02</td>\n",
       "      <td>3652.000000</td>\n",
       "      <td>10122.250000</td>\n",
       "    </tr>\n",
       "    <tr>\n",
       "      <th>max</th>\n",
       "      <td>8.924206e+17</td>\n",
       "      <td>8.862664e+17</td>\n",
       "      <td>8.405479e+17</td>\n",
       "      <td>8.874740e+17</td>\n",
       "      <td>7.874618e+17</td>\n",
       "      <td>1776.000000</td>\n",
       "      <td>170.000000</td>\n",
       "      <td>4.000000</td>\n",
       "      <td>1.000000</td>\n",
       "      <td>4.880140e-01</td>\n",
       "      <td>2.734190e-01</td>\n",
       "      <td>79515.000000</td>\n",
       "      <td>132810.000000</td>\n",
       "    </tr>\n",
       "  </tbody>\n",
       "</table>\n",
       "</div>"
      ],
      "text/plain": [
       "           tweet_id  in_reply_to_status_id  in_reply_to_user_id  \\\n",
       "count  2.356000e+03           7.800000e+01         7.800000e+01   \n",
       "mean   7.427716e+17           7.455079e+17         2.014171e+16   \n",
       "std    6.856705e+16           7.582492e+16         1.252797e+17   \n",
       "min    6.660209e+17           6.658147e+17         1.185634e+07   \n",
       "25%    6.783989e+17           6.757419e+17         3.086374e+08   \n",
       "50%    7.196279e+17           7.038708e+17         4.196984e+09   \n",
       "75%    7.993373e+17           8.257804e+17         4.196984e+09   \n",
       "max    8.924206e+17           8.862664e+17         8.405479e+17   \n",
       "\n",
       "       retweeted_status_id  retweeted_status_user_id  rating_numerator  \\\n",
       "count         1.810000e+02              1.810000e+02       2356.000000   \n",
       "mean          7.720400e+17              1.241698e+16         13.126486   \n",
       "std           6.236928e+16              9.599254e+16         45.876648   \n",
       "min           6.661041e+17              7.832140e+05          0.000000   \n",
       "25%           7.186315e+17              4.196984e+09         10.000000   \n",
       "50%           7.804657e+17              4.196984e+09         11.000000   \n",
       "75%           8.203146e+17              4.196984e+09         12.000000   \n",
       "max           8.874740e+17              7.874618e+17       1776.000000   \n",
       "\n",
       "       rating_denominator      img_num      p1_conf       p2_conf  \\\n",
       "count         2356.000000  2075.000000  2075.000000  2.075000e+03   \n",
       "mean            10.455433     1.203855     0.594548  1.345886e-01   \n",
       "std              6.745237     0.561875     0.271174  1.006657e-01   \n",
       "min              0.000000     1.000000     0.044333  1.011300e-08   \n",
       "25%             10.000000     1.000000     0.364412  5.388625e-02   \n",
       "50%             10.000000     1.000000     0.588230  1.181810e-01   \n",
       "75%             10.000000     1.000000     0.843855  1.955655e-01   \n",
       "max            170.000000     4.000000     1.000000  4.880140e-01   \n",
       "\n",
       "            p3_conf  retweet_count  favorite_count  \n",
       "count  2.075000e+03    2354.000000     2354.000000  \n",
       "mean   6.032417e-02    3164.797366     8080.968564  \n",
       "std    5.090593e-02    5284.770364    11814.771334  \n",
       "min    1.740170e-10       0.000000        0.000000  \n",
       "25%    1.622240e-02     624.500000     1415.000000  \n",
       "50%    4.944380e-02    1473.500000     3603.500000  \n",
       "75%    9.180755e-02    3652.000000    10122.250000  \n",
       "max    2.734190e-01   79515.000000   132810.000000  "
      ]
     },
     "execution_count": 54,
     "metadata": {},
     "output_type": "execute_result"
    }
   ],
   "source": [
    "clean_twitter_archive.describe()"
   ]
  },
  {
   "cell_type": "markdown",
   "id": "31dc03ea",
   "metadata": {},
   "source": [
    "### Probleme 3 :\n",
    "des Valeurs manquantes dans la colonne expanded_urlset et name  "
   ]
  },
  {
   "cell_type": "markdown",
   "id": "87a0bc10",
   "metadata": {},
   "source": [
    "### Definir :\n",
    "effacer les lignes avec des valeurs manquantes  dans les deux collonnes"
   ]
  },
  {
   "cell_type": "markdown",
   "id": "f2d3b263",
   "metadata": {},
   "source": [
    "### Code :"
   ]
  },
  {
   "cell_type": "code",
   "execution_count": 55,
   "id": "d2d952a6",
   "metadata": {},
   "outputs": [],
   "source": [
    "# Remplacement des valeurs None par NaN avec numpy pour pouvoir les suprimer\n",
    "clean_twitter_archive.name.replace('None',np.NaN,inplace=True)\n",
    "\n",
    "# suppression de tout les enregistrement avec des valeur null\n",
    "clean_twitter_archive.name.dropna(inplace=True)\n",
    "clean_twitter_archive.name.fillna(method='ffill',inplace=True)\n",
    "\n",
    "\n",
    "clean_twitter_archive.expanded_urls.dropna(inplace=True)\n",
    "\n"
   ]
  },
  {
   "cell_type": "code",
   "execution_count": 56,
   "id": "ffdf8d69",
   "metadata": {},
   "outputs": [
    {
     "data": {
      "text/plain": [
       "False    2356\n",
       "Name: name, dtype: int64"
      ]
     },
     "execution_count": 56,
     "metadata": {},
     "output_type": "execute_result"
    }
   ],
   "source": [
    "clean_twitter_archive.name.isnull().value_counts()"
   ]
  },
  {
   "cell_type": "code",
   "execution_count": 57,
   "id": "4e8152ef",
   "metadata": {},
   "outputs": [
    {
     "data": {
      "text/plain": [
       "<a href=\"http://twitter.com/download/iphone\" rel=\"nofollow\">Twitter for iPhone</a>     2221\n",
       "<a href=\"http://vine.co\" rel=\"nofollow\">Vine - Make a Scene</a>                          91\n",
       "<a href=\"http://twitter.com\" rel=\"nofollow\">Twitter Web Client</a>                       33\n",
       "<a href=\"https://about.twitter.com/products/tweetdeck\" rel=\"nofollow\">TweetDeck</a>      11\n",
       "Name: source, dtype: int64"
      ]
     },
     "execution_count": 57,
     "metadata": {},
     "output_type": "execute_result"
    }
   ],
   "source": [
    "clean_twitter_archive.source.value_counts()"
   ]
  },
  {
   "cell_type": "markdown",
   "id": "784e244c",
   "metadata": {},
   "source": [
    "### Tester :"
   ]
  },
  {
   "cell_type": "code",
   "execution_count": 58,
   "id": "f967fa5f",
   "metadata": {},
   "outputs": [
    {
     "data": {
      "text/plain": [
       "tweet_id                         0\n",
       "in_reply_to_status_id         2278\n",
       "in_reply_to_user_id           2278\n",
       "timestamp                        0\n",
       "source                           0\n",
       "full_text                        0\n",
       "retweeted_status_id           2175\n",
       "retweeted_status_user_id      2175\n",
       "retweeted_status_timestamp    2175\n",
       "expanded_urls                   59\n",
       "rating_numerator                 0\n",
       "rating_denominator               0\n",
       "name                             0\n",
       "doggo                            0\n",
       "floofer                          0\n",
       "pupper                           0\n",
       "puppo                            0\n",
       "jpg_url                        281\n",
       "img_num                        281\n",
       "p1                             281\n",
       "p1_conf                        281\n",
       "p1_dog                         281\n",
       "p2                             281\n",
       "p2_conf                        281\n",
       "p2_dog                         281\n",
       "p3                             281\n",
       "p3_conf                        281\n",
       "p3_dog                         281\n",
       "retweet_count                    2\n",
       "favorite_count                   2\n",
       "dtype: int64"
      ]
     },
     "execution_count": 58,
     "metadata": {},
     "output_type": "execute_result"
    }
   ],
   "source": [
    "clean_twitter_archive.isnull().sum()"
   ]
  },
  {
   "cell_type": "markdown",
   "id": "5d5adab3",
   "metadata": {},
   "source": [
    "### probleme 4:\n",
    "\n",
    "**La colonne name comporte des valeurs 'a' comme nom de personnes,ce qui est assez etrange**"
   ]
  },
  {
   "cell_type": "markdown",
   "id": "fbd4a258",
   "metadata": {},
   "source": [
    "### definir :\n",
    "Modifier le nom \"a\" par un nom imaginaire coherent ex: ashley"
   ]
  },
  {
   "cell_type": "markdown",
   "id": "8aa7bf18",
   "metadata": {},
   "source": [
    "### Code :"
   ]
  },
  {
   "cell_type": "code",
   "execution_count": 59,
   "id": "709b99c7",
   "metadata": {},
   "outputs": [],
   "source": [
    "clean_twitter_archive['name'] = clean_twitter_archive['name'].replace('a','ashley')\n",
    "\n"
   ]
  },
  {
   "cell_type": "markdown",
   "id": "1e0e4190",
   "metadata": {},
   "source": [
    "### Tester :"
   ]
  },
  {
   "cell_type": "code",
   "execution_count": 60,
   "id": "0a338d03",
   "metadata": {},
   "outputs": [
    {
     "data": {
      "text/html": [
       "<div>\n",
       "<style scoped>\n",
       "    .dataframe tbody tr th:only-of-type {\n",
       "        vertical-align: middle;\n",
       "    }\n",
       "\n",
       "    .dataframe tbody tr th {\n",
       "        vertical-align: top;\n",
       "    }\n",
       "\n",
       "    .dataframe thead th {\n",
       "        text-align: right;\n",
       "    }\n",
       "</style>\n",
       "<table border=\"1\" class=\"dataframe\">\n",
       "  <thead>\n",
       "    <tr style=\"text-align: right;\">\n",
       "      <th></th>\n",
       "      <th>tweet_id</th>\n",
       "      <th>in_reply_to_status_id</th>\n",
       "      <th>in_reply_to_user_id</th>\n",
       "      <th>timestamp</th>\n",
       "      <th>source</th>\n",
       "      <th>full_text</th>\n",
       "      <th>retweeted_status_id</th>\n",
       "      <th>retweeted_status_user_id</th>\n",
       "      <th>retweeted_status_timestamp</th>\n",
       "      <th>expanded_urls</th>\n",
       "      <th>...</th>\n",
       "      <th>p1_conf</th>\n",
       "      <th>p1_dog</th>\n",
       "      <th>p2</th>\n",
       "      <th>p2_conf</th>\n",
       "      <th>p2_dog</th>\n",
       "      <th>p3</th>\n",
       "      <th>p3_conf</th>\n",
       "      <th>p3_dog</th>\n",
       "      <th>retweet_count</th>\n",
       "      <th>favorite_count</th>\n",
       "    </tr>\n",
       "  </thead>\n",
       "  <tbody>\n",
       "    <tr>\n",
       "      <th>56</th>\n",
       "      <td>881536004380872706</td>\n",
       "      <td>NaN</td>\n",
       "      <td>NaN</td>\n",
       "      <td>2017-07-02 15:32:16 +0000</td>\n",
       "      <td>&lt;a href=\"http://twitter.com/download/iphone\" r...</td>\n",
       "      <td>Here is a pupper approaching maximum borkdrive...</td>\n",
       "      <td>NaN</td>\n",
       "      <td>NaN</td>\n",
       "      <td>NaN</td>\n",
       "      <td>https://twitter.com/dog_rates/status/881536004...</td>\n",
       "      <td>...</td>\n",
       "      <td>0.281463</td>\n",
       "      <td>True</td>\n",
       "      <td>Angora</td>\n",
       "      <td>0.272066</td>\n",
       "      <td>False</td>\n",
       "      <td>Persian_cat</td>\n",
       "      <td>0.114854</td>\n",
       "      <td>False</td>\n",
       "      <td>16570.0</td>\n",
       "      <td>50199.0</td>\n",
       "    </tr>\n",
       "    <tr>\n",
       "      <th>649</th>\n",
       "      <td>792913359805018113</td>\n",
       "      <td>NaN</td>\n",
       "      <td>NaN</td>\n",
       "      <td>2016-10-31 02:17:31 +0000</td>\n",
       "      <td>&lt;a href=\"http://twitter.com/download/iphone\" r...</td>\n",
       "      <td>Here is a perfect example of someone who has t...</td>\n",
       "      <td>NaN</td>\n",
       "      <td>NaN</td>\n",
       "      <td>NaN</td>\n",
       "      <td>https://twitter.com/dog_rates/status/792913359...</td>\n",
       "      <td>...</td>\n",
       "      <td>0.226716</td>\n",
       "      <td>False</td>\n",
       "      <td>lighter</td>\n",
       "      <td>0.081941</td>\n",
       "      <td>False</td>\n",
       "      <td>switch</td>\n",
       "      <td>0.039009</td>\n",
       "      <td>False</td>\n",
       "      <td>4715.0</td>\n",
       "      <td>16063.0</td>\n",
       "    </tr>\n",
       "    <tr>\n",
       "      <th>801</th>\n",
       "      <td>772581559778025472</td>\n",
       "      <td>NaN</td>\n",
       "      <td>NaN</td>\n",
       "      <td>2016-09-04 23:46:12 +0000</td>\n",
       "      <td>&lt;a href=\"http://twitter.com/download/iphone\" r...</td>\n",
       "      <td>Guys this is getting so out of hand. We only r...</td>\n",
       "      <td>NaN</td>\n",
       "      <td>NaN</td>\n",
       "      <td>NaN</td>\n",
       "      <td>https://twitter.com/dog_rates/status/772581559...</td>\n",
       "      <td>...</td>\n",
       "      <td>0.574345</td>\n",
       "      <td>True</td>\n",
       "      <td>Border_collie</td>\n",
       "      <td>0.128352</td>\n",
       "      <td>True</td>\n",
       "      <td>Saint_Bernard</td>\n",
       "      <td>0.059476</td>\n",
       "      <td>True</td>\n",
       "      <td>1968.0</td>\n",
       "      <td>7192.0</td>\n",
       "    </tr>\n",
       "    <tr>\n",
       "      <th>1002</th>\n",
       "      <td>747885874273214464</td>\n",
       "      <td>NaN</td>\n",
       "      <td>NaN</td>\n",
       "      <td>2016-06-28 20:14:22 +0000</td>\n",
       "      <td>&lt;a href=\"http://twitter.com/download/iphone\" r...</td>\n",
       "      <td>This is a mighty rare blue-tailed hammer sherk...</td>\n",
       "      <td>NaN</td>\n",
       "      <td>NaN</td>\n",
       "      <td>NaN</td>\n",
       "      <td>https://twitter.com/dog_rates/status/747885874...</td>\n",
       "      <td>...</td>\n",
       "      <td>0.408450</td>\n",
       "      <td>True</td>\n",
       "      <td>Samoyed</td>\n",
       "      <td>0.141330</td>\n",
       "      <td>True</td>\n",
       "      <td>pug</td>\n",
       "      <td>0.083018</td>\n",
       "      <td>True</td>\n",
       "      <td>1116.0</td>\n",
       "      <td>3243.0</td>\n",
       "    </tr>\n",
       "    <tr>\n",
       "      <th>1004</th>\n",
       "      <td>747816857231626240</td>\n",
       "      <td>NaN</td>\n",
       "      <td>NaN</td>\n",
       "      <td>2016-06-28 15:40:07 +0000</td>\n",
       "      <td>&lt;a href=\"http://twitter.com/download/iphone\" r...</td>\n",
       "      <td>Viewer discretion is advised. This is a terrib...</td>\n",
       "      <td>NaN</td>\n",
       "      <td>NaN</td>\n",
       "      <td>NaN</td>\n",
       "      <td>https://twitter.com/dog_rates/status/747816857...</td>\n",
       "      <td>...</td>\n",
       "      <td>0.768923</td>\n",
       "      <td>True</td>\n",
       "      <td>Chihuahua</td>\n",
       "      <td>0.029053</td>\n",
       "      <td>True</td>\n",
       "      <td>Shetland_sheepdog</td>\n",
       "      <td>0.029035</td>\n",
       "      <td>True</td>\n",
       "      <td>1316.0</td>\n",
       "      <td>5346.0</td>\n",
       "    </tr>\n",
       "    <tr>\n",
       "      <th>...</th>\n",
       "      <td>...</td>\n",
       "      <td>...</td>\n",
       "      <td>...</td>\n",
       "      <td>...</td>\n",
       "      <td>...</td>\n",
       "      <td>...</td>\n",
       "      <td>...</td>\n",
       "      <td>...</td>\n",
       "      <td>...</td>\n",
       "      <td>...</td>\n",
       "      <td>...</td>\n",
       "      <td>...</td>\n",
       "      <td>...</td>\n",
       "      <td>...</td>\n",
       "      <td>...</td>\n",
       "      <td>...</td>\n",
       "      <td>...</td>\n",
       "      <td>...</td>\n",
       "      <td>...</td>\n",
       "      <td>...</td>\n",
       "      <td>...</td>\n",
       "    </tr>\n",
       "    <tr>\n",
       "      <th>2351</th>\n",
       "      <td>666049248165822465</td>\n",
       "      <td>NaN</td>\n",
       "      <td>NaN</td>\n",
       "      <td>2015-11-16 00:24:50 +0000</td>\n",
       "      <td>&lt;a href=\"http://twitter.com/download/iphone\" r...</td>\n",
       "      <td>Here we have a 1949 1st generation vulpix. Enj...</td>\n",
       "      <td>NaN</td>\n",
       "      <td>NaN</td>\n",
       "      <td>NaN</td>\n",
       "      <td>https://twitter.com/dog_rates/status/666049248...</td>\n",
       "      <td>...</td>\n",
       "      <td>0.560311</td>\n",
       "      <td>True</td>\n",
       "      <td>Rottweiler</td>\n",
       "      <td>0.243682</td>\n",
       "      <td>True</td>\n",
       "      <td>Doberman</td>\n",
       "      <td>0.154629</td>\n",
       "      <td>True</td>\n",
       "      <td>41.0</td>\n",
       "      <td>111.0</td>\n",
       "    </tr>\n",
       "    <tr>\n",
       "      <th>2352</th>\n",
       "      <td>666044226329800704</td>\n",
       "      <td>NaN</td>\n",
       "      <td>NaN</td>\n",
       "      <td>2015-11-16 00:04:52 +0000</td>\n",
       "      <td>&lt;a href=\"http://twitter.com/download/iphone\" r...</td>\n",
       "      <td>This is a purebred Piers Morgan. Loves to Netf...</td>\n",
       "      <td>NaN</td>\n",
       "      <td>NaN</td>\n",
       "      <td>NaN</td>\n",
       "      <td>https://twitter.com/dog_rates/status/666044226...</td>\n",
       "      <td>...</td>\n",
       "      <td>0.408143</td>\n",
       "      <td>True</td>\n",
       "      <td>redbone</td>\n",
       "      <td>0.360687</td>\n",
       "      <td>True</td>\n",
       "      <td>miniature_pinscher</td>\n",
       "      <td>0.222752</td>\n",
       "      <td>True</td>\n",
       "      <td>147.0</td>\n",
       "      <td>311.0</td>\n",
       "    </tr>\n",
       "    <tr>\n",
       "      <th>2353</th>\n",
       "      <td>666033412701032449</td>\n",
       "      <td>NaN</td>\n",
       "      <td>NaN</td>\n",
       "      <td>2015-11-15 23:21:54 +0000</td>\n",
       "      <td>&lt;a href=\"http://twitter.com/download/iphone\" r...</td>\n",
       "      <td>Here is a very happy pup. Big fan of well-main...</td>\n",
       "      <td>NaN</td>\n",
       "      <td>NaN</td>\n",
       "      <td>NaN</td>\n",
       "      <td>https://twitter.com/dog_rates/status/666033412...</td>\n",
       "      <td>...</td>\n",
       "      <td>0.596461</td>\n",
       "      <td>True</td>\n",
       "      <td>malinois</td>\n",
       "      <td>0.138584</td>\n",
       "      <td>True</td>\n",
       "      <td>bloodhound</td>\n",
       "      <td>0.116197</td>\n",
       "      <td>True</td>\n",
       "      <td>47.0</td>\n",
       "      <td>128.0</td>\n",
       "    </tr>\n",
       "    <tr>\n",
       "      <th>2354</th>\n",
       "      <td>666029285002620928</td>\n",
       "      <td>NaN</td>\n",
       "      <td>NaN</td>\n",
       "      <td>2015-11-15 23:05:30 +0000</td>\n",
       "      <td>&lt;a href=\"http://twitter.com/download/iphone\" r...</td>\n",
       "      <td>This is a western brown Mitsubishi terrier. Up...</td>\n",
       "      <td>NaN</td>\n",
       "      <td>NaN</td>\n",
       "      <td>NaN</td>\n",
       "      <td>https://twitter.com/dog_rates/status/666029285...</td>\n",
       "      <td>...</td>\n",
       "      <td>0.506826</td>\n",
       "      <td>True</td>\n",
       "      <td>miniature_pinscher</td>\n",
       "      <td>0.074192</td>\n",
       "      <td>True</td>\n",
       "      <td>Rhodesian_ridgeback</td>\n",
       "      <td>0.072010</td>\n",
       "      <td>True</td>\n",
       "      <td>48.0</td>\n",
       "      <td>132.0</td>\n",
       "    </tr>\n",
       "    <tr>\n",
       "      <th>2355</th>\n",
       "      <td>666020888022790149</td>\n",
       "      <td>NaN</td>\n",
       "      <td>NaN</td>\n",
       "      <td>2015-11-15 22:32:08 +0000</td>\n",
       "      <td>&lt;a href=\"http://twitter.com/download/iphone\" r...</td>\n",
       "      <td>Here we have a Japanese Irish Setter. Lost eye...</td>\n",
       "      <td>NaN</td>\n",
       "      <td>NaN</td>\n",
       "      <td>NaN</td>\n",
       "      <td>https://twitter.com/dog_rates/status/666020888...</td>\n",
       "      <td>...</td>\n",
       "      <td>0.465074</td>\n",
       "      <td>True</td>\n",
       "      <td>collie</td>\n",
       "      <td>0.156665</td>\n",
       "      <td>True</td>\n",
       "      <td>Shetland_sheepdog</td>\n",
       "      <td>0.061428</td>\n",
       "      <td>True</td>\n",
       "      <td>532.0</td>\n",
       "      <td>2535.0</td>\n",
       "    </tr>\n",
       "  </tbody>\n",
       "</table>\n",
       "<p>82 rows × 30 columns</p>\n",
       "</div>"
      ],
      "text/plain": [
       "                tweet_id  in_reply_to_status_id  in_reply_to_user_id  \\\n",
       "56    881536004380872706                    NaN                  NaN   \n",
       "649   792913359805018113                    NaN                  NaN   \n",
       "801   772581559778025472                    NaN                  NaN   \n",
       "1002  747885874273214464                    NaN                  NaN   \n",
       "1004  747816857231626240                    NaN                  NaN   \n",
       "...                  ...                    ...                  ...   \n",
       "2351  666049248165822465                    NaN                  NaN   \n",
       "2352  666044226329800704                    NaN                  NaN   \n",
       "2353  666033412701032449                    NaN                  NaN   \n",
       "2354  666029285002620928                    NaN                  NaN   \n",
       "2355  666020888022790149                    NaN                  NaN   \n",
       "\n",
       "                      timestamp  \\\n",
       "56    2017-07-02 15:32:16 +0000   \n",
       "649   2016-10-31 02:17:31 +0000   \n",
       "801   2016-09-04 23:46:12 +0000   \n",
       "1002  2016-06-28 20:14:22 +0000   \n",
       "1004  2016-06-28 15:40:07 +0000   \n",
       "...                         ...   \n",
       "2351  2015-11-16 00:24:50 +0000   \n",
       "2352  2015-11-16 00:04:52 +0000   \n",
       "2353  2015-11-15 23:21:54 +0000   \n",
       "2354  2015-11-15 23:05:30 +0000   \n",
       "2355  2015-11-15 22:32:08 +0000   \n",
       "\n",
       "                                                 source  \\\n",
       "56    <a href=\"http://twitter.com/download/iphone\" r...   \n",
       "649   <a href=\"http://twitter.com/download/iphone\" r...   \n",
       "801   <a href=\"http://twitter.com/download/iphone\" r...   \n",
       "1002  <a href=\"http://twitter.com/download/iphone\" r...   \n",
       "1004  <a href=\"http://twitter.com/download/iphone\" r...   \n",
       "...                                                 ...   \n",
       "2351  <a href=\"http://twitter.com/download/iphone\" r...   \n",
       "2352  <a href=\"http://twitter.com/download/iphone\" r...   \n",
       "2353  <a href=\"http://twitter.com/download/iphone\" r...   \n",
       "2354  <a href=\"http://twitter.com/download/iphone\" r...   \n",
       "2355  <a href=\"http://twitter.com/download/iphone\" r...   \n",
       "\n",
       "                                              full_text  retweeted_status_id  \\\n",
       "56    Here is a pupper approaching maximum borkdrive...                  NaN   \n",
       "649   Here is a perfect example of someone who has t...                  NaN   \n",
       "801   Guys this is getting so out of hand. We only r...                  NaN   \n",
       "1002  This is a mighty rare blue-tailed hammer sherk...                  NaN   \n",
       "1004  Viewer discretion is advised. This is a terrib...                  NaN   \n",
       "...                                                 ...                  ...   \n",
       "2351  Here we have a 1949 1st generation vulpix. Enj...                  NaN   \n",
       "2352  This is a purebred Piers Morgan. Loves to Netf...                  NaN   \n",
       "2353  Here is a very happy pup. Big fan of well-main...                  NaN   \n",
       "2354  This is a western brown Mitsubishi terrier. Up...                  NaN   \n",
       "2355  Here we have a Japanese Irish Setter. Lost eye...                  NaN   \n",
       "\n",
       "      retweeted_status_user_id retweeted_status_timestamp  \\\n",
       "56                         NaN                        NaN   \n",
       "649                        NaN                        NaN   \n",
       "801                        NaN                        NaN   \n",
       "1002                       NaN                        NaN   \n",
       "1004                       NaN                        NaN   \n",
       "...                        ...                        ...   \n",
       "2351                       NaN                        NaN   \n",
       "2352                       NaN                        NaN   \n",
       "2353                       NaN                        NaN   \n",
       "2354                       NaN                        NaN   \n",
       "2355                       NaN                        NaN   \n",
       "\n",
       "                                          expanded_urls  ...   p1_conf  \\\n",
       "56    https://twitter.com/dog_rates/status/881536004...  ...  0.281463   \n",
       "649   https://twitter.com/dog_rates/status/792913359...  ...  0.226716   \n",
       "801   https://twitter.com/dog_rates/status/772581559...  ...  0.574345   \n",
       "1002  https://twitter.com/dog_rates/status/747885874...  ...  0.408450   \n",
       "1004  https://twitter.com/dog_rates/status/747816857...  ...  0.768923   \n",
       "...                                                 ...  ...       ...   \n",
       "2351  https://twitter.com/dog_rates/status/666049248...  ...  0.560311   \n",
       "2352  https://twitter.com/dog_rates/status/666044226...  ...  0.408143   \n",
       "2353  https://twitter.com/dog_rates/status/666033412...  ...  0.596461   \n",
       "2354  https://twitter.com/dog_rates/status/666029285...  ...  0.506826   \n",
       "2355  https://twitter.com/dog_rates/status/666020888...  ...  0.465074   \n",
       "\n",
       "      p1_dog                  p2   p2_conf p2_dog                   p3  \\\n",
       "56      True              Angora  0.272066  False          Persian_cat   \n",
       "649    False             lighter  0.081941  False               switch   \n",
       "801     True       Border_collie  0.128352   True        Saint_Bernard   \n",
       "1002    True             Samoyed  0.141330   True                  pug   \n",
       "1004    True           Chihuahua  0.029053   True    Shetland_sheepdog   \n",
       "...      ...                 ...       ...    ...                  ...   \n",
       "2351    True          Rottweiler  0.243682   True             Doberman   \n",
       "2352    True             redbone  0.360687   True   miniature_pinscher   \n",
       "2353    True            malinois  0.138584   True           bloodhound   \n",
       "2354    True  miniature_pinscher  0.074192   True  Rhodesian_ridgeback   \n",
       "2355    True              collie  0.156665   True    Shetland_sheepdog   \n",
       "\n",
       "       p3_conf p3_dog  retweet_count favorite_count  \n",
       "56    0.114854  False        16570.0        50199.0  \n",
       "649   0.039009  False         4715.0        16063.0  \n",
       "801   0.059476   True         1968.0         7192.0  \n",
       "1002  0.083018   True         1116.0         3243.0  \n",
       "1004  0.029035   True         1316.0         5346.0  \n",
       "...        ...    ...            ...            ...  \n",
       "2351  0.154629   True           41.0          111.0  \n",
       "2352  0.222752   True          147.0          311.0  \n",
       "2353  0.116197   True           47.0          128.0  \n",
       "2354  0.072010   True           48.0          132.0  \n",
       "2355  0.061428   True          532.0         2535.0  \n",
       "\n",
       "[82 rows x 30 columns]"
      ]
     },
     "execution_count": 60,
     "metadata": {},
     "output_type": "execute_result"
    }
   ],
   "source": [
    "clean_twitter_archive[clean_twitter_archive.name=='ashley'  ]\n"
   ]
  },
  {
   "cell_type": "markdown",
   "id": "b0b5b1b1",
   "metadata": {},
   "source": [
    "### probleme 5:\n",
    " **Probleme de type de donees au niveau des colonnes timestamp,tweet_id,retweet_count,favorite_count**\n"
   ]
  },
  {
   "cell_type": "markdown",
   "id": "43f542cb",
   "metadata": {},
   "source": [
    "### definir :\n",
    "Changer les types des collones "
   ]
  },
  {
   "cell_type": "markdown",
   "id": "4a6162ab",
   "metadata": {},
   "source": [
    "### Code :"
   ]
  },
  {
   "cell_type": "code",
   "execution_count": 61,
   "id": "04333542",
   "metadata": {},
   "outputs": [],
   "source": [
    "##pour contouner certains probleme nous remplacons les valeurs none par zero \n",
    "clean_twitter_archive['retweet_count'] = clean_twitter_archive['retweet_count'].fillna(0)\n",
    "\n",
    "clean_twitter_archive['favorite_count'] = clean_twitter_archive['favorite_count'].fillna(0)\n",
    "\n"
   ]
  },
  {
   "cell_type": "code",
   "execution_count": 62,
   "id": "35fcf04d",
   "metadata": {},
   "outputs": [],
   "source": [
    "# Changer le type de tweet_id\n",
    "clean_twitter_archive['tweet_id'] = clean_twitter_archive['tweet_id'].astype('str')\n",
    "\n",
    "\n",
    "#changer le type de timestamp\n",
    "clean_twitter_archive['timestamp'] = clean_twitter_archive['timestamp'].astype('datetime64')\n",
    "\n",
    "\n",
    "#changer le type de retweet_count\n",
    "clean_twitter_archive['retweet_count'] = clean_twitter_archive['retweet_count'].astype('int64')\n",
    "\n",
    "#changer le type de favorite_count\n",
    "clean_twitter_archive['favorite_count'] = clean_twitter_archive['favorite_count'].astype('int64')\n",
    "\n"
   ]
  },
  {
   "cell_type": "markdown",
   "id": "f3fd97cf",
   "metadata": {},
   "source": [
    "### Tester :"
   ]
  },
  {
   "cell_type": "code",
   "execution_count": 63,
   "id": "93ab5a9a",
   "metadata": {},
   "outputs": [
    {
     "name": "stdout",
     "output_type": "stream",
     "text": [
      "<class 'pandas.core.frame.DataFrame'>\n",
      "Int64Index: 2356 entries, 0 to 2355\n",
      "Data columns (total 30 columns):\n",
      " #   Column                      Non-Null Count  Dtype         \n",
      "---  ------                      --------------  -----         \n",
      " 0   tweet_id                    2356 non-null   object        \n",
      " 1   in_reply_to_status_id       78 non-null     float64       \n",
      " 2   in_reply_to_user_id         78 non-null     float64       \n",
      " 3   timestamp                   2356 non-null   datetime64[ns]\n",
      " 4   source                      2356 non-null   object        \n",
      " 5   full_text                   2356 non-null   object        \n",
      " 6   retweeted_status_id         181 non-null    float64       \n",
      " 7   retweeted_status_user_id    181 non-null    float64       \n",
      " 8   retweeted_status_timestamp  181 non-null    object        \n",
      " 9   expanded_urls               2297 non-null   object        \n",
      " 10  rating_numerator            2356 non-null   int64         \n",
      " 11  rating_denominator          2356 non-null   int64         \n",
      " 12  name                        2356 non-null   object        \n",
      " 13  doggo                       2356 non-null   object        \n",
      " 14  floofer                     2356 non-null   object        \n",
      " 15  pupper                      2356 non-null   object        \n",
      " 16  puppo                       2356 non-null   object        \n",
      " 17  jpg_url                     2075 non-null   object        \n",
      " 18  img_num                     2075 non-null   float64       \n",
      " 19  p1                          2075 non-null   object        \n",
      " 20  p1_conf                     2075 non-null   float64       \n",
      " 21  p1_dog                      2075 non-null   object        \n",
      " 22  p2                          2075 non-null   object        \n",
      " 23  p2_conf                     2075 non-null   float64       \n",
      " 24  p2_dog                      2075 non-null   object        \n",
      " 25  p3                          2075 non-null   object        \n",
      " 26  p3_conf                     2075 non-null   float64       \n",
      " 27  p3_dog                      2075 non-null   object        \n",
      " 28  retweet_count               2356 non-null   int64         \n",
      " 29  favorite_count              2356 non-null   int64         \n",
      "dtypes: datetime64[ns](1), float64(8), int64(4), object(17)\n",
      "memory usage: 570.6+ KB\n"
     ]
    }
   ],
   "source": [
    "clean_twitter_archive.info()"
   ]
  },
  {
   "cell_type": "markdown",
   "id": "03fb3925",
   "metadata": {},
   "source": [
    "### Probleme 6: \n",
    "Certains tweets sont des re-tweets/réponses qui ne sont pas nécessaires pour l'analyse car ce ne sont pas des tweets originaux \n"
   ]
  },
  {
   "cell_type": "markdown",
   "id": "4153c76d",
   "metadata": {},
   "source": [
    "### Definir : \n",
    "Effacer les tweets qui sont pas originaux pour ne laisser que les vrai tweets pour l'analyse"
   ]
  },
  {
   "cell_type": "markdown",
   "id": "ca61cd38",
   "metadata": {},
   "source": [
    "### Code :"
   ]
  },
  {
   "cell_type": "code",
   "execution_count": 64,
   "id": "1b40b619",
   "metadata": {},
   "outputs": [],
   "source": [
    "# suppression des retweets  \n",
    "clean_twitter_archive = clean_twitter_archive[clean_twitter_archive.retweeted_status_id.isnull()]\n",
    "\n",
    "# suppression des retweets srépones aux tweets\n",
    "clean_twitter_archive = clean_twitter_archive[clean_twitter_archive.in_reply_to_status_id.isnull()]"
   ]
  },
  {
   "cell_type": "markdown",
   "id": "ce7fe1ed",
   "metadata": {},
   "source": [
    "### Tester"
   ]
  },
  {
   "cell_type": "code",
   "execution_count": 65,
   "id": "7fe7a597",
   "metadata": {},
   "outputs": [
    {
     "data": {
      "text/plain": [
       "0"
      ]
     },
     "execution_count": 65,
     "metadata": {},
     "output_type": "execute_result"
    }
   ],
   "source": [
    "clean_twitter_archive.in_reply_to_status_id.notnull().sum() "
   ]
  },
  {
   "cell_type": "markdown",
   "id": "a917335a",
   "metadata": {},
   "source": [
    "### Probleme 7 : \n",
    "** certaines collonnes ne sont pas neccessaire pour l'analyse  pour notre annalyse** \n"
   ]
  },
  {
   "cell_type": "markdown",
   "id": "f9f18799",
   "metadata": {},
   "source": [
    "### Definir :\n",
    "Supprimer toutes les collones non neccessaires  "
   ]
  },
  {
   "cell_type": "markdown",
   "id": "cc0cb398",
   "metadata": {},
   "source": [
    "### Code :"
   ]
  },
  {
   "cell_type": "code",
   "execution_count": 66,
   "id": "aba2723b",
   "metadata": {},
   "outputs": [],
   "source": [
    " clean_twitter_archive.drop(columns=['retweeted_status_id' , 'retweeted_status_user_id' , 'retweeted_status_timestamp','in_reply_to_user_id','in_reply_to_status_id'],axis=1,inplace=True)"
   ]
  },
  {
   "cell_type": "markdown",
   "id": "bb447ca3",
   "metadata": {},
   "source": [
    "### Tester :"
   ]
  },
  {
   "cell_type": "code",
   "execution_count": 67,
   "id": "1c8e8b81",
   "metadata": {},
   "outputs": [
    {
     "data": {
      "text/plain": [
       "['tweet_id',\n",
       " 'timestamp',\n",
       " 'source',\n",
       " 'full_text',\n",
       " 'expanded_urls',\n",
       " 'rating_numerator',\n",
       " 'rating_denominator',\n",
       " 'name',\n",
       " 'doggo',\n",
       " 'floofer',\n",
       " 'pupper',\n",
       " 'puppo',\n",
       " 'jpg_url',\n",
       " 'img_num',\n",
       " 'p1',\n",
       " 'p1_conf',\n",
       " 'p1_dog',\n",
       " 'p2',\n",
       " 'p2_conf',\n",
       " 'p2_dog',\n",
       " 'p3',\n",
       " 'p3_conf',\n",
       " 'p3_dog',\n",
       " 'retweet_count',\n",
       " 'favorite_count']"
      ]
     },
     "execution_count": 67,
     "metadata": {},
     "output_type": "execute_result"
    }
   ],
   "source": [
    "clean_twitter_archive.columns.to_list()"
   ]
  },
  {
   "cell_type": "markdown",
   "id": "11cfc3c6",
   "metadata": {},
   "source": [
    "### Probleme 8.\n",
    "Il existe des lignes  pour lequels le dénominateur d'évaluation est soit 0 ou est inferieur 10 , ce qui n'est pas valide au reagard de la norme .\n"
   ]
  },
  {
   "cell_type": "markdown",
   "id": "47461f1c",
   "metadata": {},
   "source": [
    "### Definir : \n",
    "Remplacer les denominateurs autres que 10 par 10"
   ]
  },
  {
   "cell_type": "markdown",
   "id": "366ce752",
   "metadata": {},
   "source": [
    "### Code :"
   ]
  },
  {
   "cell_type": "code",
   "execution_count": 68,
   "id": "ea0561f7",
   "metadata": {},
   "outputs": [],
   "source": [
    "clean_twitter_archive = clean_twitter_archive[clean_twitter_archive.rating_denominator == 10]\n"
   ]
  },
  {
   "cell_type": "markdown",
   "id": "2eabc912",
   "metadata": {},
   "source": [
    "### Tester"
   ]
  },
  {
   "cell_type": "code",
   "execution_count": 69,
   "id": "7866f559",
   "metadata": {},
   "outputs": [
    {
     "data": {
      "text/plain": [
       "10    2080\n",
       "Name: rating_denominator, dtype: int64"
      ]
     },
     "execution_count": 69,
     "metadata": {},
     "output_type": "execute_result"
    }
   ],
   "source": [
    "clean_twitter_archive.rating_denominator.value_counts()"
   ]
  },
  {
   "cell_type": "markdown",
   "id": "8fb5a951",
   "metadata": {},
   "source": [
    "### Probleme 9:\n",
    "certianes  valeurs du numérateur des notes sont tres largemnt  supérieures à 10 comme   1776. on peut se limiter a 15 comme la plus forte note et considerer toute valeur superieur comme des outliers\n"
   ]
  },
  {
   "cell_type": "markdown",
   "id": "8e00c1d3",
   "metadata": {},
   "source": [
    "### Definir : \n",
    "Remplacer les note au numerateur plus grand que 15 par 15 et aussi celle qui sont egale a 0 par 1"
   ]
  },
  {
   "cell_type": "markdown",
   "id": "881678ef",
   "metadata": {},
   "source": [
    "### Code :"
   ]
  },
  {
   "cell_type": "code",
   "execution_count": 70,
   "id": "90b3bb23",
   "metadata": {},
   "outputs": [],
   "source": [
    "\n",
    "clean_twitter_archive['rating_numerator'].mask(clean_twitter_archive['rating_numerator'] > 15, 15, inplace=True)\n",
    "\n",
    "clean_twitter_archive['rating_numerator'].mask(clean_twitter_archive['rating_numerator'] == 0, 1, inplace=True)\n",
    "\n"
   ]
  },
  {
   "cell_type": "code",
   "execution_count": 71,
   "id": "c25b20bd",
   "metadata": {},
   "outputs": [
    {
     "data": {
      "text/plain": [
       "12    486\n",
       "10    436\n",
       "11    413\n",
       "13    287\n",
       "9     152\n",
       "8      98\n",
       "7      51\n",
       "14     38\n",
       "5      34\n",
       "6      32\n",
       "3      19\n",
       "4      15\n",
       "2       9\n",
       "1       5\n",
       "15      5\n",
       "Name: rating_numerator, dtype: int64"
      ]
     },
     "execution_count": 71,
     "metadata": {},
     "output_type": "execute_result"
    }
   ],
   "source": [
    "clean_twitter_archive.rating_numerator.value_counts()"
   ]
  },
  {
   "cell_type": "markdown",
   "id": "2bce3e37",
   "metadata": {},
   "source": [
    "### Tester :"
   ]
  },
  {
   "cell_type": "code",
   "execution_count": 72,
   "id": "2a8c6747",
   "metadata": {},
   "outputs": [
    {
     "data": {
      "text/html": [
       "<div>\n",
       "<style scoped>\n",
       "    .dataframe tbody tr th:only-of-type {\n",
       "        vertical-align: middle;\n",
       "    }\n",
       "\n",
       "    .dataframe tbody tr th {\n",
       "        vertical-align: top;\n",
       "    }\n",
       "\n",
       "    .dataframe thead th {\n",
       "        text-align: right;\n",
       "    }\n",
       "</style>\n",
       "<table border=\"1\" class=\"dataframe\">\n",
       "  <thead>\n",
       "    <tr style=\"text-align: right;\">\n",
       "      <th></th>\n",
       "      <th>tweet_id</th>\n",
       "      <th>timestamp</th>\n",
       "      <th>source</th>\n",
       "      <th>full_text</th>\n",
       "      <th>expanded_urls</th>\n",
       "      <th>rating_numerator</th>\n",
       "      <th>rating_denominator</th>\n",
       "      <th>name</th>\n",
       "      <th>doggo</th>\n",
       "      <th>floofer</th>\n",
       "      <th>...</th>\n",
       "      <th>p1_conf</th>\n",
       "      <th>p1_dog</th>\n",
       "      <th>p2</th>\n",
       "      <th>p2_conf</th>\n",
       "      <th>p2_dog</th>\n",
       "      <th>p3</th>\n",
       "      <th>p3_conf</th>\n",
       "      <th>p3_dog</th>\n",
       "      <th>retweet_count</th>\n",
       "      <th>favorite_count</th>\n",
       "    </tr>\n",
       "  </thead>\n",
       "  <tbody>\n",
       "  </tbody>\n",
       "</table>\n",
       "<p>0 rows × 25 columns</p>\n",
       "</div>"
      ],
      "text/plain": [
       "Empty DataFrame\n",
       "Columns: [tweet_id, timestamp, source, full_text, expanded_urls, rating_numerator, rating_denominator, name, doggo, floofer, pupper, puppo, jpg_url, img_num, p1, p1_conf, p1_dog, p2, p2_conf, p2_dog, p3, p3_conf, p3_dog, retweet_count, favorite_count]\n",
       "Index: []\n",
       "\n",
       "[0 rows x 25 columns]"
      ]
     },
     "execution_count": 72,
     "metadata": {},
     "output_type": "execute_result"
    }
   ],
   "source": [
    "clean_twitter_archive[clean_twitter_archive['rating_numerator'] > 15]\n"
   ]
  },
  {
   "cell_type": "code",
   "execution_count": 73,
   "id": "f0778a3f",
   "metadata": {},
   "outputs": [
    {
     "data": {
      "text/html": [
       "<div>\n",
       "<style scoped>\n",
       "    .dataframe tbody tr th:only-of-type {\n",
       "        vertical-align: middle;\n",
       "    }\n",
       "\n",
       "    .dataframe tbody tr th {\n",
       "        vertical-align: top;\n",
       "    }\n",
       "\n",
       "    .dataframe thead th {\n",
       "        text-align: right;\n",
       "    }\n",
       "</style>\n",
       "<table border=\"1\" class=\"dataframe\">\n",
       "  <thead>\n",
       "    <tr style=\"text-align: right;\">\n",
       "      <th></th>\n",
       "      <th>tweet_id</th>\n",
       "      <th>timestamp</th>\n",
       "      <th>source</th>\n",
       "      <th>full_text</th>\n",
       "      <th>expanded_urls</th>\n",
       "      <th>rating_numerator</th>\n",
       "      <th>rating_denominator</th>\n",
       "      <th>name</th>\n",
       "      <th>doggo</th>\n",
       "      <th>floofer</th>\n",
       "      <th>...</th>\n",
       "      <th>p1_conf</th>\n",
       "      <th>p1_dog</th>\n",
       "      <th>p2</th>\n",
       "      <th>p2_conf</th>\n",
       "      <th>p2_dog</th>\n",
       "      <th>p3</th>\n",
       "      <th>p3_conf</th>\n",
       "      <th>p3_dog</th>\n",
       "      <th>retweet_count</th>\n",
       "      <th>favorite_count</th>\n",
       "    </tr>\n",
       "  </thead>\n",
       "  <tbody>\n",
       "  </tbody>\n",
       "</table>\n",
       "<p>0 rows × 25 columns</p>\n",
       "</div>"
      ],
      "text/plain": [
       "Empty DataFrame\n",
       "Columns: [tweet_id, timestamp, source, full_text, expanded_urls, rating_numerator, rating_denominator, name, doggo, floofer, pupper, puppo, jpg_url, img_num, p1, p1_conf, p1_dog, p2, p2_conf, p2_dog, p3, p3_conf, p3_dog, retweet_count, favorite_count]\n",
       "Index: []\n",
       "\n",
       "[0 rows x 25 columns]"
      ]
     },
     "execution_count": 73,
     "metadata": {},
     "output_type": "execute_result"
    }
   ],
   "source": [
    "clean_twitter_archive[clean_twitter_archive['rating_numerator'] == 0]\n"
   ]
  },
  {
   "cell_type": "markdown",
   "id": "0bba66ec",
   "metadata": {},
   "source": [
    "### Probleme 10 "
   ]
  },
  {
   "cell_type": "markdown",
   "id": "3f8b3b96",
   "metadata": {},
   "source": [
    "### Definir :\n",
    "La balise html unitile dans la colonne Source: recuperer la vrai source et suprimer les balises "
   ]
  },
  {
   "cell_type": "markdown",
   "id": "913b611b",
   "metadata": {},
   "source": [
    "### Code :"
   ]
  },
  {
   "cell_type": "code",
   "execution_count": 74,
   "id": "36c81798",
   "metadata": {},
   "outputs": [
    {
     "name": "stderr",
     "output_type": "stream",
     "text": [
      "C:\\Users\\Stephane\\AppData\\Local\\Temp\\ipykernel_8156\\3589886872.py:1: FutureWarning: The default value of regex will change from True to False in a future version.\n",
      "  clean_twitter_archive['source'] = clean_twitter_archive['source'].str.replace(r'<(?:a\\b[^>]*>|/a>)', '')\n"
     ]
    }
   ],
   "source": [
    "clean_twitter_archive['source'] = clean_twitter_archive['source'].str.replace(r'<(?:a\\b[^>]*>|/a>)', '')\n"
   ]
  },
  {
   "cell_type": "markdown",
   "id": "2d2fb8b6",
   "metadata": {},
   "source": [
    "### Tester :"
   ]
  },
  {
   "cell_type": "code",
   "execution_count": 75,
   "id": "1cd52dfe",
   "metadata": {},
   "outputs": [
    {
     "data": {
      "text/plain": [
       "Twitter for iPhone     1947\n",
       "Vine - Make a Scene      91\n",
       "Twitter Web Client       31\n",
       "TweetDeck                11\n",
       "Name: source, dtype: int64"
      ]
     },
     "execution_count": 75,
     "metadata": {},
     "output_type": "execute_result"
    }
   ],
   "source": [
    "clean_twitter_archive.source.value_counts()"
   ]
  },
  {
   "cell_type": "markdown",
   "id": "2ff30494",
   "metadata": {},
   "source": [
    "### Probleme  11:\n",
    "des collonnes p1,p1_config,p1_dog,p2,p2_config,p2_dog ne sont pas assez explicite pour la comprehension et devrait etre modiffie"
   ]
  },
  {
   "cell_type": "markdown",
   "id": "148d7fd4",
   "metadata": {},
   "source": [
    "### Definir : \n",
    "Renommer les collonnes pour les rendre plus comprehensible"
   ]
  },
  {
   "cell_type": "code",
   "execution_count": 76,
   "id": "3155e046",
   "metadata": {},
   "outputs": [],
   "source": [
    "### Code :\n",
    "def remame_colomns(df,colonne_name, new_col_name):\n",
    "    return df.rename(columns={colonne_name: new_col_name}, inplace=True)"
   ]
  },
  {
   "cell_type": "markdown",
   "id": "1dffcf2f",
   "metadata": {},
   "source": [
    "### code :"
   ]
  },
  {
   "cell_type": "code",
   "execution_count": 77,
   "id": "5ead752a",
   "metadata": {},
   "outputs": [],
   "source": [
    "#p1\n",
    "remame_colomns(clean_twitter_archive,'p1','prediction_1')\n",
    "remame_colomns(clean_twitter_archive,'p1_conf','prediction_1_config')\n",
    "remame_colomns(clean_twitter_archive,'p1_dog','prediction_1_dog')\n",
    "#p2\n",
    "remame_colomns(clean_twitter_archive,'p2','prediction_2')\n",
    "remame_colomns(clean_twitter_archive,'p2_conf','prediction_2_config')\n",
    "remame_colomns(clean_twitter_archive,'p2_dog','prediction_2_dog')\n",
    "#p3\n",
    "remame_colomns(clean_twitter_archive,'p3','prediction_3')\n",
    "remame_colomns(clean_twitter_archive,'p3_conf','prediction_3_config')\n",
    "remame_colomns(clean_twitter_archive,'p3_dog','prediction_3_dog')\n",
    "\n"
   ]
  },
  {
   "cell_type": "code",
   "execution_count": 78,
   "id": "35e8402f",
   "metadata": {},
   "outputs": [
    {
     "data": {
      "text/plain": [
       "['tweet_id',\n",
       " 'timestamp',\n",
       " 'source',\n",
       " 'full_text',\n",
       " 'expanded_urls',\n",
       " 'rating_numerator',\n",
       " 'rating_denominator',\n",
       " 'name',\n",
       " 'doggo',\n",
       " 'floofer',\n",
       " 'pupper',\n",
       " 'puppo',\n",
       " 'jpg_url',\n",
       " 'img_num',\n",
       " 'prediction_1',\n",
       " 'prediction_1_config',\n",
       " 'prediction_1_dog',\n",
       " 'prediction_2',\n",
       " 'prediction_2_config',\n",
       " 'prediction_2_dog',\n",
       " 'prediction_3',\n",
       " 'prediction_3_config',\n",
       " 'prediction_3_dog',\n",
       " 'retweet_count',\n",
       " 'favorite_count']"
      ]
     },
     "execution_count": 78,
     "metadata": {},
     "output_type": "execute_result"
    }
   ],
   "source": [
    "list(clean_twitter_archive.columns)"
   ]
  },
  {
   "cell_type": "markdown",
   "id": "120dd7d1",
   "metadata": {},
   "source": [
    "### probleme 12: \n",
    "les collones doggo,floofer,pupper,puppo doivent etre regroupe en une seul collone puuique certaines valeur se retrouve a la fois comme nom de collone et comme valeurs d'une colone."
   ]
  },
  {
   "cell_type": "markdown",
   "id": "d55b7643",
   "metadata": {},
   "source": [
    "### Definir: \n",
    "combiner ces collones en une seule \"dog_level\" pour represente l'etat du chien et supprimons les "
   ]
  },
  {
   "cell_type": "markdown",
   "id": "8d7321ea",
   "metadata": {},
   "source": [
    "### Code :"
   ]
  },
  {
   "cell_type": "code",
   "execution_count": 79,
   "id": "318a19f5",
   "metadata": {},
   "outputs": [],
   "source": [
    "clean_twitter_archive['dog_level'] = clean_twitter_archive['full_text'].str.extract('(doggo|floofer|pupper|puppo)')\n",
    "#suppression des collonnes combines\n",
    "clean_twitter_archive = clean_twitter_archive.drop(columns=['doggo','floofer','pupper','puppo'])\n",
    "#Remplissement des valeurs nulles de la colonne de dog_level\n",
    "clean_twitter_archive['dog_level'].fillna(method ='ffill' ,inplace= True)\n"
   ]
  },
  {
   "cell_type": "markdown",
   "id": "c32a58cf",
   "metadata": {},
   "source": [
    "### Tester :"
   ]
  },
  {
   "cell_type": "code",
   "execution_count": 80,
   "id": "79c477eb",
   "metadata": {},
   "outputs": [
    {
     "data": {
      "text/plain": [
       "array([nan, 'doggo', 'puppo', 'pupper', 'floofer'], dtype=object)"
      ]
     },
     "execution_count": 80,
     "metadata": {},
     "output_type": "execute_result"
    }
   ],
   "source": [
    "clean_twitter_archive['dog_level'].unique()"
   ]
  },
  {
   "cell_type": "markdown",
   "id": "a8d1fa5e",
   "metadata": {},
   "source": [
    "### Tester :"
   ]
  },
  {
   "cell_type": "code",
   "execution_count": 81,
   "id": "957450be",
   "metadata": {},
   "outputs": [
    {
     "data": {
      "text/plain": [
       "tweet_id                 0\n",
       "timestamp                0\n",
       "source                   0\n",
       "full_text                0\n",
       "expanded_urls            3\n",
       "rating_numerator         0\n",
       "rating_denominator       0\n",
       "name                     0\n",
       "jpg_url                126\n",
       "img_num                126\n",
       "prediction_1           126\n",
       "prediction_1_config    126\n",
       "prediction_1_dog       126\n",
       "prediction_2           126\n",
       "prediction_2_config    126\n",
       "prediction_2_dog       126\n",
       "prediction_3           126\n",
       "prediction_3_config    126\n",
       "prediction_3_dog       126\n",
       "retweet_count            0\n",
       "favorite_count           0\n",
       "dog_level                9\n",
       "dtype: int64"
      ]
     },
     "execution_count": 81,
     "metadata": {},
     "output_type": "execute_result"
    }
   ],
   "source": [
    "#verification des valeurs encore manquantes\n",
    "clean_twitter_archive.isnull().sum()"
   ]
  },
  {
   "cell_type": "code",
   "execution_count": 82,
   "id": "886a7d17",
   "metadata": {},
   "outputs": [],
   "source": [
    "# supresssions des lignes avec des valeurs manquantes\n",
    "clean_twitter_archive.dropna(inplace=True)\n"
   ]
  },
  {
   "cell_type": "code",
   "execution_count": 83,
   "id": "95cd5d75",
   "metadata": {},
   "outputs": [
    {
     "data": {
      "text/plain": [
       "tweet_id               0\n",
       "timestamp              0\n",
       "source                 0\n",
       "full_text              0\n",
       "expanded_urls          0\n",
       "rating_numerator       0\n",
       "rating_denominator     0\n",
       "name                   0\n",
       "jpg_url                0\n",
       "img_num                0\n",
       "prediction_1           0\n",
       "prediction_1_config    0\n",
       "prediction_1_dog       0\n",
       "prediction_2           0\n",
       "prediction_2_config    0\n",
       "prediction_2_dog       0\n",
       "prediction_3           0\n",
       "prediction_3_config    0\n",
       "prediction_3_dog       0\n",
       "retweet_count          0\n",
       "favorite_count         0\n",
       "dog_level              0\n",
       "dtype: int64"
      ]
     },
     "execution_count": 83,
     "metadata": {},
     "output_type": "execute_result"
    }
   ],
   "source": [
    "# Reverification \n",
    "clean_twitter_archive.isnull().sum()"
   ]
  },
  {
   "cell_type": "code",
   "execution_count": 84,
   "id": "d7788d5d",
   "metadata": {},
   "outputs": [
    {
     "data": {
      "text/plain": [
       "0"
      ]
     },
     "execution_count": 84,
     "metadata": {},
     "output_type": "execute_result"
    }
   ],
   "source": [
    "#Verification des valeurs dupliquees\n",
    "clean_twitter_archive.duplicated().sum()"
   ]
  },
  {
   "cell_type": "code",
   "execution_count": 85,
   "id": "aa8984b7",
   "metadata": {},
   "outputs": [
    {
     "data": {
      "text/plain": [
       "(1945, 22)"
      ]
     },
     "execution_count": 85,
     "metadata": {},
     "output_type": "execute_result"
    }
   ],
   "source": [
    "# Le shape final\n",
    "clean_twitter_archive.shape"
   ]
  },
  {
   "cell_type": "markdown",
   "id": "3f501b2b",
   "metadata": {},
   "source": [
    "### Sauvegarde de la donnee traite"
   ]
  },
  {
   "cell_type": "code",
   "execution_count": 86,
   "id": "725a9c84",
   "metadata": {},
   "outputs": [],
   "source": [
    "clean_twitter_archive.to_csv('twitter_archive_master.csv', index=False)"
   ]
  },
  {
   "cell_type": "markdown",
   "id": "590dea72",
   "metadata": {},
   "source": [
    "# Visualiation des donnes\n"
   ]
  },
  {
   "cell_type": "code",
   "execution_count": 87,
   "id": "ee0cebce",
   "metadata": {},
   "outputs": [
    {
     "name": "stdout",
     "output_type": "stream",
     "text": [
      "<class 'pandas.core.frame.DataFrame'>\n",
      "Int64Index: 1945 entries, 9 to 2355\n",
      "Data columns (total 22 columns):\n",
      " #   Column               Non-Null Count  Dtype         \n",
      "---  ------               --------------  -----         \n",
      " 0   tweet_id             1945 non-null   object        \n",
      " 1   timestamp            1945 non-null   datetime64[ns]\n",
      " 2   source               1945 non-null   object        \n",
      " 3   full_text            1945 non-null   object        \n",
      " 4   expanded_urls        1945 non-null   object        \n",
      " 5   rating_numerator     1945 non-null   int64         \n",
      " 6   rating_denominator   1945 non-null   int64         \n",
      " 7   name                 1945 non-null   object        \n",
      " 8   jpg_url              1945 non-null   object        \n",
      " 9   img_num              1945 non-null   float64       \n",
      " 10  prediction_1         1945 non-null   object        \n",
      " 11  prediction_1_config  1945 non-null   float64       \n",
      " 12  prediction_1_dog     1945 non-null   object        \n",
      " 13  prediction_2         1945 non-null   object        \n",
      " 14  prediction_2_config  1945 non-null   float64       \n",
      " 15  prediction_2_dog     1945 non-null   object        \n",
      " 16  prediction_3         1945 non-null   object        \n",
      " 17  prediction_3_config  1945 non-null   float64       \n",
      " 18  prediction_3_dog     1945 non-null   object        \n",
      " 19  retweet_count        1945 non-null   int64         \n",
      " 20  favorite_count       1945 non-null   int64         \n",
      " 21  dog_level            1945 non-null   object        \n",
      "dtypes: datetime64[ns](1), float64(4), int64(4), object(13)\n",
      "memory usage: 349.5+ KB\n"
     ]
    }
   ],
   "source": [
    "clean_twitter_archive.info()\n"
   ]
  },
  {
   "cell_type": "code",
   "execution_count": 88,
   "id": "071f39b0",
   "metadata": {},
   "outputs": [
    {
     "data": {
      "text/html": [
       "<div>\n",
       "<style scoped>\n",
       "    .dataframe tbody tr th:only-of-type {\n",
       "        vertical-align: middle;\n",
       "    }\n",
       "\n",
       "    .dataframe tbody tr th {\n",
       "        vertical-align: top;\n",
       "    }\n",
       "\n",
       "    .dataframe thead th {\n",
       "        text-align: right;\n",
       "    }\n",
       "</style>\n",
       "<table border=\"1\" class=\"dataframe\">\n",
       "  <thead>\n",
       "    <tr style=\"text-align: right;\">\n",
       "      <th></th>\n",
       "      <th>tweet_id</th>\n",
       "      <th>timestamp</th>\n",
       "      <th>source</th>\n",
       "      <th>full_text</th>\n",
       "      <th>expanded_urls</th>\n",
       "      <th>rating_numerator</th>\n",
       "      <th>rating_denominator</th>\n",
       "      <th>name</th>\n",
       "      <th>jpg_url</th>\n",
       "      <th>img_num</th>\n",
       "      <th>...</th>\n",
       "      <th>prediction_1_dog</th>\n",
       "      <th>prediction_2</th>\n",
       "      <th>prediction_2_config</th>\n",
       "      <th>prediction_2_dog</th>\n",
       "      <th>prediction_3</th>\n",
       "      <th>prediction_3_config</th>\n",
       "      <th>prediction_3_dog</th>\n",
       "      <th>retweet_count</th>\n",
       "      <th>favorite_count</th>\n",
       "      <th>dog_level</th>\n",
       "    </tr>\n",
       "  </thead>\n",
       "  <tbody>\n",
       "    <tr>\n",
       "      <th>413</th>\n",
       "      <td>822872901745569793</td>\n",
       "      <td>2017-01-21 18:26:02</td>\n",
       "      <td>Twitter for iPhone</td>\n",
       "      <td>Here's a super supportive puppo participating ...</td>\n",
       "      <td>https://twitter.com/dog_rates/status/822872901...</td>\n",
       "      <td>13</td>\n",
       "      <td>10</td>\n",
       "      <td>Albus</td>\n",
       "      <td>https://pbs.twimg.com/media/C2tugXLXgAArJO4.jpg</td>\n",
       "      <td>1.0</td>\n",
       "      <td>...</td>\n",
       "      <td>True</td>\n",
       "      <td>Labrador_retriever</td>\n",
       "      <td>0.160329</td>\n",
       "      <td>True</td>\n",
       "      <td>Irish_terrier</td>\n",
       "      <td>0.069126</td>\n",
       "      <td>True</td>\n",
       "      <td>48265</td>\n",
       "      <td>132810</td>\n",
       "      <td>puppo</td>\n",
       "    </tr>\n",
       "  </tbody>\n",
       "</table>\n",
       "<p>1 rows × 22 columns</p>\n",
       "</div>"
      ],
      "text/plain": [
       "               tweet_id           timestamp              source  \\\n",
       "413  822872901745569793 2017-01-21 18:26:02  Twitter for iPhone   \n",
       "\n",
       "                                             full_text  \\\n",
       "413  Here's a super supportive puppo participating ...   \n",
       "\n",
       "                                         expanded_urls  rating_numerator  \\\n",
       "413  https://twitter.com/dog_rates/status/822872901...                13   \n",
       "\n",
       "     rating_denominator   name  \\\n",
       "413                  10  Albus   \n",
       "\n",
       "                                             jpg_url  img_num  ...  \\\n",
       "413  https://pbs.twimg.com/media/C2tugXLXgAArJO4.jpg      1.0  ...   \n",
       "\n",
       "    prediction_1_dog        prediction_2 prediction_2_config prediction_2_dog  \\\n",
       "413             True  Labrador_retriever            0.160329             True   \n",
       "\n",
       "      prediction_3 prediction_3_config prediction_3_dog  retweet_count  \\\n",
       "413  Irish_terrier            0.069126             True          48265   \n",
       "\n",
       "    favorite_count  dog_level  \n",
       "413         132810      puppo  \n",
       "\n",
       "[1 rows x 22 columns]"
      ]
     },
     "execution_count": 88,
     "metadata": {},
     "output_type": "execute_result"
    }
   ],
   "source": [
    "# la publication avec le plus de likes(favorite_count)\n",
    "clean_twitter_archive[clean_twitter_archive.favorite_count == clean_twitter_archive.favorite_count.max()]"
   ]
  },
  {
   "cell_type": "code",
   "execution_count": 89,
   "id": "f62a2d08",
   "metadata": {},
   "outputs": [
    {
     "data": {
      "text/plain": [
       "Twitter for iPhone    1906\n",
       "Twitter Web Client      28\n",
       "TweetDeck               11\n",
       "Name: source, dtype: int64"
      ]
     },
     "execution_count": 89,
     "metadata": {},
     "output_type": "execute_result"
    }
   ],
   "source": [
    "clean_twitter_archive.source.value_counts()"
   ]
  },
  {
   "cell_type": "code",
   "execution_count": 90,
   "id": "37598cae",
   "metadata": {},
   "outputs": [
    {
     "data": {
      "text/html": [
       "<div>\n",
       "<style scoped>\n",
       "    .dataframe tbody tr th:only-of-type {\n",
       "        vertical-align: middle;\n",
       "    }\n",
       "\n",
       "    .dataframe tbody tr th {\n",
       "        vertical-align: top;\n",
       "    }\n",
       "\n",
       "    .dataframe thead th {\n",
       "        text-align: right;\n",
       "    }\n",
       "</style>\n",
       "<table border=\"1\" class=\"dataframe\">\n",
       "  <thead>\n",
       "    <tr style=\"text-align: right;\">\n",
       "      <th></th>\n",
       "      <th>tweet_id</th>\n",
       "      <th>timestamp</th>\n",
       "      <th>source</th>\n",
       "      <th>full_text</th>\n",
       "      <th>expanded_urls</th>\n",
       "      <th>rating_numerator</th>\n",
       "      <th>rating_denominator</th>\n",
       "      <th>name</th>\n",
       "      <th>jpg_url</th>\n",
       "      <th>img_num</th>\n",
       "      <th>...</th>\n",
       "      <th>prediction_1_dog</th>\n",
       "      <th>prediction_2</th>\n",
       "      <th>prediction_2_config</th>\n",
       "      <th>prediction_2_dog</th>\n",
       "      <th>prediction_3</th>\n",
       "      <th>prediction_3_config</th>\n",
       "      <th>prediction_3_dog</th>\n",
       "      <th>retweet_count</th>\n",
       "      <th>favorite_count</th>\n",
       "      <th>dog_level</th>\n",
       "    </tr>\n",
       "  </thead>\n",
       "  <tbody>\n",
       "    <tr>\n",
       "      <th>1039</th>\n",
       "      <td>744234799360020481</td>\n",
       "      <td>2016-06-18 18:26:18</td>\n",
       "      <td>Twitter for iPhone</td>\n",
       "      <td>Here's a doggo realizing you can stand in a po...</td>\n",
       "      <td>https://twitter.com/dog_rates/status/744234799...</td>\n",
       "      <td>13</td>\n",
       "      <td>10</td>\n",
       "      <td>Blanket</td>\n",
       "      <td>https://pbs.twimg.com/ext_tw_video_thumb/74423...</td>\n",
       "      <td>1.0</td>\n",
       "      <td>...</td>\n",
       "      <td>True</td>\n",
       "      <td>ice_bear</td>\n",
       "      <td>0.044681</td>\n",
       "      <td>False</td>\n",
       "      <td>whippet</td>\n",
       "      <td>0.018442</td>\n",
       "      <td>True</td>\n",
       "      <td>79515</td>\n",
       "      <td>131075</td>\n",
       "      <td>doggo</td>\n",
       "    </tr>\n",
       "  </tbody>\n",
       "</table>\n",
       "<p>1 rows × 22 columns</p>\n",
       "</div>"
      ],
      "text/plain": [
       "                tweet_id           timestamp              source  \\\n",
       "1039  744234799360020481 2016-06-18 18:26:18  Twitter for iPhone   \n",
       "\n",
       "                                              full_text  \\\n",
       "1039  Here's a doggo realizing you can stand in a po...   \n",
       "\n",
       "                                          expanded_urls  rating_numerator  \\\n",
       "1039  https://twitter.com/dog_rates/status/744234799...                13   \n",
       "\n",
       "      rating_denominator     name  \\\n",
       "1039                  10  Blanket   \n",
       "\n",
       "                                                jpg_url  img_num  ...  \\\n",
       "1039  https://pbs.twimg.com/ext_tw_video_thumb/74423...      1.0  ...   \n",
       "\n",
       "     prediction_1_dog  prediction_2 prediction_2_config prediction_2_dog  \\\n",
       "1039             True      ice_bear            0.044681            False   \n",
       "\n",
       "      prediction_3 prediction_3_config prediction_3_dog  retweet_count  \\\n",
       "1039       whippet            0.018442             True          79515   \n",
       "\n",
       "     favorite_count  dog_level  \n",
       "1039         131075      doggo  \n",
       "\n",
       "[1 rows x 22 columns]"
      ]
     },
     "execution_count": 90,
     "metadata": {},
     "output_type": "execute_result"
    }
   ],
   "source": [
    " #la publication avec le plus de retweets(retweet_count)\n",
    "clean_twitter_archive[clean_twitter_archive.retweet_count == clean_twitter_archive.retweet_count.max()]"
   ]
  },
  {
   "cell_type": "code",
   "execution_count": 91,
   "id": "f3042b70",
   "metadata": {},
   "outputs": [
    {
     "data": {
      "text/html": [
       "<div>\n",
       "<style scoped>\n",
       "    .dataframe tbody tr th:only-of-type {\n",
       "        vertical-align: middle;\n",
       "    }\n",
       "\n",
       "    .dataframe tbody tr th {\n",
       "        vertical-align: top;\n",
       "    }\n",
       "\n",
       "    .dataframe thead th {\n",
       "        text-align: right;\n",
       "    }\n",
       "</style>\n",
       "<table border=\"1\" class=\"dataframe\">\n",
       "  <thead>\n",
       "    <tr style=\"text-align: right;\">\n",
       "      <th></th>\n",
       "      <th>tweet_id</th>\n",
       "      <th>timestamp</th>\n",
       "      <th>source</th>\n",
       "      <th>full_text</th>\n",
       "      <th>expanded_urls</th>\n",
       "      <th>rating_numerator</th>\n",
       "      <th>rating_denominator</th>\n",
       "      <th>name</th>\n",
       "      <th>jpg_url</th>\n",
       "      <th>img_num</th>\n",
       "      <th>...</th>\n",
       "      <th>prediction_1_dog</th>\n",
       "      <th>prediction_2</th>\n",
       "      <th>prediction_2_config</th>\n",
       "      <th>prediction_2_dog</th>\n",
       "      <th>prediction_3</th>\n",
       "      <th>prediction_3_config</th>\n",
       "      <th>prediction_3_dog</th>\n",
       "      <th>retweet_count</th>\n",
       "      <th>favorite_count</th>\n",
       "      <th>dog_level</th>\n",
       "    </tr>\n",
       "  </thead>\n",
       "  <tbody>\n",
       "    <tr>\n",
       "      <th>695</th>\n",
       "      <td>786709082849828864</td>\n",
       "      <td>2016-10-13 23:23:56</td>\n",
       "      <td>Twitter for iPhone</td>\n",
       "      <td>This is Logan, the Chow who lived. He solemnly...</td>\n",
       "      <td>https://twitter.com/dog_rates/status/786709082...</td>\n",
       "      <td>15</td>\n",
       "      <td>10</td>\n",
       "      <td>Logan</td>\n",
       "      <td>https://pbs.twimg.com/media/CurzvFTXgAA2_AP.jpg</td>\n",
       "      <td>1.0</td>\n",
       "      <td>...</td>\n",
       "      <td>True</td>\n",
       "      <td>Persian_cat</td>\n",
       "      <td>0.122978</td>\n",
       "      <td>False</td>\n",
       "      <td>chow</td>\n",
       "      <td>0.102654</td>\n",
       "      <td>True</td>\n",
       "      <td>7069</td>\n",
       "      <td>20296</td>\n",
       "      <td>puppo</td>\n",
       "    </tr>\n",
       "    <tr>\n",
       "      <th>763</th>\n",
       "      <td>778027034220126208</td>\n",
       "      <td>2016-09-20 00:24:34</td>\n",
       "      <td>Twitter for iPhone</td>\n",
       "      <td>This is Sophie. She's a Jubilant Bush Pupper. ...</td>\n",
       "      <td>https://twitter.com/dog_rates/status/778027034...</td>\n",
       "      <td>15</td>\n",
       "      <td>10</td>\n",
       "      <td>Sophie</td>\n",
       "      <td>https://pbs.twimg.com/media/Cswbc2yWcAAVsCJ.jpg</td>\n",
       "      <td>1.0</td>\n",
       "      <td>...</td>\n",
       "      <td>True</td>\n",
       "      <td>cocker_spaniel</td>\n",
       "      <td>0.015950</td>\n",
       "      <td>True</td>\n",
       "      <td>Lhasa</td>\n",
       "      <td>0.006519</td>\n",
       "      <td>True</td>\n",
       "      <td>1885</td>\n",
       "      <td>7320</td>\n",
       "      <td>pupper</td>\n",
       "    </tr>\n",
       "    <tr>\n",
       "      <th>979</th>\n",
       "      <td>749981277374128128</td>\n",
       "      <td>2016-07-04 15:00:45</td>\n",
       "      <td>TweetDeck</td>\n",
       "      <td>This is Atticus. He's quite simply America af....</td>\n",
       "      <td>https://twitter.com/dog_rates/status/749981277...</td>\n",
       "      <td>15</td>\n",
       "      <td>10</td>\n",
       "      <td>Atticus</td>\n",
       "      <td>https://pbs.twimg.com/media/CmgBZ7kWcAAlzFD.jpg</td>\n",
       "      <td>1.0</td>\n",
       "      <td>...</td>\n",
       "      <td>False</td>\n",
       "      <td>sunglasses</td>\n",
       "      <td>0.080822</td>\n",
       "      <td>False</td>\n",
       "      <td>sunglass</td>\n",
       "      <td>0.050776</td>\n",
       "      <td>False</td>\n",
       "      <td>2772</td>\n",
       "      <td>5569</td>\n",
       "      <td>doggo</td>\n",
       "    </tr>\n",
       "    <tr>\n",
       "      <th>1712</th>\n",
       "      <td>680494726643068929</td>\n",
       "      <td>2015-12-25 21:06:00</td>\n",
       "      <td>Twitter for iPhone</td>\n",
       "      <td>Here we have uncovered an entire battalion of ...</td>\n",
       "      <td>https://twitter.com/dog_rates/status/680494726...</td>\n",
       "      <td>15</td>\n",
       "      <td>10</td>\n",
       "      <td>Percy</td>\n",
       "      <td>https://pbs.twimg.com/media/CXGaVxOWAAADjhF.jpg</td>\n",
       "      <td>1.0</td>\n",
       "      <td>...</td>\n",
       "      <td>True</td>\n",
       "      <td>Samoyed</td>\n",
       "      <td>0.111622</td>\n",
       "      <td>True</td>\n",
       "      <td>Great_Pyrenees</td>\n",
       "      <td>0.064061</td>\n",
       "      <td>True</td>\n",
       "      <td>542</td>\n",
       "      <td>1879</td>\n",
       "      <td>pupper</td>\n",
       "    </tr>\n",
       "    <tr>\n",
       "      <th>2074</th>\n",
       "      <td>670842764863651840</td>\n",
       "      <td>2015-11-29 05:52:33</td>\n",
       "      <td>Twitter for iPhone</td>\n",
       "      <td>After so many requests... here you go.\\n\\nGood...</td>\n",
       "      <td>https://twitter.com/dog_rates/status/670842764...</td>\n",
       "      <td>15</td>\n",
       "      <td>10</td>\n",
       "      <td>Toby</td>\n",
       "      <td>https://pbs.twimg.com/media/CU9P717W4AAOlKx.jpg</td>\n",
       "      <td>1.0</td>\n",
       "      <td>...</td>\n",
       "      <td>False</td>\n",
       "      <td>accordion</td>\n",
       "      <td>0.094075</td>\n",
       "      <td>False</td>\n",
       "      <td>drumstick</td>\n",
       "      <td>0.061113</td>\n",
       "      <td>False</td>\n",
       "      <td>4324</td>\n",
       "      <td>7989</td>\n",
       "      <td>pupper</td>\n",
       "    </tr>\n",
       "  </tbody>\n",
       "</table>\n",
       "<p>5 rows × 22 columns</p>\n",
       "</div>"
      ],
      "text/plain": [
       "                tweet_id           timestamp              source  \\\n",
       "695   786709082849828864 2016-10-13 23:23:56  Twitter for iPhone   \n",
       "763   778027034220126208 2016-09-20 00:24:34  Twitter for iPhone   \n",
       "979   749981277374128128 2016-07-04 15:00:45           TweetDeck   \n",
       "1712  680494726643068929 2015-12-25 21:06:00  Twitter for iPhone   \n",
       "2074  670842764863651840 2015-11-29 05:52:33  Twitter for iPhone   \n",
       "\n",
       "                                              full_text  \\\n",
       "695   This is Logan, the Chow who lived. He solemnly...   \n",
       "763   This is Sophie. She's a Jubilant Bush Pupper. ...   \n",
       "979   This is Atticus. He's quite simply America af....   \n",
       "1712  Here we have uncovered an entire battalion of ...   \n",
       "2074  After so many requests... here you go.\\n\\nGood...   \n",
       "\n",
       "                                          expanded_urls  rating_numerator  \\\n",
       "695   https://twitter.com/dog_rates/status/786709082...                15   \n",
       "763   https://twitter.com/dog_rates/status/778027034...                15   \n",
       "979   https://twitter.com/dog_rates/status/749981277...                15   \n",
       "1712  https://twitter.com/dog_rates/status/680494726...                15   \n",
       "2074  https://twitter.com/dog_rates/status/670842764...                15   \n",
       "\n",
       "      rating_denominator     name  \\\n",
       "695                   10    Logan   \n",
       "763                   10   Sophie   \n",
       "979                   10  Atticus   \n",
       "1712                  10    Percy   \n",
       "2074                  10     Toby   \n",
       "\n",
       "                                              jpg_url  img_num  ...  \\\n",
       "695   https://pbs.twimg.com/media/CurzvFTXgAA2_AP.jpg      1.0  ...   \n",
       "763   https://pbs.twimg.com/media/Cswbc2yWcAAVsCJ.jpg      1.0  ...   \n",
       "979   https://pbs.twimg.com/media/CmgBZ7kWcAAlzFD.jpg      1.0  ...   \n",
       "1712  https://pbs.twimg.com/media/CXGaVxOWAAADjhF.jpg      1.0  ...   \n",
       "2074  https://pbs.twimg.com/media/CU9P717W4AAOlKx.jpg      1.0  ...   \n",
       "\n",
       "     prediction_1_dog    prediction_2 prediction_2_config prediction_2_dog  \\\n",
       "695              True     Persian_cat            0.122978            False   \n",
       "763              True  cocker_spaniel            0.015950             True   \n",
       "979             False      sunglasses            0.080822            False   \n",
       "1712             True         Samoyed            0.111622             True   \n",
       "2074            False       accordion            0.094075            False   \n",
       "\n",
       "        prediction_3 prediction_3_config prediction_3_dog  retweet_count  \\\n",
       "695             chow            0.102654             True           7069   \n",
       "763            Lhasa            0.006519             True           1885   \n",
       "979         sunglass            0.050776            False           2772   \n",
       "1712  Great_Pyrenees            0.064061             True            542   \n",
       "2074       drumstick            0.061113            False           4324   \n",
       "\n",
       "     favorite_count  dog_level  \n",
       "695           20296      puppo  \n",
       "763            7320     pupper  \n",
       "979            5569      doggo  \n",
       "1712           1879     pupper  \n",
       "2074           7989     pupper  \n",
       "\n",
       "[5 rows x 22 columns]"
      ]
     },
     "execution_count": 91,
     "metadata": {},
     "output_type": "execute_result"
    }
   ],
   "source": [
    "clean_twitter_archive[clean_twitter_archive.rating_numerator == clean_twitter_archive.rating_numerator.max()]"
   ]
  },
  {
   "cell_type": "code",
   "execution_count": 92,
   "id": "7665e885",
   "metadata": {},
   "outputs": [
    {
     "name": "stderr",
     "output_type": "stream",
     "text": [
      "C:\\Users\\Stephane\\AppData\\Local\\Temp\\ipykernel_8156\\2138863103.py:2: FutureWarning: Indexing with multiple keys (implicitly converted to a tuple of keys) will be deprecated, use a list instead.\n",
      "  clean_twitter_archive.groupby('dog_level')['rating_numerator','retweet_count','favorite_count'].mean()\n"
     ]
    },
    {
     "data": {
      "text/html": [
       "<div>\n",
       "<style scoped>\n",
       "    .dataframe tbody tr th:only-of-type {\n",
       "        vertical-align: middle;\n",
       "    }\n",
       "\n",
       "    .dataframe tbody tr th {\n",
       "        vertical-align: top;\n",
       "    }\n",
       "\n",
       "    .dataframe thead th {\n",
       "        text-align: right;\n",
       "    }\n",
       "</style>\n",
       "<table border=\"1\" class=\"dataframe\">\n",
       "  <thead>\n",
       "    <tr style=\"text-align: right;\">\n",
       "      <th></th>\n",
       "      <th>rating_numerator</th>\n",
       "      <th>retweet_count</th>\n",
       "      <th>favorite_count</th>\n",
       "    </tr>\n",
       "    <tr>\n",
       "      <th>dog_level</th>\n",
       "      <th></th>\n",
       "      <th></th>\n",
       "      <th></th>\n",
       "    </tr>\n",
       "  </thead>\n",
       "  <tbody>\n",
       "    <tr>\n",
       "      <th>doggo</th>\n",
       "      <td>11.653374</td>\n",
       "      <td>4387.450920</td>\n",
       "      <td>14994.898773</td>\n",
       "    </tr>\n",
       "    <tr>\n",
       "      <th>floofer</th>\n",
       "      <td>11.600000</td>\n",
       "      <td>4814.800000</td>\n",
       "      <td>17821.500000</td>\n",
       "    </tr>\n",
       "    <tr>\n",
       "      <th>pupper</th>\n",
       "      <td>10.146739</td>\n",
       "      <td>2165.759511</td>\n",
       "      <td>6528.261549</td>\n",
       "    </tr>\n",
       "    <tr>\n",
       "      <th>puppo</th>\n",
       "      <td>12.036496</td>\n",
       "      <td>5197.927007</td>\n",
       "      <td>18638.277372</td>\n",
       "    </tr>\n",
       "  </tbody>\n",
       "</table>\n",
       "</div>"
      ],
      "text/plain": [
       "           rating_numerator  retweet_count  favorite_count\n",
       "dog_level                                                 \n",
       "doggo             11.653374    4387.450920    14994.898773\n",
       "floofer           11.600000    4814.800000    17821.500000\n",
       "pupper            10.146739    2165.759511     6528.261549\n",
       "puppo             12.036496    5197.927007    18638.277372"
      ]
     },
     "execution_count": 92,
     "metadata": {},
     "output_type": "execute_result"
    }
   ],
   "source": [
    "# Lles moyennes de note,de retweet et de likes en fonction du dog_level\n",
    "clean_twitter_archive.groupby('dog_level')['rating_numerator','retweet_count','favorite_count'].mean()\n"
   ]
  },
  {
   "cell_type": "code",
   "execution_count": 93,
   "id": "14bab90f",
   "metadata": {},
   "outputs": [
    {
     "data": {
      "text/plain": [
       "Text(0, 0.5, 'Souce de tweet')"
      ]
     },
     "execution_count": 93,
     "metadata": {},
     "output_type": "execute_result"
    },
    {
     "data": {
      "image/png": "[encoded data removed]",
      "text/plain": [
       "<Figure size 936x576 with 1 Axes>"
      ]
     },
     "metadata": {
      "needs_background": "light"
     },
     "output_type": "display_data"
    }
   ],
   "source": [
    "## les sources de publications\n",
    "y=clean_twitter_archive.source.value_counts().plot(kind='barh',figsize=(13,8))\n",
    "plt.title('Nombre de tweets par souce')\n",
    "plt.xlabel('Nombre de tweet')\n",
    "plt.ylabel('Souce de tweet')\n"
   ]
  },
  {
   "cell_type": "code",
   "execution_count": 94,
   "id": "1f7de058",
   "metadata": {},
   "outputs": [
    {
     "data": {
      "text/plain": [
       "Text(0, 0.5, 'Nombre de likes et de retweet')"
      ]
     },
     "execution_count": 94,
     "metadata": {},
     "output_type": "execute_result"
    },
    {
     "data": {
      "image/png": "[encoded data removed]",
      "text/plain": [
       "<Figure size 936x576 with 1 Axes>"
      ]
     },
     "metadata": {
      "needs_background": "light"
     },
     "output_type": "display_data"
    }
   ],
   "source": [
    "### Nombre de like et de retweet\n",
    "clean_twitter_archive.groupby('dog_level')[['favorite_count','retweet_count']].sum().plot(kind='bar',figsize=(13,8))\n",
    "plt.title('Comparaison entre le nombre de like et de retweet par type de chien')\n",
    "plt.xlabel('Type de chien')\n",
    "plt.ylabel('Nombre de likes et de retweet')"
   ]
  },
  {
   "cell_type": "code",
   "execution_count": 95,
   "id": "d25b99c2",
   "metadata": {},
   "outputs": [
    {
     "data": {
      "text/plain": [
       "<AxesSubplot:title={'center':'La part des publications types de races des chiens par etape'}, ylabel='favorite_count'>"
      ]
     },
     "execution_count": 95,
     "metadata": {},
     "output_type": "execute_result"
    },
    {
     "data": {
      "image/png": "[encoded data removed]",
      "text/plain": [
       "<Figure size 936x576 with 1 Axes>"
      ]
     },
     "metadata": {},
     "output_type": "display_data"
    }
   ],
   "source": [
    "# la part des races de chiens par etape\n",
    "clean_twitter_archive.groupby('dog_level')['favorite_count'].sum().plot(kind='pie',legend='dog_level',title='La part des publications types de races des chiens par etape',figsize=(13,8))\n"
   ]
  },
  {
   "cell_type": "code",
   "execution_count": 96,
   "id": "4c9a994a",
   "metadata": {},
   "outputs": [
    {
     "data": {
      "text/plain": [
       "Text(0.5, 0, 'Nombre de chien')"
      ]
     },
     "execution_count": 96,
     "metadata": {},
     "output_type": "execute_result"
    },
    {
     "data": {
      "image/png": "[encoded data removed]",
      "text/plain": [
       "<Figure size 792x360 with 1 Axes>"
      ]
     },
     "metadata": {
      "needs_background": "light"
     },
     "output_type": "display_data"
    }
   ],
   "source": [
    "# Les noms qui reviennent plus \n",
    "clean_twitter_archive.name.value_counts()[1:11].plot(kind= 'barh', figsize=(11,5), title='Le top 10 des meilleur chiens').set_xlabel(\"Nombre de chien\")\n"
   ]
  },
  {
   "cell_type": "code",
   "execution_count": 97,
   "id": "85b3a55c",
   "metadata": {},
   "outputs": [
    {
     "data": {
      "text/plain": [
       "<AxesSubplot:title={'center':'Relation entre le retweet_count et la rating_numerator'}, xlabel='Nombre de retweet', ylabel='Note(rating_numerator)'>"
      ]
     },
     "execution_count": 97,
     "metadata": {},
     "output_type": "execute_result"
    },
    {
     "data": {
      "image/png": "[encoded data removed]",
      "text/plain": [
       "<Figure size 720x360 with 1 Axes>"
      ]
     },
     "metadata": {
      "needs_background": "light"
     },
     "output_type": "display_data"
    }
   ],
   "source": [
    "\n",
    "#le lien entre la note et le nombre de retweet\n",
    "clean_twitter_archive.plot(x='retweet_count',y='rating_numerator',kind='scatter',xlabel='Nombre de retweet',ylabel='Note(rating_numerator)',title='Relation entre le retweet_count et la rating_numerator',figsize=(10,5))\n"
   ]
  },
  {
   "cell_type": "code",
   "execution_count": 98,
   "id": "3aa420ba",
   "metadata": {},
   "outputs": [
    {
     "data": {
      "text/plain": [
       "<AxesSubplot:title={'center':'Relation entre le nombre de like et la rating_numerator'}, xlabel='Nombre de likes', ylabel='Note(rating_numerator)'>"
      ]
     },
     "execution_count": 98,
     "metadata": {},
     "output_type": "execute_result"
    },
    {
     "data": {
      "image/png": "[encoded data removed]",
      "text/plain": [
       "<Figure size 720x360 with 1 Axes>"
      ]
     },
     "metadata": {
      "needs_background": "light"
     },
     "output_type": "display_data"
    }
   ],
   "source": [
    "#le lien entre la note et le nombre de retweet\n",
    "clean_twitter_archive.plot(x='favorite_count',y='rating_numerator',kind='scatter',xlabel='Nombre de likes',ylabel='Note(rating_numerator)',title='Relation entre le nombre de like et la rating_numerator',figsize=(10,5))\n"
   ]
  },
  {
   "cell_type": "code",
   "execution_count": 99,
   "id": "654c4192",
   "metadata": {},
   "outputs": [
    {
     "data": {
      "text/plain": [
       "Text(0.5, 0, '(Anees , Mois )')"
      ]
     },
     "execution_count": 99,
     "metadata": {},
     "output_type": "execute_result"
    },
    {
     "data": {
      "image/png": "[encoded data removed]",
      "text/plain": [
       "<Figure size 936x576 with 1 Axes>"
      ]
     },
     "metadata": {
      "needs_background": "light"
     },
     "output_type": "display_data"
    }
   ],
   "source": [
    "#comparaison entre les retweets et les likes \n",
    "clean_twitter_archive.retweet_count.groupby([clean_twitter_archive[\"timestamp\"].dt.year, clean_twitter_archive[\"timestamp\"].dt.month]).mean().plot(kind='line',figsize=(13,8),color=\"r\")\n",
    "plt.title('Evolution des retweet sur toutes les periodes ')\n",
    "plt.ylabel('Nombre de retweet')\n",
    "plt.xlabel('(Anees , Mois )')\n"
   ]
  },
  {
   "cell_type": "code",
   "execution_count": 100,
   "id": "db133cb6",
   "metadata": {},
   "outputs": [
    {
     "data": {
      "text/plain": [
       "Text(0.5, 0, '(Anees , Mois )')"
      ]
     },
     "execution_count": 100,
     "metadata": {},
     "output_type": "execute_result"
    },
    {
     "data": {
      "image/png": "[encoded data removed]",
      "text/plain": [
       "<Figure size 936x576 with 1 Axes>"
      ]
     },
     "metadata": {
      "needs_background": "light"
     },
     "output_type": "display_data"
    }
   ],
   "source": [
    "#evolution des likes \n",
    "clean_twitter_archive.favorite_count.groupby([clean_twitter_archive[\"timestamp\"].dt.year, clean_twitter_archive[\"timestamp\"].dt.month]).mean().plot(kind='line',figsize=(13,8),color=\"b\")\n",
    "plt.title('Evolution des likes sur toutes les periodes ')\n",
    "plt.ylabel('Nombre de likes')\n",
    "plt.xlabel('(Anees , Mois )')"
   ]
  },
  {
   "cell_type": "code",
   "execution_count": 101,
   "id": "a77e1e70",
   "metadata": {},
   "outputs": [
    {
     "data": {
      "text/plain": [
       "Text(0, 0.5, 'Nombre de tweets')"
      ]
     },
     "execution_count": 101,
     "metadata": {},
     "output_type": "execute_result"
    },
    {
     "data": {
      "image/png": "[encoded data removed]",
      "text/plain": [
       "<Figure size 936x576 with 1 Axes>"
      ]
     },
     "metadata": {
      "needs_background": "light"
     },
     "output_type": "display_data"
    }
   ],
   "source": [
    "## evolution des posts \n",
    "donne = clean_twitter_archive.tweet_id.groupby([clean_twitter_archive[\"timestamp\"].dt.year, clean_twitter_archive[\"timestamp\"].dt.month]).count()\n",
    "ax = donne.plot( title=\"L'evolution du nombre de tweet durant les 3 annees\",figsize=(13,8))\n",
    "ax.set_xlabel(\"(Anee, mois)\")\n",
    "ax.set_ylabel(\"Nombre de tweets\")"
   ]
  },
  {
   "cell_type": "markdown",
   "id": "19441c07",
   "metadata": {},
   "source": [
    "## Reference pour certaines partie :\n",
    "le cours de udacity sur \"la preparation des donnees ainsi que des recherches quand j'ai rencotre des difficultes\""
   ]
  }
 ],
 "metadata": {
  "kernelspec": {
   "display_name": "Python 3 (ipykernel)",
   "language": "python",
   "name": "python3"
  },
  "language_info": {
   "codemirror_mode": {
    "name": "ipython",
    "version": 3
   },
   "file_extension": ".py",
   "mimetype": "text/x-python",
   "name": "python",
   "nbconvert_exporter": "python",
   "pygments_lexer": "ipython3",
   "version": "3.9.12"
  }
 },
 "nbformat": 4,
 "nbformat_minor": 5
}
