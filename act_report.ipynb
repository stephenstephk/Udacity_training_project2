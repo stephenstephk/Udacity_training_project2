{
 "cells": [
  {
   "cell_type": "markdown",
   "id": "4e45b274",
   "metadata": {},
   "source": [
    "# **Rapport de l'analyse des posts de weratedogts**"
   ]
  },
  {
   "cell_type": "markdown",
   "id": "55eade42",
   "metadata": {},
   "source": [
    "\n",
    "# Exemple :\n",
    "\n",
    "<img src=\"fig11.jpg\" width=\"800\">\n",
    "\n",
    "\n",
    "\n",
    "\n",
    "\n"
   ]
  },
  {
   "cell_type": "markdown",
   "id": "9eb09248",
   "metadata": {},
   "source": [
    "\n",
    "# 1. Les moyennes de note,de retweet et de likes en fonction du dog_level "
   ]
  },
  {
   "cell_type": "markdown",
   "id": "9f97f149",
   "metadata": {},
   "source": [
    "<img src=\"fig1.jpg\" width=\"800\">\n"
   ]
  },
  {
   "cell_type": "markdown",
   "id": "5979345f",
   "metadata": {},
   "source": [
    "#### Nous voyons que les chiens de type puppo ont une meilleure moyenne de note qui est de 12,036476 ,la meilleur moyenne de retweet  ainsi que la  2 meilleur moyenne de likes\n",
    "\n",
    "#### Quant aux publications sur les chiens de types floofer, elles sontt en moyenne les plus likees avec 17821.500000 de likes et avant derniere en terme de note et egalement en terme de retweet moyenne\n",
    "\n",
    "#### Concernant les posts pour les chiens de types pupper, elle sont moins bien note que tout les autres avec une moyenne d note de 10.146739 et en meme temps les posts avec les moins de likes et de retweet en moyenne \n",
    "\n",
    "#### Avec 18638.277372 comme moyenne de likes , les posts sur les puppo ont la meilleurs moyenne de likes "
   ]
  },
  {
   "cell_type": "markdown",
   "id": "dbe0ec25",
   "metadata": {},
   "source": [
    "# 2. Part des sources de publication"
   ]
  },
  {
   "cell_type": "markdown",
   "id": "69c7153c",
   "metadata": {},
   "source": [
    "<img src=\"fig2.jpg\" width=\"800\">\n"
   ]
  },
  {
   "cell_type": "markdown",
   "id": "f4725fd5",
   "metadata": {},
   "source": [
    "**Le constat ici est assez simple : la large majorite des post sont fait a partir d'un telephone Iphone**"
   ]
  },
  {
   "cell_type": "markdown",
   "id": "1d7121cc",
   "metadata": {},
   "source": [
    "# 3. comparaison entre les likes et les retweets par race ou type de chien"
   ]
  },
  {
   "cell_type": "markdown",
   "id": "e1d8bb6a",
   "metadata": {},
   "source": [
    "<img src=\"fig3.jpg\" width=\"800\">\n"
   ]
  },
  {
   "cell_type": "markdown",
   "id": "372e239a",
   "metadata": {},
   "source": [
    "**On constate que les chiens de race pupper sont les mieux like et reweete. Et logiquement quelques soit la race il ya plus de like que de retweet**"
   ]
  },
  {
   "cell_type": "markdown",
   "id": "5165df37",
   "metadata": {},
   "source": [
    "# 4. La repartion des publication par rapport des types de chiens"
   ]
  },
  {
   "cell_type": "markdown",
   "id": "543bdf69",
   "metadata": {},
   "source": [
    "<img src=\"fig4.jpg\" width=\"800\">\n"
   ]
  },
  {
   "cell_type": "markdown",
   "id": "0935d675",
   "metadata": {},
   "source": [
    "### Les posts ont beacoup faits sur les chiens de type pupper et moins sur les floofer"
   ]
  },
  {
   "cell_type": "markdown",
   "id": "3b9d1db3",
   "metadata": {},
   "source": [
    "# 5. Le top 10 des noms des chiens "
   ]
  },
  {
   "cell_type": "markdown",
   "id": "60d98960",
   "metadata": {},
   "source": [
    "<img src=\"fig5.jpg\" width=\"800\">\n"
   ]
  },
  {
   "cell_type": "markdown",
   "id": "c97fc1c4",
   "metadata": {},
   "source": [
    "**on remarque donc que le chiens du nom de cooper et lucy sont les deux nom qui reveiennet beaucoup souvent**"
   ]
  },
  {
   "cell_type": "markdown",
   "id": "f597f708",
   "metadata": {},
   "source": [
    "#  6. Releation entre les retweets et les notes "
   ]
  },
  {
   "cell_type": "markdown",
   "id": "1da11a78",
   "metadata": {},
   "source": [
    "<img src=\"fig6.jpg\" width=\"800\">\n"
   ]
  },
  {
   "cell_type": "markdown",
   "id": "391e033b",
   "metadata": {},
   "source": [
    "#### la majorite des tweets n'ont pas depasse les 20 000 milles retweets mais ont quand meme une note entre 10 et 14 "
   ]
  },
  {
   "cell_type": "markdown",
   "id": "9c2677a0",
   "metadata": {},
   "source": [
    "#  7. Releation entre les retweets et les notes "
   ]
  },
  {
   "cell_type": "markdown",
   "id": "758c4d43",
   "metadata": {},
   "source": [
    "<img src=\"fig7.jpg\" width=\"800\">\n"
   ]
  },
  {
   "cell_type": "markdown",
   "id": "bfdf7345",
   "metadata": {},
   "source": [
    "#### On cocntate que la majorite des post on une note entre  8  et  14 avec un nombre de retweet entre 1 et 45 000  avec un maximum de like de pres de 130 000 "
   ]
  },
  {
   "cell_type": "markdown",
   "id": "0eaa739c",
   "metadata": {},
   "source": [
    "# 8.L'evolution des likes sur toutes les periodes "
   ]
  },
  {
   "cell_type": "markdown",
   "id": "3ed55d2f",
   "metadata": {},
   "source": [
    "<img src=\"fig8.jpg\" width=\"800\">\n"
   ]
  },
  {
   "cell_type": "markdown",
   "id": "8e228b9c",
   "metadata": {},
   "source": [
    "### On remarque une augmantation constante du nombre de likes sur toute les periodes mais avec souvent des petites rechutes notmant au 2e mois 2017"
   ]
  },
  {
   "cell_type": "markdown",
   "id": "7cb70882",
   "metadata": {},
   "source": [
    "# 9.L'evolution des likes sur toutes les periodes "
   ]
  },
  {
   "cell_type": "markdown",
   "id": "c222e2e2",
   "metadata": {},
   "source": [
    "<img src=\"fig9.jpg\" width=\"800\">\n"
   ]
  },
  {
   "cell_type": "markdown",
   "id": "4da0803c",
   "metadata": {},
   "source": [
    "### Le constat est que le nombre de retweet augmente durant les 3 ans mais avec des chutes a certaines periodes notament au 8e mois 2016 "
   ]
  },
  {
   "cell_type": "markdown",
   "id": "e0e4416f",
   "metadata": {},
   "source": [
    "# 10. L'evolution des post durant toutes les 3 anees "
   ]
  },
  {
   "cell_type": "markdown",
   "id": "c7c87e0e",
   "metadata": {},
   "source": [
    "<img src=\"fig10.jpg\" width=\"800\">\n"
   ]
  },
  {
   "cell_type": "markdown",
   "id": "230e0366",
   "metadata": {},
   "source": [
    "#### On remarque une regression tres constante de nombre de tweet sur l'ensemble des periodes.\n",
    "\n",
    "#### En effet on remarque d'abord une petite croissance entre 11e mois 2015 a 12e mois 2015 avant de chuter de plus de 350 tweet jusqu'au 4 mouis de 2016 avec moins 50 tweet\n",
    "#### on remarque ensuite qu'entre 4 mois 2016 jusqu'au 7 mois 2017 le nombre de tweet reste preque le meme c'est a dire 50 et 100 tweets"
   ]
  },
  {
   "cell_type": "code",
   "execution_count": null,
   "id": "dc83736e",
   "metadata": {},
   "outputs": [],
   "source": []
  }
 ],
 "metadata": {
  "kernelspec": {
   "display_name": "Python 3 (ipykernel)",
   "language": "python",
   "name": "python3"
  },
  "language_info": {
   "codemirror_mode": {
    "name": "ipython",
    "version": 3
   },
   "file_extension": ".py",
   "mimetype": "text/x-python",
   "name": "python",
   "nbconvert_exporter": "python",
   "pygments_lexer": "ipython3",
   "version": "3.9.12"
  }
 },
 "nbformat": 4,
 "nbformat_minor": 5
}
